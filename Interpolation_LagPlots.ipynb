{
 "cells": [
  {
   "cell_type": "code",
   "execution_count": 25,
   "metadata": {
    "collapsed": true,
    "pycharm": {
     "name": "#%%\n"
    }
   },
   "outputs": [],
   "source": [
    "import os\n",
    "import pandas as pd\n",
    "import matplotlib.pyplot as plt\n",
    "import numpy as np\n",
    "from csv import reader\n",
    "from sklearn.metrics import r2_score\n",
    "from datetime import datetime\n",
    "from datetime import timedelta as tdelta\n",
    "from datetime import time as time"
   ]
  },
  {
   "cell_type": "code",
   "execution_count": 26,
   "metadata": {},
   "outputs": [],
   "source": [
    "from Helper_funcs import *"
   ]
  },
  {
   "attachments": {},
   "cell_type": "markdown",
   "metadata": {},
   "source": [
    "## I. Data import ##"
   ]
  },
  {
   "attachments": {},
   "cell_type": "markdown",
   "metadata": {
    "pycharm": {
     "name": "#%% md\n"
    }
   },
   "source": [
    "### I.a) Import positions ###"
   ]
  },
  {
   "cell_type": "code",
   "execution_count": 27,
   "metadata": {},
   "outputs": [],
   "source": [
    "csv_file_name = 'sensor_positions.csv'\n",
    "coords = []\n",
    "IDs = []\n",
    "dir_path = 'data/'\n",
    "\n",
    "stations_df = import_sensor_positions(dir_path, csv_file_name)\n",
    "stations_df.set_index('IDs', inplace=True)\n",
    "IDs = list(stations_df.index)\n",
    "\n",
    "del csv_file_name, coords"
   ]
  },
  {
   "attachments": {},
   "cell_type": "markdown",
   "metadata": {},
   "source": [
    "### I.b) Form groups based on distance between stations ###"
   ]
  },
  {
   "cell_type": "code",
   "execution_count": 28,
   "metadata": {},
   "outputs": [
    {
     "name": "stdout",
     "output_type": "stream",
     "text": [
      "create groups of sensors based on distance between them\n"
     ]
    }
   ],
   "source": [
    "groups = make_groups(IDs, stations_df)\n",
    "stations_df.insert(loc=1, column='grps', value=groups['grp'])\n",
    "\n",
    "del groups"
   ]
  },
  {
   "attachments": {},
   "cell_type": "markdown",
   "metadata": {},
   "source": [
    "### I.c) Import sound pressure values ###"
   ]
  },
  {
   "cell_type": "code",
   "execution_count": 29,
   "metadata": {
    "pycharm": {
     "name": "#%%\n"
    }
   },
   "outputs": [],
   "source": [
    "dir_path = './PreviousAssignments/data'\n",
    "csv_file_names = []\n",
    "\n",
    "for path in os.listdir(dir_path):\n",
    "    if os.path.isfile(os.path.join(dir_path, path)):\n",
    "        if path.find('data.csv') != -1:\n",
    "            csv_file_names.append(path)\n",
    "            \n",
    "del path, dir_path"
   ]
  },
  {
   "attachments": {},
   "cell_type": "markdown",
   "metadata": {
    "pycharm": {
     "name": "#%% md\n"
    }
   },
   "source": [
    "Append all csv files to a list of dataframes and add the id of the sensor to distinguish them later on"
   ]
  },
  {
   "cell_type": "code",
   "execution_count": 30,
   "metadata": {
    "pycharm": {
     "name": "#%%\n"
    }
   },
   "outputs": [],
   "source": [
    "list_df = []\n",
    "IDs = []\n",
    "\n",
    "\n",
    "for filename in csv_file_names:\n",
    "    df = pd.read_csv('./PreviousAssignments/data/' + filename, index_col=None, header=0)\n",
    "    df['Time'] = df.apply(lambda row: datetime.strptime(row['Time'], '%Y-%m-%d %H:%M:%S'), axis=1)\n",
    "    IDs.append(filename[12:16]);\n",
    "    list_df.append(df);\n",
    "\n",
    "# list_len = [len(df) for df in list_df];\n",
    "\n",
    "del filename, csv_file_names"
   ]
  },
  {
   "attachments": {},
   "cell_type": "markdown",
   "metadata": {},
   "source": [
    "### I.d) Get rid of duplicates and fill in missing timestamps ###\n",
    "-> data is transformed into uniformely sampled data with `np.nan()` in place of missing values\n",
    "-> start date is 2022.02.20 00:00:00, stop date is 2022.03.05 00:00:00\n",
    "-> all data is organised into a DataFrame, columns=Sensor IDs, index=Timestamps"
   ]
  },
  {
   "cell_type": "code",
   "execution_count": 31,
   "metadata": {},
   "outputs": [],
   "source": [
    "start_time = datetime.strptime('2022.02.20 00:00:00', '%Y.%m.%d %H:%M:%S')\n",
    "end_time = datetime.strptime('2022.03.05 00:00:00', '%Y.%m.%d %H:%M:%S')\n",
    "tindex = pd.date_range(start_time, end_time, freq='1min')\n",
    "data_label='dt_sound_level_dB'\n",
    "\n",
    "df_data_incomplete = pd.DataFrame(index=tindex, columns=IDs)\n",
    "\n",
    "idx = 0\n",
    "for df in list_df:\n",
    "    # get rid of redundant datapoints\n",
    "    df = df[df.Time >= start_time]\n",
    "    df = df[df.Time <= end_time]\n",
    "    df.drop_duplicates(subset='Time', keep='first', inplace=True)\n",
    "    \n",
    "    # index data by Time\n",
    "    df.index = pd.to_datetime(df['Time'])\n",
    "    df.drop(columns=['Time'], inplace=True)\n",
    "    df = df.reindex(tindex)\n",
    "    \n",
    "    df_data_incomplete[IDs[idx]] = df[data_label]\n",
    "    idx = idx + 1\n",
    "    \n",
    "#print(df_data_incomplete.isna().sum())\n",
    "\n",
    "del df, idx, list_df, data_label"
   ]
  },
  {
   "attachments": {},
   "cell_type": "markdown",
   "metadata": {
    "pycharm": {
     "name": "#%% md\n"
    }
   },
   "source": [
    "## II. Interpolation ##"
   ]
  },
  {
   "attachments": {},
   "cell_type": "markdown",
   "metadata": {},
   "source": [
    "### II.a) Simple interpolation ###\n",
    "-> 'nearest'\n",
    "\n",
    "-> 'linear'"
   ]
  },
  {
   "cell_type": "code",
   "execution_count": 32,
   "metadata": {
    "pycharm": {
     "name": "#%%\n"
    }
   },
   "outputs": [],
   "source": [
    "#interpolate data using 'nearest' method\n",
    "\n",
    "#temp_df = df_data_incomplete.interpolate(method='nearest')\n",
    "#df_data_nearest = temp_df.interpolate(limit_area=None, method='backfill')\n",
    "  \n",
    "#temp_df = df_data_incomplete.interpolate(method='linear')\n",
    "#df_data_linear = temp_df.interpolate(limit_area=None, method='backfill') \n",
    "#df_data_linear.apply(lambda x: np.round(x, 1), 1);\n"
   ]
  },
  {
   "attachments": {},
   "cell_type": "markdown",
   "metadata": {},
   "source": [
    "### II.b) Attempts on advanced interpolation ###"
   ]
  },
  {
   "attachments": {},
   "cell_type": "markdown",
   "metadata": {},
   "source": [
    "#### II.b.1) Raw data separation and filtering ####\n",
    "-> data is separated into 2 groups: workdays(`df_work_...`), weekenddays(`df_end_...`)\n",
    "\n",
    "-> average workday (`df_workd_mean`) and average weekend day (`df_endd_mean`) are created by averaging all available data for a specific timestamp of all workdays/weekend days"
   ]
  },
  {
   "cell_type": "code",
   "execution_count": 33,
   "metadata": {},
   "outputs": [],
   "source": [
    "day_str = datetime.strptime('2023.05.01 00:00:00', '%Y.%m.%d %H:%M:%S')\n",
    "day_stp = datetime.strptime('2023.05.01 23:59:59', '%Y.%m.%d %H:%M:%S')\n",
    "daindex = pd.date_range(day_str, day_stp, freq='1min')\n",
    "\n",
    "df_workd_mean = pd.DataFrame(index=daindex, columns=IDs)\n",
    "df_endd_mean = pd.DataFrame(index=daindex, columns=IDs)\n",
    "\n",
    "df_work_all = df_data_incomplete.loc[df_data_incomplete.index.day_of_week < 5].copy()\n",
    "df_end_all = df_data_incomplete.loc[df_data_incomplete.index.day_of_week > 4].copy()\n",
    "\n",
    "for moment in daindex:\n",
    "    idxs_work = df_work_all.index.indexer_at_time(moment.time())\n",
    "    idxs_end = df_end_all.index.indexer_at_time(moment.time())\n",
    "    # df_workd_mean - average workday of the station\n",
    "    df_workd_mean.loc[moment] = df_work_all.iloc[idxs_work].mean()\n",
    "    # df_endd_mean - average weekend day of the station\n",
    "    df_endd_mean.loc[moment] = df_end_all.iloc[idxs_end].mean()\n",
    "\n",
    "del day_stp, day_str, idxs_work, idxs_end, moment"
   ]
  },
  {
   "attachments": {},
   "cell_type": "markdown",
   "metadata": {},
   "source": [
    "#### II.b.4) Mean-day model interpolation ####\n",
    "-> mean work and weekend day are expanded into whole available time period for simpler computations"
   ]
  },
  {
   "cell_type": "code",
   "execution_count": 34,
   "metadata": {},
   "outputs": [
    {
     "name": "stdout",
     "output_type": "stream",
     "text": [
      "2004    1569\n",
      "2018    1740\n",
      "201D    1906\n",
      "2024    1678\n",
      "206D    2154\n",
      "2071    1622\n",
      "2078    2086\n",
      "2095    1493\n",
      "20A6    1961\n",
      "2148    1712\n",
      "230F    1954\n",
      "2349    2006\n",
      "dtype: int64\n"
     ]
    }
   ],
   "source": [
    "\n",
    "df_mean_ww = df_work_all.copy()\n",
    "df_mean_we = df_end_all.copy()\n",
    "\n",
    "for moment in daindex:\n",
    "    idxs_work = df_work_all.index.indexer_at_time(moment.time())\n",
    "    idxs_end = df_end_all.index.indexer_at_time(moment.time())\n",
    "    \n",
    "    df_mean_ww.iloc[idxs_work] = df_workd_mean.loc[moment]\n",
    "    df_mean_we.iloc[idxs_end] = df_endd_mean.loc[moment]\n",
    "    \n",
    "df_mean = pd.concat([df_mean_we, df_mean_ww], axis=0)\n",
    "df_mean.sort_index(inplace=True)\n",
    "\n",
    "del df_mean_ww, df_mean_we, idxs_end, idxs_work, moment, df_work_all, df_end_all\n",
    "\n",
    "print(df_mean.isna().sum())"
   ]
  },
  {
   "attachments": {},
   "cell_type": "markdown",
   "metadata": {},
   "source": [
    "#### II.b.3) Neighbor data interpolation ####\n",
    "Missing data is filled with data of neighboring sensors\n",
    "1) calculate correlation coefficients\n",
    "    1) for raw data\n",
    "    2) for average day\n",
    "2) calculate linear approximation (no offset)\n",
    "3) approximate missing data (only if raw data available)"
   ]
  },
  {
   "cell_type": "code",
   "execution_count": 35,
   "metadata": {},
   "outputs": [
    {
     "name": "stderr",
     "output_type": "stream",
     "text": [
      "C:\\Users\\radek\\AppData\\Local\\Temp\\ipykernel_1748\\20821138.py:19: SettingWithCopyWarning: \n",
      "A value is trying to be set on a copy of a slice from a DataFrame\n",
      "\n",
      "See the caveats in the documentation: https://pandas.pydata.org/pandas-docs/stable/user_guide/indexing.html#returning-a-view-versus-a-copy\n",
      "  stations_df['grps'][id] = group\n",
      "C:\\Users\\radek\\AppData\\Local\\Temp\\ipykernel_1748\\20821138.py:31: SettingWithCopyWarning: \n",
      "A value is trying to be set on a copy of a slice from a DataFrame\n",
      "\n",
      "See the caveats in the documentation: https://pandas.pydata.org/pandas-docs/stable/user_guide/indexing.html#returning-a-view-versus-a-copy\n",
      "  stations_df['grp_corrs_i'][id] = corrs\n",
      "C:\\Users\\radek\\AppData\\Local\\Temp\\ipykernel_1748\\20821138.py:19: SettingWithCopyWarning: \n",
      "A value is trying to be set on a copy of a slice from a DataFrame\n",
      "\n",
      "See the caveats in the documentation: https://pandas.pydata.org/pandas-docs/stable/user_guide/indexing.html#returning-a-view-versus-a-copy\n",
      "  stations_df['grps'][id] = group\n",
      "C:\\Users\\radek\\AppData\\Local\\Temp\\ipykernel_1748\\20821138.py:31: SettingWithCopyWarning: \n",
      "A value is trying to be set on a copy of a slice from a DataFrame\n",
      "\n",
      "See the caveats in the documentation: https://pandas.pydata.org/pandas-docs/stable/user_guide/indexing.html#returning-a-view-versus-a-copy\n",
      "  stations_df['grp_corrs_i'][id] = corrs\n",
      "C:\\Users\\radek\\AppData\\Local\\Temp\\ipykernel_1748\\20821138.py:19: SettingWithCopyWarning: \n",
      "A value is trying to be set on a copy of a slice from a DataFrame\n",
      "\n",
      "See the caveats in the documentation: https://pandas.pydata.org/pandas-docs/stable/user_guide/indexing.html#returning-a-view-versus-a-copy\n",
      "  stations_df['grps'][id] = group\n",
      "C:\\Users\\radek\\AppData\\Local\\Temp\\ipykernel_1748\\20821138.py:31: SettingWithCopyWarning: \n",
      "A value is trying to be set on a copy of a slice from a DataFrame\n",
      "\n",
      "See the caveats in the documentation: https://pandas.pydata.org/pandas-docs/stable/user_guide/indexing.html#returning-a-view-versus-a-copy\n",
      "  stations_df['grp_corrs_i'][id] = corrs\n",
      "C:\\Users\\radek\\AppData\\Local\\Temp\\ipykernel_1748\\20821138.py:19: SettingWithCopyWarning: \n",
      "A value is trying to be set on a copy of a slice from a DataFrame\n",
      "\n",
      "See the caveats in the documentation: https://pandas.pydata.org/pandas-docs/stable/user_guide/indexing.html#returning-a-view-versus-a-copy\n",
      "  stations_df['grps'][id] = group\n",
      "C:\\Users\\radek\\AppData\\Local\\Temp\\ipykernel_1748\\20821138.py:31: SettingWithCopyWarning: \n",
      "A value is trying to be set on a copy of a slice from a DataFrame\n",
      "\n",
      "See the caveats in the documentation: https://pandas.pydata.org/pandas-docs/stable/user_guide/indexing.html#returning-a-view-versus-a-copy\n",
      "  stations_df['grp_corrs_i'][id] = corrs\n",
      "C:\\Users\\radek\\AppData\\Local\\Temp\\ipykernel_1748\\20821138.py:19: SettingWithCopyWarning: \n",
      "A value is trying to be set on a copy of a slice from a DataFrame\n",
      "\n",
      "See the caveats in the documentation: https://pandas.pydata.org/pandas-docs/stable/user_guide/indexing.html#returning-a-view-versus-a-copy\n",
      "  stations_df['grps'][id] = group\n",
      "C:\\Users\\radek\\AppData\\Local\\Temp\\ipykernel_1748\\20821138.py:31: SettingWithCopyWarning: \n",
      "A value is trying to be set on a copy of a slice from a DataFrame\n",
      "\n",
      "See the caveats in the documentation: https://pandas.pydata.org/pandas-docs/stable/user_guide/indexing.html#returning-a-view-versus-a-copy\n",
      "  stations_df['grp_corrs_i'][id] = corrs\n",
      "C:\\Users\\radek\\AppData\\Local\\Temp\\ipykernel_1748\\20821138.py:19: SettingWithCopyWarning: \n",
      "A value is trying to be set on a copy of a slice from a DataFrame\n",
      "\n",
      "See the caveats in the documentation: https://pandas.pydata.org/pandas-docs/stable/user_guide/indexing.html#returning-a-view-versus-a-copy\n",
      "  stations_df['grps'][id] = group\n",
      "C:\\Users\\radek\\AppData\\Local\\Temp\\ipykernel_1748\\20821138.py:31: SettingWithCopyWarning: \n",
      "A value is trying to be set on a copy of a slice from a DataFrame\n",
      "\n",
      "See the caveats in the documentation: https://pandas.pydata.org/pandas-docs/stable/user_guide/indexing.html#returning-a-view-versus-a-copy\n",
      "  stations_df['grp_corrs_i'][id] = corrs\n",
      "C:\\Users\\radek\\AppData\\Local\\Temp\\ipykernel_1748\\20821138.py:19: SettingWithCopyWarning: \n",
      "A value is trying to be set on a copy of a slice from a DataFrame\n",
      "\n",
      "See the caveats in the documentation: https://pandas.pydata.org/pandas-docs/stable/user_guide/indexing.html#returning-a-view-versus-a-copy\n",
      "  stations_df['grps'][id] = group\n",
      "C:\\Users\\radek\\AppData\\Local\\Temp\\ipykernel_1748\\20821138.py:31: SettingWithCopyWarning: \n",
      "A value is trying to be set on a copy of a slice from a DataFrame\n",
      "\n",
      "See the caveats in the documentation: https://pandas.pydata.org/pandas-docs/stable/user_guide/indexing.html#returning-a-view-versus-a-copy\n",
      "  stations_df['grp_corrs_i'][id] = corrs\n"
     ]
    }
   ],
   "source": [
    "# 1.1)\n",
    "IDs_set = set(IDs);\n",
    "\n",
    "tdata = [[] for _ in range(len(stations_df))]\n",
    "stations_df['grp_corrs_i']= tdata\n",
    "icors = []\n",
    "ixx = []\n",
    "iscorr = []\n",
    "\n",
    "for id in IDs:\n",
    "    # 1) extract group of sensors\n",
    "    if id in stations_df.index:\n",
    "        group = set(stations_df.loc[id]['grps'])\n",
    "        # 2) filter out non-existing sensors\n",
    "        group = list(IDs_set & group)\n",
    "        # 3) extract data\n",
    "        group_df = df_data_incomplete[group]\n",
    "        single_df = df_data_incomplete[id]\n",
    "        stations_df['grps'][id] = group\n",
    "        corrs = []\n",
    "        icors = []\n",
    "        for fid in group:\n",
    "            # 5) determine lag for precision improvement\n",
    "            tempc = calculate_correlations(single_df, group_df[fid])\n",
    "            ttemp = list(np.absolute(tempc))\n",
    "            itemp = ttemp.index(max(ttemp))\n",
    "            ttuple = (tempc[itemp], itemp-10, fid)\n",
    "            corrs.append(ttuple)\n",
    "            icors.append(max(tempc))\n",
    "            \n",
    "        stations_df['grp_corrs_i'][id] = corrs\n",
    "        ixx.append(id)\n",
    "        iscorr.append(icors)\n",
    "        #print(corrs)\n",
    "\n",
    "del tempc, ttemp, itemp, ttuple, icors, group, corrs\n"
   ]
  },
  {
   "cell_type": "code",
   "execution_count": 36,
   "metadata": {},
   "outputs": [
    {
     "name": "stderr",
     "output_type": "stream",
     "text": [
      "C:\\Users\\radek\\AppData\\Local\\Temp\\ipykernel_1748\\2284793224.py:22: SettingWithCopyWarning: \n",
      "A value is trying to be set on a copy of a slice from a DataFrame\n",
      "\n",
      "See the caveats in the documentation: https://pandas.pydata.org/pandas-docs/stable/user_guide/indexing.html#returning-a-view-versus-a-copy\n",
      "  stations_df['grps'][id] = group\n",
      "C:\\Users\\radek\\AppData\\Local\\Temp\\ipykernel_1748\\2284793224.py:33: SettingWithCopyWarning: \n",
      "A value is trying to be set on a copy of a slice from a DataFrame\n",
      "\n",
      "See the caveats in the documentation: https://pandas.pydata.org/pandas-docs/stable/user_guide/indexing.html#returning-a-view-versus-a-copy\n",
      "  stations_df['grp_corrs_m'][id] = corrs\n",
      "C:\\Users\\radek\\AppData\\Local\\Temp\\ipykernel_1748\\2284793224.py:22: SettingWithCopyWarning: \n",
      "A value is trying to be set on a copy of a slice from a DataFrame\n",
      "\n",
      "See the caveats in the documentation: https://pandas.pydata.org/pandas-docs/stable/user_guide/indexing.html#returning-a-view-versus-a-copy\n",
      "  stations_df['grps'][id] = group\n",
      "C:\\Users\\radek\\AppData\\Local\\Temp\\ipykernel_1748\\2284793224.py:33: SettingWithCopyWarning: \n",
      "A value is trying to be set on a copy of a slice from a DataFrame\n",
      "\n",
      "See the caveats in the documentation: https://pandas.pydata.org/pandas-docs/stable/user_guide/indexing.html#returning-a-view-versus-a-copy\n",
      "  stations_df['grp_corrs_m'][id] = corrs\n",
      "C:\\Users\\radek\\AppData\\Local\\Temp\\ipykernel_1748\\2284793224.py:22: SettingWithCopyWarning: \n",
      "A value is trying to be set on a copy of a slice from a DataFrame\n",
      "\n",
      "See the caveats in the documentation: https://pandas.pydata.org/pandas-docs/stable/user_guide/indexing.html#returning-a-view-versus-a-copy\n",
      "  stations_df['grps'][id] = group\n",
      "C:\\Users\\radek\\AppData\\Local\\Temp\\ipykernel_1748\\2284793224.py:33: SettingWithCopyWarning: \n",
      "A value is trying to be set on a copy of a slice from a DataFrame\n",
      "\n",
      "See the caveats in the documentation: https://pandas.pydata.org/pandas-docs/stable/user_guide/indexing.html#returning-a-view-versus-a-copy\n",
      "  stations_df['grp_corrs_m'][id] = corrs\n",
      "C:\\Users\\radek\\AppData\\Local\\Temp\\ipykernel_1748\\2284793224.py:22: SettingWithCopyWarning: \n",
      "A value is trying to be set on a copy of a slice from a DataFrame\n",
      "\n",
      "See the caveats in the documentation: https://pandas.pydata.org/pandas-docs/stable/user_guide/indexing.html#returning-a-view-versus-a-copy\n",
      "  stations_df['grps'][id] = group\n",
      "C:\\Users\\radek\\AppData\\Local\\Temp\\ipykernel_1748\\2284793224.py:33: SettingWithCopyWarning: \n",
      "A value is trying to be set on a copy of a slice from a DataFrame\n",
      "\n",
      "See the caveats in the documentation: https://pandas.pydata.org/pandas-docs/stable/user_guide/indexing.html#returning-a-view-versus-a-copy\n",
      "  stations_df['grp_corrs_m'][id] = corrs\n",
      "C:\\Users\\radek\\AppData\\Local\\Temp\\ipykernel_1748\\2284793224.py:22: SettingWithCopyWarning: \n",
      "A value is trying to be set on a copy of a slice from a DataFrame\n",
      "\n",
      "See the caveats in the documentation: https://pandas.pydata.org/pandas-docs/stable/user_guide/indexing.html#returning-a-view-versus-a-copy\n",
      "  stations_df['grps'][id] = group\n",
      "C:\\Users\\radek\\AppData\\Local\\Temp\\ipykernel_1748\\2284793224.py:33: SettingWithCopyWarning: \n",
      "A value is trying to be set on a copy of a slice from a DataFrame\n",
      "\n",
      "See the caveats in the documentation: https://pandas.pydata.org/pandas-docs/stable/user_guide/indexing.html#returning-a-view-versus-a-copy\n",
      "  stations_df['grp_corrs_m'][id] = corrs\n",
      "C:\\Users\\radek\\AppData\\Local\\Temp\\ipykernel_1748\\2284793224.py:22: SettingWithCopyWarning: \n",
      "A value is trying to be set on a copy of a slice from a DataFrame\n",
      "\n",
      "See the caveats in the documentation: https://pandas.pydata.org/pandas-docs/stable/user_guide/indexing.html#returning-a-view-versus-a-copy\n",
      "  stations_df['grps'][id] = group\n",
      "C:\\Users\\radek\\AppData\\Local\\Temp\\ipykernel_1748\\2284793224.py:33: SettingWithCopyWarning: \n",
      "A value is trying to be set on a copy of a slice from a DataFrame\n",
      "\n",
      "See the caveats in the documentation: https://pandas.pydata.org/pandas-docs/stable/user_guide/indexing.html#returning-a-view-versus-a-copy\n",
      "  stations_df['grp_corrs_m'][id] = corrs\n",
      "C:\\Users\\radek\\AppData\\Local\\Temp\\ipykernel_1748\\2284793224.py:22: SettingWithCopyWarning: \n",
      "A value is trying to be set on a copy of a slice from a DataFrame\n",
      "\n",
      "See the caveats in the documentation: https://pandas.pydata.org/pandas-docs/stable/user_guide/indexing.html#returning-a-view-versus-a-copy\n",
      "  stations_df['grps'][id] = group\n",
      "C:\\Users\\radek\\AppData\\Local\\Temp\\ipykernel_1748\\2284793224.py:33: SettingWithCopyWarning: \n",
      "A value is trying to be set on a copy of a slice from a DataFrame\n",
      "\n",
      "See the caveats in the documentation: https://pandas.pydata.org/pandas-docs/stable/user_guide/indexing.html#returning-a-view-versus-a-copy\n",
      "  stations_df['grp_corrs_m'][id] = corrs\n"
     ]
    }
   ],
   "source": [
    "# 1.2)\n",
    "IDs_set = set(IDs);\n",
    "\n",
    "tdata = [[] for _ in range(len(stations_df))]\n",
    "stations_df['grp_corrs_m']= tdata\n",
    "\n",
    "mcors = []\n",
    "mxx = []\n",
    "\n",
    "mscors = []\n",
    "msxx = []\n",
    "\n",
    "for id in IDs:\n",
    "    # 1) extract group of sensors\n",
    "    if id in stations_df.index:\n",
    "        group = set(stations_df.loc[id]['grps'])\n",
    "        # 2) filter out non-existing sensors\n",
    "        group = list(IDs_set & group)\n",
    "        # 3) extract data\n",
    "        group_df = df_mean[group]\n",
    "        single_df = df_mean[id]\n",
    "        stations_df['grps'][id] = group\n",
    "        corrs = []\n",
    "        mcors = []\n",
    "        for fid in group:\n",
    "            # 5) determine lag for precision improvement\n",
    "            temp = calculate_correlations(single_df, group_df[fid])\n",
    "            ttemp = list(np.absolute(temp))\n",
    "            itemp = ttemp.index(max(ttemp))\n",
    "            ttuple = (temp[itemp], itemp-10, fid)\n",
    "            mcors.append(max(temp))\n",
    "            corrs.append(ttuple)\n",
    "        stations_df['grp_corrs_m'][id] = corrs\n",
    "        mxx.append(id)\n",
    "        mscors.append(mcors)\n",
    "        #print(corrs)\n",
    "\n",
    "del temp, ttemp, itemp, ttuple, mcors, group, corrs"
   ]
  },
  {
   "cell_type": "code",
   "execution_count": 37,
   "metadata": {},
   "outputs": [
    {
     "data": {
      "image/png": "[encoded data removed]",
      "text/plain": [
       "<Figure size 640x480 with 2 Axes>"
      ]
     },
     "metadata": {},
     "output_type": "display_data"
    }
   ],
   "source": [
    "fig, ax = plt.subplots(2,1)\n",
    "\n",
    "arr0 = []\n",
    "arr1 = []\n",
    "arr2 = []\n",
    "for i in range(0,len(iscorr)):\n",
    "    arr0.append(iscorr[i][0])\n",
    "    if len(iscorr[i]) > 1:\n",
    "        arr1.append(iscorr[i][1])\n",
    "    else:\n",
    "        arr1.append(0)\n",
    "        \n",
    "    if len(iscorr[i]) > 2:\n",
    "        arr2.append(iscorr[i][2])\n",
    "    else:\n",
    "        arr2.append(0)\n",
    "        \n",
    "X = np.arange(len(ixx))\n",
    "\n",
    "ax[0].set_xlabel('station ID')\n",
    "ax[0].set_ylabel('maximum correlation')\n",
    "ax[0].bar(X, arr0, color='r', width = 0.25)\n",
    "ax[0].bar(X-.25, arr1, color='g', width = 0.25)\n",
    "ax[0].bar(X+.25, arr2, color='b', width = 0.25, tick_label=ixx)\n",
    "ax[0].set_title('raw data')\n",
    "\n",
    "arr0 = []\n",
    "arr1 = []\n",
    "arr2 = []\n",
    "for i in range(0,len(mscors)):\n",
    "    arr0.append(mscors[i][0])\n",
    "    if len(mscors[i]) > 1:\n",
    "        arr1.append(mscors[i][1])\n",
    "    else:\n",
    "        arr1.append(0)\n",
    "        \n",
    "    if len(mscors[i]) > 2:\n",
    "        arr2.append(mscors[i][2])\n",
    "    else:\n",
    "        arr2.append(0)\n",
    "        \n",
    "X = np.arange(len(mxx))\n",
    "\n",
    "ax[1].set_xlabel('station ID')\n",
    "ax[1].set_ylabel('maximum correlation')\n",
    "ax[1].bar(X, arr0, color='r', width = 0.25, tick_label=mxx)\n",
    "ax[1].bar(X - .25, arr1, color='g', width = 0.25, tick_label=mxx)\n",
    "ax[1].bar(X + .25, arr2, color='b', width = 0.25, tick_label=mxx)\n",
    "ax[1].set_title('mean day data')\n",
    "\n",
    "fig.tight_layout()\n",
    "plt.show()\n",
    "\n",
    "del X, arr0, arr1, arr2, iscorr, ixx, mxx, mscors"
   ]
  },
  {
   "attachments": {},
   "cell_type": "markdown",
   "metadata": {},
   "source": [
    "Raw data clearly shows higher correlation than the averaged one - raw data will be used to fill missing values."
   ]
  },
  {
   "cell_type": "code",
   "execution_count": 38,
   "metadata": {},
   "outputs": [
    {
     "name": "stderr",
     "output_type": "stream",
     "text": [
      "C:\\Users\\radek\\AppData\\Local\\Temp\\ipykernel_1748\\1727399909.py:25: SettingWithCopyWarning: \n",
      "A value is trying to be set on a copy of a slice from a DataFrame\n",
      "\n",
      "See the caveats in the documentation: https://pandas.pydata.org/pandas-docs/stable/user_guide/indexing.html#returning-a-view-versus-a-copy\n",
      "  stations_df['grp_linear'][id] = beta\n",
      "C:\\Users\\radek\\AppData\\Local\\Temp\\ipykernel_1748\\1727399909.py:25: SettingWithCopyWarning: \n",
      "A value is trying to be set on a copy of a slice from a DataFrame\n",
      "\n",
      "See the caveats in the documentation: https://pandas.pydata.org/pandas-docs/stable/user_guide/indexing.html#returning-a-view-versus-a-copy\n",
      "  stations_df['grp_linear'][id] = beta\n",
      "C:\\Users\\radek\\AppData\\Local\\Temp\\ipykernel_1748\\1727399909.py:25: SettingWithCopyWarning: \n",
      "A value is trying to be set on a copy of a slice from a DataFrame\n",
      "\n",
      "See the caveats in the documentation: https://pandas.pydata.org/pandas-docs/stable/user_guide/indexing.html#returning-a-view-versus-a-copy\n",
      "  stations_df['grp_linear'][id] = beta\n",
      "C:\\Users\\radek\\AppData\\Local\\Temp\\ipykernel_1748\\1727399909.py:25: SettingWithCopyWarning: \n",
      "A value is trying to be set on a copy of a slice from a DataFrame\n",
      "\n",
      "See the caveats in the documentation: https://pandas.pydata.org/pandas-docs/stable/user_guide/indexing.html#returning-a-view-versus-a-copy\n",
      "  stations_df['grp_linear'][id] = beta\n",
      "C:\\Users\\radek\\AppData\\Local\\Temp\\ipykernel_1748\\1727399909.py:25: SettingWithCopyWarning: \n",
      "A value is trying to be set on a copy of a slice from a DataFrame\n",
      "\n",
      "See the caveats in the documentation: https://pandas.pydata.org/pandas-docs/stable/user_guide/indexing.html#returning-a-view-versus-a-copy\n",
      "  stations_df['grp_linear'][id] = beta\n",
      "C:\\Users\\radek\\AppData\\Local\\Temp\\ipykernel_1748\\1727399909.py:25: SettingWithCopyWarning: \n",
      "A value is trying to be set on a copy of a slice from a DataFrame\n",
      "\n",
      "See the caveats in the documentation: https://pandas.pydata.org/pandas-docs/stable/user_guide/indexing.html#returning-a-view-versus-a-copy\n",
      "  stations_df['grp_linear'][id] = beta\n",
      "C:\\Users\\radek\\AppData\\Local\\Temp\\ipykernel_1748\\1727399909.py:25: SettingWithCopyWarning: \n",
      "A value is trying to be set on a copy of a slice from a DataFrame\n",
      "\n",
      "See the caveats in the documentation: https://pandas.pydata.org/pandas-docs/stable/user_guide/indexing.html#returning-a-view-versus-a-copy\n",
      "  stations_df['grp_linear'][id] = beta\n"
     ]
    }
   ],
   "source": [
    "# 2) calculate betas and alphas\n",
    "   \n",
    "xx = []\n",
    "betas = []    \n",
    "    \n",
    "IDs_set = set(IDs);\n",
    "\n",
    "tdata = [[] for _ in range(len(stations_df))]\n",
    "stations_df['grp_linear']= tdata\n",
    "\n",
    "for id in IDs:\n",
    "    if id in stations_df.index:\n",
    "        group_ls = stations_df.loc[id]['grp_corrs_i']\n",
    "        single_df = df_data_incomplete[id]\n",
    "        beta = []\n",
    "        for ftup in group_ls:\n",
    "            # 5) determine lag for precision improvement\n",
    "            fid = ftup[2]\n",
    "            lag = ftup[1]\n",
    "            group_df = df_data_incomplete[fid]\n",
    "            tbe, tal = calculate_linear_regression(single_df, group_df, lag)\n",
    "            ttuple = (tbe, tal, lag, fid)\n",
    "            beta.append(ttuple)\n",
    "            \n",
    "        stations_df['grp_linear'][id] = beta\n",
    "        xx.append(id)\n",
    "        betas.append(beta)\n",
    "        \n",
    "del tbe, tal, ttuple, ftup, fid, lag, xx, beta, betas"
   ]
  },
  {
   "cell_type": "code",
   "execution_count": 39,
   "metadata": {},
   "outputs": [
    {
     "name": "stdout",
     "output_type": "stream",
     "text": [
      "2004    12766\n",
      "2018    13101\n",
      "201D    13245\n",
      "2024    12785\n",
      "206D    13632\n",
      "2071    13088\n",
      "2078    13020\n",
      "2095    12734\n",
      "20A6    13883\n",
      "2148    12464\n",
      "230F    13555\n",
      "2349    12658\n",
      "dtype: int64\n",
      "2004     6563\n",
      "2018     6546\n",
      "201D     7330\n",
      "2024     9901\n",
      "206D    13632\n",
      "2071    13088\n",
      "2078     6131\n",
      "2095    12734\n",
      "20A6     8196\n",
      "2148    12464\n",
      "230F    13555\n",
      "2349     9267\n",
      "dtype: int64\n"
     ]
    }
   ],
   "source": [
    "df_data_neighbor = df_data_incomplete.copy()\n",
    "group_df = pd.DataFrame()\n",
    "rmses = []\n",
    "xx = []\n",
    "\n",
    "# 3) Fill in missing values\n",
    "for id in IDs:\n",
    "    if id in stations_df.index:\n",
    "        group_ls = stations_df.loc[id]['grp_linear']\n",
    "        single_df = df_data_incomplete[id].copy()\n",
    "        betas = []\n",
    "        alphas = []\n",
    "        lags = []\n",
    "        group_df.drop(columns = group_df.columns, inplace=True)\n",
    "        for ftup in group_ls:\n",
    "            # 5) determine lag for precision improvement\n",
    "            beta = ftup[0]\n",
    "            alpha = ftup[1]\n",
    "            lag = ftup[2]\n",
    "            betas.append(beta)\n",
    "            alphas.append(alpha)\n",
    "            lags.append(lag)\n",
    "            group_df[ftup[3]] = df_data_incomplete[ftup[3]]\n",
    "        \n",
    "        df_neighbor_temp, rmset = fill_missing_values(single_df, group_df, lags, betas, alphas)  \n",
    "        df_data_neighbor[id] = df_neighbor_temp\n",
    "        rmses.append(rmset)\n",
    "        xx.append(id)\n",
    "\n",
    "print(df_data_incomplete.isna().sum())\n",
    "print(df_data_neighbor.isna().sum())"
   ]
  },
  {
   "attachments": {},
   "cell_type": "markdown",
   "metadata": {},
   "source": [
    "The values acquired by linear combination of all group stations are compared with original data of main station where possible. Used metric is RMSE"
   ]
  },
  {
   "cell_type": "code",
   "execution_count": 40,
   "metadata": {},
   "outputs": [
    {
     "data": {
      "image/png": "[encoded data removed]",
      "text/plain": [
       "<Figure size 640x480 with 1 Axes>"
      ]
     },
     "metadata": {},
     "output_type": "display_data"
    }
   ],
   "source": [
    "fig, ax = plt.subplots(1,1) \n",
    "\n",
    "arr0 = []\n",
    "arr1 = []\n",
    "arr2 = []\n",
    "arr3 = []\n",
    "for i in range(0,len(rmses)):\n",
    "    arr0.append(rmses[i][0])\n",
    "    if len(rmses[i]) > 1:\n",
    "        arr1.append(rmses[i][1])\n",
    "    else:\n",
    "        arr1.append(0)\n",
    "        \n",
    "    if len(rmses[i]) > 2:\n",
    "        arr2.append(rmses[i][2])\n",
    "    else:\n",
    "        arr2.append(0) \n",
    "    if len(rmses[i]) > 3:\n",
    "        arr3.append(rmses[i][3])\n",
    "    else:\n",
    "        arr3.append(0) \n",
    "        \n",
    "X = np.arange(len(xx))\n",
    "\n",
    "ax.set_xlabel('station ID')\n",
    "ax.set_ylabel('RMSE [dB]')\n",
    "ax.bar(X-.30, arr0, color='r', width = 0.20)\n",
    "ax.bar(X-.10, arr1, color='g', width = 0.20)\n",
    "ax.bar(X+.10, arr2, color='b', width = 0.20, tick_label=xx)\n",
    "ax.bar(X+.30, arr3, color='c', width = 0.20)\n",
    "ax.set_title('RMSE for interpolation using neighboring stations')\n",
    "ax.legend(['mean of all stations', 'group station 0',\n",
    "           'group station 1', 'group station 2'])\n",
    "\n",
    "\n",
    "fig.tight_layout()\n",
    "plt.show()\n",
    "        \n",
    "del xx, rmset, X, arr1, arr2, arr3, arr0"
   ]
  },
  {
   "attachments": {},
   "cell_type": "markdown",
   "metadata": {},
   "source": [
    "Since the combination of all members of the group does not always give best results, Kalman fiter assimilation approach is applied where RMSE is used as variance aproximation\n"
   ]
  },
  {
   "cell_type": "code",
   "execution_count": 41,
   "metadata": {},
   "outputs": [],
   "source": [
    "df_data_neighbor = df_data_incomplete.copy()\n",
    "group_df = pd.DataFrame()\n",
    "rmses1 = []\n",
    "xx = []\n",
    "\n",
    "# 3) Fill in missing values\n",
    "for id in IDs:\n",
    "    if id in stations_df.index:\n",
    "        group_ls = stations_df.loc[id]['grp_linear']\n",
    "        single_df = df_data_incomplete[id].copy()\n",
    "        betas = []\n",
    "        alphas = []\n",
    "        lags = []\n",
    "        group_df.drop(columns = group_df.columns, inplace=True)\n",
    "        for ftup in group_ls:\n",
    "            # 5) determine lag for precision improvement\n",
    "            beta = ftup[0]\n",
    "            alpha = ftup[1]\n",
    "            lag = ftup[2]\n",
    "            betas.append(beta)\n",
    "            alphas.append(alpha)\n",
    "            lags.append(lag)\n",
    "            group_df[ftup[3]] = df_data_incomplete[ftup[3]]\n",
    "        \n",
    "        df_neighbor_temp, rmset = fill_missing_values_assim(single_df, group_df, lags, betas, alphas)  \n",
    "        df_data_neighbor[id] = df_neighbor_temp\n",
    "        rmses1.append(rmset)\n",
    "        xx.append(id)\n",
    "        \n",
    "del beta, alpha, lag, betas, alphas, lags\n",
    "#print(df_data_incomplete.isna().sum())\n",
    "#print(df_data_neighbor.isna().sum())"
   ]
  },
  {
   "cell_type": "code",
   "execution_count": 42,
   "metadata": {},
   "outputs": [
    {
     "data": {
      "image/png": "[encoded data removed]",
      "text/plain": [
       "<Figure size 640x480 with 1 Axes>"
      ]
     },
     "metadata": {},
     "output_type": "display_data"
    }
   ],
   "source": [
    "fig, ax = plt.subplots(1,1) \n",
    "\n",
    "arr0 = []\n",
    "arr1 = []\n",
    "for i in range(0,len(rmses)):\n",
    "    arr0.append(rmses[i][0])\n",
    "\n",
    "for i in range(0,len(rmses1)):\n",
    "    arr1.append(rmses1[i][-1])\n",
    "        \n",
    "X = np.arange(len(xx))\n",
    "\n",
    "ax.set_xlabel('station ID')\n",
    "ax.set_ylabel('RMSE [dB]')\n",
    "ax.bar(X-.10, arr0, color='r', width = 0.20)\n",
    "ax.bar(X+.10, arr1, color='g', width = 0.20, tick_label=xx)\n",
    "ax.set_title('RMSE for interpolation using neighboring stations')\n",
    "ax.legend(['simple mean', 'variance based assimilation'])\n",
    "\n",
    "\n",
    "fig.tight_layout()\n",
    "plt.show()\n",
    "\n",
    "del rmses, rmses1, msxx, rmset, X, xx, ftup"
   ]
  },
  {
   "attachments": {},
   "cell_type": "markdown",
   "metadata": {},
   "source": [
    "Since using assimilation gives less errneous results, it will also be used to fill possible data gaps in mean day models"
   ]
  },
  {
   "cell_type": "code",
   "execution_count": 43,
   "metadata": {},
   "outputs": [],
   "source": [
    "# 4) Fill in missing values for mean day and weekend\n",
    "# 4.1) mean weekend\n",
    "rmses = []\n",
    "rmses1 = []\n",
    "xx = []\n",
    "df_endd_mean_n = df_endd_mean.copy()\n",
    "for id in IDs:\n",
    "    if id in stations_df.index:\n",
    "        group_ls = stations_df.loc[id]['grp_linear']\n",
    "        single_df = df_endd_mean[id].copy()\n",
    "        betas = []\n",
    "        alphas = []\n",
    "        lags = []\n",
    "        group_df.drop(columns = group_df.columns, inplace=True)\n",
    "        for ftup in group_ls:\n",
    "            # 5) determine lag for precision improvement\n",
    "            beta = ftup[0]\n",
    "            alpha = ftup[1]\n",
    "            lag = ftup[2]\n",
    "            betas.append(beta)\n",
    "            alphas.append(alpha)\n",
    "            lags.append(lag)\n",
    "            group_df[ftup[3]] = df_endd_mean[ftup[3]]\n",
    "        \n",
    "        df_neighbor_temp, rmset = fill_missing_values_assim(single_df, group_df, lags, betas, alphas)  \n",
    "        df_endd_mean_n[id] = df_neighbor_temp\n",
    "        rmses.append(rmset)\n",
    "        xx.append(id)\n",
    "        \n",
    "#temp_df = df_endd_mean_n.interpolate(method='nearest')\n",
    "#df_endd_mean_ne = temp_df.interpolate(limit_area=None, method='backfill')\n",
    "        \n",
    "del beta, alpha, lag, betas, alphas, lags, df_endd_mean\n",
    "#print(df_endd_mean.isna().sum())\n",
    "\n",
    "df_workd_mean_n = df_workd_mean.copy()\n",
    "for id in IDs:\n",
    "    if id in stations_df.index:\n",
    "        group_ls = stations_df.loc[id]['grp_linear']\n",
    "        single_df = df_workd_mean[id].copy()\n",
    "        betas = []\n",
    "        alphas = []\n",
    "        lags = []\n",
    "        group_df.drop(columns = group_df.columns, inplace=True)\n",
    "        for ftup in group_ls:\n",
    "            # 5) determine lag for precision improvement\n",
    "            beta = ftup[0]\n",
    "            alpha = ftup[1]\n",
    "            lag = ftup[2]\n",
    "            betas.append(beta)\n",
    "            alphas.append(alpha)\n",
    "            lags.append(lag)\n",
    "            group_df[ftup[3]] = df_workd_mean[ftup[3]]\n",
    "        \n",
    "        df_neighbor_temp, rmset = fill_missing_values_assim(single_df, group_df, lags, betas, alphas)  \n",
    "        df_workd_mean_n[id] = df_neighbor_temp\n",
    "        rmses1.append(rmset)\n",
    "        \n",
    "del beta, alpha, lag, betas, alphas, lags, df_workd_mean, df_neighbor_temp\n",
    "\n",
    "#print(df_workd_mean.isna().sum())\n",
    "#print(df_workd_mean_n.isna().sum())"
   ]
  },
  {
   "attachments": {},
   "cell_type": "markdown",
   "metadata": {},
   "source": [
    "#### II.b.4) Mean-day model interpolation ####\n",
    "-> mean work and weekend day are expanded into whole available time period for simpler computations"
   ]
  },
  {
   "cell_type": "code",
   "execution_count": 44,
   "metadata": {},
   "outputs": [],
   "source": [
    "df_mean_ww = df_data_incomplete.loc[df_data_incomplete.index.day_of_week < 5].copy()\n",
    "df_mean_we = df_data_incomplete.loc[df_data_incomplete.index.day_of_week > 4].copy()\n",
    "\n",
    "for moment in daindex:\n",
    "    idxs_work = df_mean_ww.index.indexer_at_time(moment.time())\n",
    "    idxs_end = df_mean_we.index.indexer_at_time(moment.time())\n",
    "    \n",
    "    df_mean_ww.iloc[idxs_work] = df_workd_mean_n.loc[moment]\n",
    "    df_mean_we.iloc[idxs_end] = df_endd_mean_n.loc[moment]\n",
    "    \n",
    "df_mean = pd.concat([df_mean_we, df_mean_ww], axis=0)\n",
    "df_mean.sort_index(inplace=True)\n",
    "\n",
    "del df_mean_ww, df_mean_we, idxs_end, idxs_work, moment"
   ]
  },
  {
   "attachments": {},
   "cell_type": "markdown",
   "metadata": {},
   "source": [
    "#### II.b.4) Determine resampling period ####\n",
    "\n",
    "Determine resampling period based on rmse=f(Tresample)\n",
    "\n",
    "1) for mean interpolation\n",
    "2) for linear interpolation\n",
    "\n",
    "The data is downsampled for sampling periods of [1, 2, 5, 10, 15, 20, 30, 60] minutes and rmse is calculated to provide an esimate for information loss"
   ]
  },
  {
   "attachments": {},
   "cell_type": "markdown",
   "metadata": {},
   "source": [
    "1) no interpolation - simple resampling"
   ]
  },
  {
   "cell_type": "code",
   "execution_count": 45,
   "metadata": {},
   "outputs": [
    {
     "name": "stdout",
     "output_type": "stream",
     "text": [
      "9360\n",
      "9360\n"
     ]
    },
    {
     "data": {
      "image/png": "[encoded data removed]",
      "text/plain": [
       "<Figure size 640x480 with 2 Axes>"
      ]
     },
     "metadata": {},
     "output_type": "display_data"
    }
   ],
   "source": [
    "list_rmses = []\n",
    "resample_pers = [1, 2, 5, 10, 15, 20, 30, 60]\n",
    "fig, ax = plt.subplots(2,1)\n",
    "\n",
    "\n",
    "no_interpolation_res = evaluate_resample(df_data_incomplete, df_data_incomplete) \n",
    "\n",
    "list_rmses.append(list(no_interpolation_res[0].mean()))\n",
    "list_rmses.append(list(no_interpolation_res[1].mean()))\n",
    "list_rmses.append(list(no_interpolation_res[2].mean()))\n",
    "\n",
    "ax[0] = init_ax_resamp(ax[0], resample_pers, list_rmses)\n",
    "ax[0].set_title('No interpolation, only downsampling')  \n",
    "\n",
    "mean_interpolation_res = evaluate_resample(df_data_incomplete, df_mean)\n",
    " \n",
    "list_rmses = []\n",
    "list_rmses.append(list(mean_interpolation_res[0].mean()))\n",
    "list_rmses.append(list(mean_interpolation_res[1].mean()))\n",
    "list_rmses.append(list(mean_interpolation_res[2].mean()))\n",
    "\n",
    "ax[1] = init_ax_resamp(ax[1], resample_pers, list_rmses)\n",
    "ax[1].set_title('Mean day interpolation')\n",
    "\n",
    "fig.tight_layout()\n",
    "plt.show()"
   ]
  },
  {
   "attachments": {},
   "cell_type": "markdown",
   "metadata": {},
   "source": [
    "1) mean interpolation - average days"
   ]
  },
  {
   "attachments": {},
   "cell_type": "markdown",
   "metadata": {},
   "source": [
    "Although simple downsampling shows lower error, it cannot be used, due to missing values. The average day uses larger datasets for computation, which reduces probability of missing datapoints and also offers simple way of updating the model, since each value is basically an average of all values within given time period.\n",
    "\n",
    "Period of 10mins was chosen due to reasonable precision (compared to other resample periods) and considerable memory savings."
   ]
  },
  {
   "cell_type": "code",
   "execution_count": 51,
   "metadata": {},
   "outputs": [],
   "source": [
    "df_mean = df_mean.resample('10T').mean()\n",
    "df_mean = df_mean.resample('1T').ffill()\n",
    "df_complete_temp = pd.DataFrame()\n",
    "df_data_complete = df_data_incomplete.copy()\n",
    "rmset = []\n",
    "rmses = []\n",
    "\n",
    "for id in IDs:\n",
    "    if id in stations_df.index:\n",
    "        group_ls = stations_df.loc[id]['grp_linear']\n",
    "        single_df = df_data_incomplete[id].copy()\n",
    "        betas = []\n",
    "        alphas = []\n",
    "        lags = []\n",
    "        group_df.drop(columns = group_df.columns, inplace=True)\n",
    "        for ftup in group_ls:\n",
    "            # 5) determine lag for precision improvement\n",
    "            beta = ftup[0]\n",
    "            alpha = ftup[1]\n",
    "            lag = ftup[2]\n",
    "            betas.append(beta)\n",
    "            alphas.append(alpha)\n",
    "            lags.append(lag)\n",
    "            group_df[ftup[3]] = df_data_incomplete[ftup[3]]\n",
    "            \n",
    "        betas.append(1)\n",
    "        alphas.append(0)\n",
    "        lags.append(0)\n",
    "        group_df['mean'] = df_mean[id]\n",
    "        \n",
    "        df_complete_temp, rmset = fill_missing_values_assim(single_df, group_df, lags, betas, alphas)  \n",
    "        df_data_complete[id] = df_complete_temp\n",
    "        rmses.append(rmset)\n",
    "        xx.append(id)\n"
   ]
  },
  {
   "cell_type": "code",
   "execution_count": 49,
   "metadata": {},
   "outputs": [],
   "source": [
    "df_mean = df_mean.resample('10T').mean()\n",
    "df_mean = df_mean.resample('1T').ffill()\n",
    "df_complete_temp = pd.DataFrame()\n",
    "df_data_complete = df_data_incomplete.copy()\n",
    "rmset = []\n",
    "rmsel = []\n",
    "xx = []\n",
    "\n",
    "for id in IDs:\n",
    "    if id in stations_df.index:\n",
    "        group_ls = stations_df.loc[id]['grp_linear']\n",
    "        single_df = df_data_incomplete[id].copy()\n",
    "        betas = []\n",
    "        alphas = []\n",
    "        lags = []\n",
    "        group_df.drop(columns = group_df.columns, inplace=True)\n",
    "        for ftup in group_ls:\n",
    "            # 5) determine lag for precision improvement\n",
    "            beta = ftup[0]\n",
    "            alpha = ftup[1]\n",
    "            lag = ftup[2]\n",
    "            betas.append(beta)\n",
    "            alphas.append(alpha)\n",
    "            lags.append(lag)\n",
    "            group_df[ftup[3]] = df_data_incomplete[ftup[3]]\n",
    "            \n",
    "        betas.append(1)\n",
    "        alphas.append(0)\n",
    "        lags.append(0)\n",
    "        group_df['mean'] = df_mean[id]\n",
    "        \n",
    "        df_complete_temp, rmset = fill_missing_values(single_df, group_df, lags, betas, alphas)  \n",
    "        df_data_complete[id] = df_complete_temp\n",
    "        rmsel.append(rmset)\n",
    "        xx.append(id)\n"
   ]
  },
  {
   "cell_type": "code",
   "execution_count": 52,
   "metadata": {},
   "outputs": [
    {
     "data": {
      "image/png": "[encoded data removed]",
      "text/plain": [
       "<Figure size 640x480 with 1 Axes>"
      ]
     },
     "metadata": {},
     "output_type": "display_data"
    }
   ],
   "source": [
    "fig, ax = plt.subplots(1,1) \n",
    "\n",
    "arr3 = []\n",
    "\n",
    "for i in range(0,len(rmses)):\n",
    "    arr3.append(rmses[i][-1])\n",
    "    \n",
    "arr2 = []\n",
    "\n",
    "for i in range(0,len(rmsel)):\n",
    "    arr2.append(rmsel[i][-1])\n",
    "\n",
    "xx = xx[0:7]\n",
    "X = np.arange(len(xx))\n",
    "\n",
    "ax.set_xlabel('station ID')\n",
    "ax.set_ylabel('RMSE [dB]')\n",
    "ax.set_xlabel('station ID')\n",
    "ax.set_ylabel('RMSE [dB]')\n",
    "ax.bar(X-.30, arr0, color='r', width = 0.20)\n",
    "ax.bar(X-.10, arr1, color='g', width = 0.20)\n",
    "ax.bar(X+.10, arr2, color='b', width = 0.20, tick_label=xx)\n",
    "ax.bar(X+.30, arr3, color='c', width = 0.20)\n",
    "\n",
    "ax.legend(['mean of all stations', 'group station 0',\n",
    "           'group station 1', 'group station 2'])\n",
    "\n",
    "ax.set_title('RMSE for interpolation using neighboring stations')\n",
    "ax.legend(['simple mean', 'variance based assimilation', 'complete mean', 'complete assimilation'])\n",
    "\n",
    "\n",
    "fig.tight_layout()\n",
    "plt.show()\n",
    "\n",
    "#del rmses, rmses1, msxx, rmset, X, xx, ftup"
   ]
  },
  {
   "attachments": {},
   "cell_type": "markdown",
   "metadata": {
    "pycharm": {
     "name": "#%% md\n"
    }
   },
   "source": [
    "# TESTING #"
   ]
  },
  {
   "cell_type": "code",
   "execution_count": null,
   "metadata": {},
   "outputs": [],
   "source": [
    "print(df_endd_mean.isna().sum())"
   ]
  },
  {
   "cell_type": "code",
   "execution_count": 53,
   "metadata": {},
   "outputs": [
    {
     "name": "stdout",
     "output_type": "stream",
     "text": [
      "5.433518610751507\n",
      "5.405921476738393\n",
      "5.644344612717336\n",
      "5.075577165372644\n"
     ]
    }
   ],
   "source": [
    "print(np.mean(arr0))\n",
    "print(np.mean(arr1))\n",
    "print(np.mean(arr2))\n",
    "print(np.mean(arr3))"
   ]
  },
  {
   "cell_type": "code",
   "execution_count": null,
   "metadata": {
    "pycharm": {
     "name": "#%%\n"
    }
   },
   "outputs": [],
   "source": [
    "print(df_data_neighbor.isna().sum())"
   ]
  },
  {
   "cell_type": "code",
   "execution_count": null,
   "metadata": {
    "pycharm": {
     "name": "#%%\n"
    }
   },
   "outputs": [],
   "source": [
    "def apply_assimilation(row, vars):\n",
    "    if row.isna().sum() == len(row):\n",
    "        return np.nan\n",
    "    rmt= vars[row.notna()]\n",
    "    rmt1 = np.zeros([len(rmt)])\n",
    "    idxs = np.arange(len(rmt))\n",
    "    for i in idxs:\n",
    "        rmt1[i] = np.prod(rmt[idxs != i])\n",
    "\n",
    "    k_kal = (rmt1) / sum(rmt1)\n",
    "        \n",
    "    row = row.dropna()\n",
    "    row = row * k_kal\n",
    "    \n",
    "    #2 ) return assimilated data\n",
    "    return row.sum()\n",
    "\n",
    "def fill_missing_values_assim1(df_data1, df_data2, lags, betas, alphas):\n",
    "    idx = 0\n",
    "    rmsev = np.zeros(len(alphas))\n",
    "    #) calculate linear regression + rmse for each member separately\n",
    "    for label in df_data2.columns:\n",
    "        df_data2[label] = df_data2[label].shift(periods=lags[idx]) * betas[idx] + alphas[idx]\n",
    "        \n",
    "        df_err = (df_data2[label] - df_data1)**2\n",
    "        rmsev[idx] = np.sqrt(df_err.mean())\n",
    "        \n",
    "        idx = idx + 1\n",
    "    #) use rmse as approximation of variation for kalman coefficients  \n",
    "    df_fill = df_data2.apply(lambda row: apply_assimilation(row, rmsev), axis=1)\n",
    "    \n",
    "    indexer = (df_data1.isna()) & (df_fill.notna())\n",
    "    \n",
    "    #) get rmse for reference\n",
    "    df_err = (df_fill - df_data1)**2    \n",
    "\n",
    "    rmsevv          = np.zeros(len(rmsev) + 1)\n",
    "    rmsevv[-1]      = (np.sqrt(df_err.mean()))\n",
    "\n",
    "    idx = 0\n",
    "    for idx in range(0, len(rmsev)):\n",
    "        rmsevv[idx]    = rmsev[idx]\n",
    "\n",
    "    \n",
    "    df_data1[indexer] = df_fill[indexer]\n",
    "    \n",
    "    return df_data1.copy(), rmsev\n",
    "\n",
    "group_df = pd.DataFrame()\n",
    "\n",
    "df_neighbor_temp = pd.DataFrame()\n",
    "id = IDs[0]\n",
    "group_ls = stations_df.loc[id]['grps']\n",
    "group_df[group_ls] = df_data_incomplete[group_ls]\n",
    "single_df = df_data_incomplete[id].copy()\n",
    "betas = [0.627250, 0.556386, 0.859106]\n",
    "alphas = [18.43014, 22.01305, 8.072565]\n",
    "lags = [5, 1, 0]\n",
    "\n",
    "df_neighbor_temp, rmset = fill_missing_values_assim1(single_df, group_df, lags, betas, alphas) "
   ]
  },
  {
   "cell_type": "code",
   "execution_count": null,
   "metadata": {},
   "outputs": [],
   "source": [
    "def apply_assimilation(row, vars):\n",
    "    rmt= vars[row.notna()]\n",
    "    rmt1 = np.zeros([len(rmt)])\n",
    "    idxs = np.arange(len(rmt))\n",
    "    for i in idxs:\n",
    "        rmt1[i] = np.prod(rmt[idxs != i])\n",
    "\n",
    "    k_kal = (rmt1) / sum(rmt1)\n",
    "\n",
    "    row = row.dropna()\n",
    "    row = row * k_kal\n",
    "    \n",
    "    #2 ) return assimilated data\n",
    "    return row.sum()\n",
    "ll = np.array(group_df.iloc[5])\n",
    "coefs = np.array([.1, .3, .5])\n",
    "apply_assimilation(ll, coefs)"
   ]
  },
  {
   "cell_type": "code",
   "execution_count": null,
   "metadata": {},
   "outputs": [],
   "source": [
    "ll =(group_df.iloc[5])\n",
    "ll.isna().sum()"
   ]
  },
  {
   "cell_type": "code",
   "execution_count": null,
   "metadata": {
    "pycharm": {
     "name": "#%%\n"
    }
   },
   "outputs": [],
   "source": [
    "ll = np.zeros(4)\n",
    "dd = np.ones(2)\n",
    "\n",
    "ll[0:-2] = dd\n",
    "print(ll)"
   ]
  }
 ],
 "metadata": {
  "kernelspec": {
   "display_name": "Python 3 (ipykernel)",
   "language": "python",
   "name": "python3"
  },
  "language_info": {
   "codemirror_mode": {
    "name": "ipython",
    "version": 3
   },
   "file_extension": ".py",
   "mimetype": "text/x-python",
   "name": "python",
   "nbconvert_exporter": "python",
   "pygments_lexer": "ipython3",
   "version": "3.11.3"
  }
 },
 "nbformat": 4,
 "nbformat_minor": 1
}
