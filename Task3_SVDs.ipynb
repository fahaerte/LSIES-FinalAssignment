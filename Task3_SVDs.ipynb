{
  "cells": [
    {
      "cell_type": "markdown",
      "metadata": {
        "id": "view-in-github",
        "colab_type": "text"
      },
      "source": [
        "<a href=\"https://colab.research.google.com/github/fahaerte/LSIES-FinalAssignment/blob/main/Task3_SVDs.ipynb\" target=\"_parent\"><img src=\"https://colab.research.google.com/assets/colab-badge.svg\" alt=\"Open In Colab\"/></a>"
      ]
    },
    {
      "cell_type": "markdown",
      "metadata": {
        "id": "sv8762Z-Tmu6"
      },
      "source": [
        "Execute the following cell to connect your google drive to the colab. Needed to load the data stored on your personal google drive. In case you use a local environment just comment out the following lines of code."
      ]
    },
    {
      "cell_type": "code",
      "execution_count": null,
      "metadata": {
        "id": "NLOx6dVVagbn"
      },
      "outputs": [],
      "source": [
        "# Environment variables\n",
        "drive = True\n",
        "install_packages = False\n",
        "\n",
        "# If necessary, install packages\n",
        "if install_packages:\n",
        "  !pip install Basemap basemap-data-hires\n",
        "  !pip install pandas matplotlib numpy\n",
        "  !pip install sklearn\n",
        "  !pip install datetime\n",
        "\n",
        "# Imports\n",
        "import os\n",
        "import pandas as pd\n",
        "import numpy as np\n",
        "from csv import reader\n",
        "from sklearn.metrics import r2_score\n",
        "from datetime import datetime\n",
        "from datetime import timedelta as tdelta\n",
        "from datetime import time as time\n",
        "import warnings\n",
        "\n",
        "# Mount drive if needed\n",
        "if drive:\n",
        "  from google.colab import drive\n",
        "  drive.mount('/content/drive')\n",
        "  %cd /content/drive/MyDrive/Colab\\ Notebooks/LSIES\n",
        "\n",
        "from Helper_funcs import *\n",
        "from SensorPositions_Func import *\n",
        "from SVD_Func import *\n",
        "\n",
        "warnings.simplefilter(action='ignore', category=FutureWarning)\n",
        "warnings.simplefilter(action='ignore', category=pd.errors.PerformanceWarning)\n",
        "\n",
        "# Depending on the environemnt, set directory to data\n",
        "if drive:\n",
        "  dir_path = '/content/drive/MyDrive/data/'\n",
        "else :\n",
        "  dir_path = './data/'\n",
        "\n",
        "folders = ['region_1_mustamäe_kristiine', 'region_2_data_kesklinn', 'region_3_kadriorg_lasnamäe', 'region_4_ülemiste']\n",
        "csv_file_name_sensor_positions = 'sensor_positions.csv'\n",
        "columns_sensors_positions = ['sensor_name', 'latitude', 'longitude', 'region']"
      ]
    },
    {
      "cell_type": "code",
      "execution_count": 2,
      "metadata": {
        "id": "HXNbnqfbawqV"
      },
      "outputs": [],
      "source": [
        "#Import data\n",
        "df_data_incomplete = import_sensor_data(dir_path)\n",
        "\n",
        "#interpolate data using 'nearest' method\n",
        "list_df_other = []\n",
        "list_df_linear = []\n",
        "list_df_nearest = []\n",
        "\n",
        "temp_df = df_data_incomplete.interpolate(method='nearest')\n",
        "df_data_nearest = temp_df.interpolate(limit_area=None, method='backfill')\n",
        "\n",
        "temp_df = df_data_incomplete.interpolate(method='linear')\n",
        "df_data_linear = temp_df.interpolate(limit_area=None, method='backfill')\n",
        "df_data_linear.apply(lambda x: np.round(x, 1), 1);"
      ]
    },
    {
      "cell_type": "code",
      "execution_count": 3,
      "metadata": {
        "id": "QHQd6BXJa0dx"
      },
      "outputs": [],
      "source": [
        "# Compute indices of timestamps\n",
        "day_index = np.where(np.logical_and(df_data_linear.index.time > pd.to_datetime('07:00').time(),\n",
        "                     df_data_linear.index.time < pd.to_datetime('19:00').time()))[0]\n",
        "\n",
        "evening_index = np.where(np.logical_and(df_data_linear.index.time >= pd.to_datetime('19:00').time(),\n",
        "                     df_data_linear.index.time <= pd.to_datetime('23:00').time()))[0]\n",
        "                     \n",
        "night_index = np.where(np.logical_or(\n",
        "    (df_data_linear.index.time > pd.to_datetime('23:00').time()),\n",
        "    (df_data_linear.index.time <= pd.to_datetime('07:00').time())))[0]"
      ]
    },
    {
      "cell_type": "code",
      "execution_count": 4,
      "metadata": {
        "id": "Nrj-l79fnsfV"
      },
      "outputs": [],
      "source": [
        "# Compute SVDs, RMSE and SingValues for every region\n",
        "sensor_positions_df = import_sensor_positions(dir_path, csv_file_name_sensor_positions)\n",
        "\n",
        "d = {'sensor names':sensor_positions_df['sensor_name'],'region':sensor_positions_df['region']}\n",
        "sensors = pd.DataFrame(d)\n",
        "sensors_region1 = sensors[sensors['region'] == 1]['sensor names']\n",
        "sensors_region2 = sensors[sensors['region'] == 2]['sensor names']\n",
        "sensors_region3 = sensors[sensors['region'] == 3]['sensor names']\n",
        "sensors_region4 = sensors[sensors['region'] == 4]['sensor names']\n",
        "\n",
        "del d, sensor_positions_df, csv_file_name_sensor_positions"
      ]
    },
    {
      "cell_type": "code",
      "execution_count": null,
      "metadata": {
        "id": "WZAWqoeTay1e"
      },
      "outputs": [],
      "source": [
        "# Compute global SVDs\n",
        "df_without_timestamp = df_data_linear.reset_index().iloc[:, 1:len(df_data_linear.columns)+1]\n",
        "U_global, s_global, Vt_global = np.linalg.svd(df_without_timestamp)\n",
        "del df_without_timestamp"
      ]
    },
    {
      "cell_type": "code",
      "execution_count": null,
      "metadata": {
        "id": "NZXlv2-bzKMD"
      },
      "outputs": [],
      "source": [
        "# Compute RMSE and SingVal based on time period for Global SVD\n",
        "rmse_list_day, amount_sing_values_day = calc_RMSE_sinVal_based_on_time_period(U_global, s_global, Vt_global, df_data_linear, day_index)\n",
        "rmse_list_evening, amount_sing_values_evening = calc_RMSE_sinVal_based_on_time_period(U_global, s_global, Vt_global, df_data_linear, evening_index)\n",
        "rmse_list_night, amount_sing_values_night = calc_RMSE_sinVal_based_on_time_period(U_global, s_global, Vt_global, df_data_linear, night_index)"
      ]
    },
    {
      "cell_type": "code",
      "execution_count": null,
      "metadata": {
        "id": "bQjhAD4aia89"
      },
      "outputs": [],
      "source": [
        "# Plot RMSE and Singular Values of global SVD\n",
        "plot_rmse_sinval(rmse_list_day, amount_sing_values_day, 'Global model - Day period')\n",
        "plot_rmse_sinval(rmse_list_evening, amount_sing_values_evening, 'Global model - Evening period')\n",
        "plot_rmse_sinval(rmse_list_night, amount_sing_values_night, 'Global model - Night period')"
      ]
    },
    {
      "cell_type": "code",
      "execution_count": null,
      "metadata": {
        "id": "3rUb9sWrmiLT"
      },
      "outputs": [],
      "source": [
        "# Collect garbage\n",
        "del rmse_list_day, amount_sing_values_day, rmse_list_evening, amount_sing_values_evening, rmse_list_night, amount_sing_values_night\n",
        "del temp_df, df_data_incomplete"
      ]
    },
    {
      "cell_type": "code",
      "execution_count": null,
      "metadata": {
        "id": "9Zd6QHuBzYNw"
      },
      "outputs": [],
      "source": [
        "# Compute SVDs for region 1\n",
        "U_reg1, s_reg1, Vt_reg1 = np.linalg.svd(df_data_linear[sensors_region1])"
      ]
    },
    {
      "cell_type": "code",
      "execution_count": null,
      "metadata": {
        "id": "-zHMntATr65c"
      },
      "outputs": [],
      "source": [
        "# Region 1\n",
        "rmse_list_day_reg1, amount_sing_values_day_reg1 = calc_RMSE_sinVal_based_on_time_period(U_reg1, s_reg1, Vt_reg1, df_data_linear[sensors_region1], day_index)\n",
        "rmse_list_evening_reg1, amount_sing_values_evening_reg1 = calc_RMSE_sinVal_based_on_time_period(U_reg1, s_reg1, Vt_reg1, df_data_linear[sensors_region1], evening_index)\n",
        "rmse_list_night_reg1, amount_sing_values_night_reg1 = calc_RMSE_sinVal_based_on_time_period(U_reg1, s_reg1, Vt_reg1, df_data_linear[sensors_region1], night_index)\n",
        "\n",
        "# Plot region 1\n",
        "plot_rmse_sinval(rmse_list_day_reg1, amount_sing_values_day_reg1, 'Region 1 model - Day period')\n",
        "plot_rmse_sinval(rmse_list_evening_reg1, amount_sing_values_evening_reg1, 'Region 1 model - Evening period')\n",
        "plot_rmse_sinval(rmse_list_night_reg1, amount_sing_values_night_reg1, 'Region 1 model - Night period')\n",
        "\n",
        "del rmse_list_day_reg1, rmse_list_evening_reg1, rmse_list_night_reg1, amount_sing_values_day_reg1, amount_sing_values_evening_reg1, amount_sing_values_night_reg1"
      ]
    },
    {
      "cell_type": "code",
      "execution_count": null,
      "metadata": {
        "id": "QYfc06olzeP_"
      },
      "outputs": [],
      "source": [
        "# Compute SVDs for region 2\n",
        "U_reg2, s_reg2, Vt_reg2 = np.linalg.svd(df_data_linear[sensors_region2])"
      ]
    },
    {
      "cell_type": "code",
      "execution_count": null,
      "metadata": {
        "id": "6-zNsuVAsolh"
      },
      "outputs": [],
      "source": [
        "# Region 2\n",
        "rmse_list_day_reg2, amount_sing_values_day_reg2 = calc_RMSE_sinVal_based_on_time_period(U_reg2, s_reg2, Vt_reg2, df_data_linear[sensors_region2], day_index)\n",
        "rmse_list_evening_reg2, amount_sing_values_evening_reg2 = calc_RMSE_sinVal_based_on_time_period(U_reg2, s_reg2, Vt_reg2, df_data_linear[sensors_region2], evening_index)\n",
        "rmse_list_night_reg2, amount_sing_values_night_reg2 = calc_RMSE_sinVal_based_on_time_period(U_reg2, s_reg2, Vt_reg2, df_data_linear[sensors_region2], night_index)\n",
        "\n",
        "# Plot region 2\n",
        "plot_rmse_sinval(rmse_list_day_reg2, amount_sing_values_day_reg2, 'Region 2 model - Day period')\n",
        "plot_rmse_sinval(rmse_list_evening_reg2, amount_sing_values_evening_reg2, 'Region 2 model - Evening period')\n",
        "plot_rmse_sinval(rmse_list_night_reg2, amount_sing_values_night_reg2, 'Region 2 model - Night period')\n",
        "\n",
        "del rmse_list_day_reg2, rmse_list_evening_reg2, rmse_list_night_reg2, amount_sing_values_day_reg2, amount_sing_values_evening_reg2, amount_sing_values_night_reg2"
      ]
    },
    {
      "cell_type": "code",
      "execution_count": null,
      "metadata": {
        "id": "_mpFtQCBzhI0"
      },
      "outputs": [],
      "source": [
        "# Compute SVDs for region 3\n",
        "U_reg3, s_reg3, Vt_reg3 = np.linalg.svd(df_data_linear[sensors_region3])"
      ]
    },
    {
      "cell_type": "code",
      "execution_count": null,
      "metadata": {
        "id": "iHV0SO9VspJs"
      },
      "outputs": [],
      "source": [
        "# Region 3\n",
        "rmse_list_day_reg3, amount_sing_values_day_reg3 = calc_RMSE_sinVal_based_on_time_period(U_reg3, s_reg3, Vt_reg3, df_data_linear[sensors_region3], day_index)\n",
        "rmse_list_evening_reg3, amount_sing_values_evening_reg3 = calc_RMSE_sinVal_based_on_time_period(U_reg3, s_reg3, Vt_reg3, df_data_linear[sensors_region3], evening_index)\n",
        "rmse_list_night_reg3, amount_sing_values_night_reg3 = calc_RMSE_sinVal_based_on_time_period(U_reg3, s_reg3, Vt_reg3, df_data_linear[sensors_region3], night_index)\n",
        "\n",
        "# Plot region 3\n",
        "plot_rmse_sinval(rmse_list_day_reg3, amount_sing_values_day_reg3, 'Region 3 model - Day period')\n",
        "plot_rmse_sinval(rmse_list_evening_reg3, amount_sing_values_evening_reg3, 'Region 3 model - Evening period')\n",
        "plot_rmse_sinval(rmse_list_night_reg3, amount_sing_values_night_reg3, 'Region 3 model - Night period')\n",
        "\n",
        "del rmse_list_day_reg3, rmse_list_evening_reg3, rmse_list_night_reg3, amount_sing_values_day_reg3, amount_sing_values_evening_reg3, amount_sing_values_night_reg3"
      ]
    },
    {
      "cell_type": "code",
      "execution_count": null,
      "metadata": {
        "id": "LT9PUcKlzkMt"
      },
      "outputs": [],
      "source": [
        "# Compute SVDs for region 4\n",
        "U_reg4, s_reg4, Vt_reg4 = np.linalg.svd(df_data_linear[sensors_region4])"
      ]
    },
    {
      "cell_type": "code",
      "execution_count": null,
      "metadata": {
        "id": "Euo-yAnjspiB"
      },
      "outputs": [],
      "source": [
        "# Region 4\n",
        "rmse_list_day_reg4, amount_sing_values_day_reg4 = calc_RMSE_sinVal_based_on_time_period(U_reg4, s_reg4, Vt_reg4, df_data_linear[sensors_region4], day_index)\n",
        "rmse_list_evening_reg4, amount_sing_values_evening_reg4 = calc_RMSE_sinVal_based_on_time_period(U_reg4, s_reg4, Vt_reg4, df_data_linear[sensors_region4], evening_index)\n",
        "rmse_list_night_reg4, amount_sing_values_night_reg4 = calc_RMSE_sinVal_based_on_time_period(U_reg4, s_reg4, Vt_reg4, df_data_linear[sensors_region4], night_index)\n",
        "\n",
        "# Plot region 4\n",
        "plot_rmse_sinval(rmse_list_day_reg4, amount_sing_values_day_reg4, 'Region 4 model - Day period')\n",
        "plot_rmse_sinval(rmse_list_evening_reg4, amount_sing_values_evening_reg4, 'Region 4 model - Evening period')\n",
        "plot_rmse_sinval(rmse_list_night_reg4, amount_sing_values_night_reg4, 'Region 4 model - Night period')\n",
        "\n",
        "del rmse_list_day_reg4, rmse_list_evening_reg4, rmse_list_night_reg4, amount_sing_values_day_reg4, amount_sing_values_evening_reg4, amount_sing_values_night_reg4"
      ]
    },
    {
      "cell_type": "code",
      "execution_count": null,
      "metadata": {
        "id": "eXzI_acfuUq2"
      },
      "outputs": [],
      "source": [
        "# Pick 4 stations and apply the different SVD models\n",
        "stat_list = [\n",
        "    {'id': '237B', 'region': 1, 'real_data': df_data_linear['237B']},\n",
        "    {'id': '23B1', 'region': 2, 'real_data': df_data_linear['23B1']},\n",
        "    {'id': '22CC', 'region': 3, 'real_data': df_data_linear['22CC']},\n",
        "    {'id': '2329', 'region': 4, 'real_data': df_data_linear['2329']}\n",
        "]\n",
        "\n",
        "# Compute global SVDs\n",
        "df_without_timestamp = df_data_linear.reset_index().iloc[:, 1:len(df_data_linear.columns)+1]\n",
        "U_global, s_global, Vt_global = np.linalg.svd(df_without_timestamp)\n",
        "s_global = keep_low_rank_model_of_svd(df=df_data_linear, s=s_global, rank=110) # RMSE approx 1.5 with a rank of 110\n",
        "\n",
        "for stat in stat_list:\n",
        "  stat['recon_global'] = apply_svd(df_data_linear, stat['id'], U_global, s_global, Vt_global)\n",
        "  stat = compare_results(stat, 'comp_to_global', stat['real_data'], stat['recon_global'])\n",
        "\n",
        "del df_without_timestamp, U_global, s_global, Vt_global\n",
        "\n",
        "# Compute SVDs for region 1\n",
        "U_reg1, s_reg1, Vt_reg1 = np.linalg.svd(df_data_linear[sensors_region1])\n",
        "s_reg1 = keep_low_rank_model_of_svd(df=df_data_linear[sensors_region1], s=s_reg1, rank=40) # RMSE approx 1 with a rank of 40\n",
        "stat_list[0]['recon_reg'] = apply_svd(df_data_linear[sensors_region1], stat_list[0]['id'], U_reg1, s_reg1, Vt_reg1)\n",
        "stat_list[0] = compare_results(stat_list[0], 'comp_to_recon_reg', stat_list[0]['real_data'], stat_list[0]['recon_reg'])\n",
        "\n",
        "del U_reg1, s_reg1, Vt_reg1\n",
        "\n",
        "# Compute SVDs for region 2\n",
        "U_reg2, s_reg2, Vt_reg2 = np.linalg.svd(df_data_linear[sensors_region2])\n",
        "s_reg2 = keep_low_rank_model_of_svd(df=df_data_linear[sensors_region2], s=s_reg2, rank=83) # RMSE approx 1 with a rank of 83\n",
        "stat_list[1]['recon_reg'] = apply_svd(df_data_linear[sensors_region2], stat_list[1]['id'], U_reg2, s_reg2, Vt_reg2)\n",
        "stat_list[1] = compare_results(stat_list[1], 'comp_to_recon_reg', stat_list[1]['real_data'], stat_list[1]['recon_reg'])\n",
        "\n",
        "del U_reg2, s_reg2, Vt_reg2\n",
        "\n",
        "# Compute SVDs for region 3\n",
        "U_reg3, s_reg3, Vt_reg3 = np.linalg.svd(df_data_linear[sensors_region3])\n",
        "s_reg3 = keep_low_rank_model_of_svd(df=df_data_linear[sensors_region3], s=s_reg3, rank=35) # RMSE approx 1 with a rank of 35\n",
        "stat_list[2]['recon_reg'] = apply_svd(df_data_linear[sensors_region3], stat_list[2]['id'], U_reg3, s_reg3, Vt_reg3)\n",
        "stat_list[2] = compare_results(stat_list[2], 'comp_to_recon_reg', stat_list[2]['real_data'], stat_list[2]['recon_reg'])\n",
        "\n",
        "del U_reg3, s_reg3, Vt_reg3\n",
        "\n",
        "# Compute SVDs for region 4\n",
        "U_reg4, s_reg4, Vt_reg4 = np.linalg.svd(df_data_linear[sensors_region4])\n",
        "s_reg4 = keep_low_rank_model_of_svd(df=df_data_linear[sensors_region4], s=s_reg4, rank=6) # RMSE approx 1 with a rank of 6\n",
        "stat_list[3]['recon_reg'] = apply_svd(df_data_linear[sensors_region4], stat_list[3]['id'], U_reg4, s_reg4, Vt_reg4)\n",
        "stat_list[3] = compare_results(stat_list[3], 'comp_to_recon_reg', stat_list[3]['real_data'], stat_list[3]['recon_reg'])\n",
        "\n",
        "del U_reg4, s_reg4, Vt_reg4"
      ]
    },
    {
      "cell_type": "code",
      "source": [
        "# Print values\n",
        "for stat in stat_list:\n",
        "  fstring = f\"SensorId, {stat['id']} in region {stat['region']}: RMSE: {stat['comp_to_recon_reg_rmse']} MAD: {stat['comp_to_recon_reg_mad']}\"\n",
        "  print(fstring)\n",
        "\n"
      ],
      "metadata": {
        "colab": {
          "base_uri": "https://localhost:8080/"
        },
        "id": "tuRmM4k5IWY_",
        "outputId": "ded92399-50d0-4a18-f3a5-9d7cc4ac24ad"
      },
      "execution_count": 6,
      "outputs": [
        {
          "output_type": "stream",
          "name": "stdout",
          "text": [
            "SensorId, 237B in region 1: RMSE: 0.7183918793822568 MAD: 4.297528286525896\n",
            "SensorId, 23B1 in region 2: RMSE: 0.668416066262428 MAD: 3.496353779639662\n",
            "SensorId, 22CC in region 3: RMSE: 1.7926991137765367 MAD: 4.2969234810456385\n",
            "SensorId, 2329 in region 4: RMSE: 1.039761680276122 MAD: 2.519483145556034\n"
          ]
        }
      ]
    }
  ],
  "metadata": {
    "colab": {
      "provenance": [],
      "include_colab_link": true
    },
    "gpuClass": "standard",
    "kernelspec": {
      "display_name": "Python 3",
      "language": "python",
      "name": "python3"
    },
    "language_info": {
      "codemirror_mode": {
        "name": "ipython",
        "version": 2
      },
      "file_extension": ".py",
      "mimetype": "text/x-python",
      "name": "python",
      "nbconvert_exporter": "python",
      "pygments_lexer": "ipython2",
      "version": "2.7.6"
    }
  },
  "nbformat": 4,
  "nbformat_minor": 0
}