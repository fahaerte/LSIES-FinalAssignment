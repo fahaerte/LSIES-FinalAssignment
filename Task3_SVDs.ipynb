{
  "cells": [
    {
      "cell_type": "markdown",
      "source": [
        "Create a SVD low-rank model of the noise data, for each of the three time periods. The model should be based on the whole time period, and the results reported for each time period. Compare this with a \"global model\" which is based on the ensemble average of all stations over each of the three time periods. In additional, compare the global model to ensemble averages and SVD low-rank models for each of the four regions. In total, you will have five resulting models: one global model with all regions + four regional models using station data from each region.\n",
        "\n",
        "Time periods:\n",
        "Day: 07:00-19:00\n",
        "Evening: 19:00-23:00\n",
        "Night: 23:00-07:00"
      ],
      "metadata": {
        "collapsed": false,
        "pycharm": {
          "name": "#%% md\n"
        },
        "id": "XOSp5x60TaoK"
      }
    },
    {
      "cell_type": "markdown",
      "source": [
        "Execute the following cell to connect your google drive to the colab. Needed to load the data stored on your personal google drive. In case you use a local environment just comment out the following lines of code."
      ],
      "metadata": {
        "id": "sv8762Z-Tmu6"
      }
    },
    {
      "cell_type": "code",
      "source": [
        "from google.colab import drive\n",
        "drive.mount('/content/drive')\n",
        "drive = True"
      ],
      "metadata": {
        "id": "qZJBtwleThsu",
        "outputId": "53e67532-62fb-46db-b3d5-4c50d89d8844",
        "colab": {
          "base_uri": "https://localhost:8080/"
        }
      },
      "execution_count": 11,
      "outputs": [
        {
          "output_type": "stream",
          "name": "stdout",
          "text": [
            "Drive already mounted at /content/drive; to attempt to forcibly remount, call drive.mount(\"/content/drive\", force_remount=True).\n"
          ]
        }
      ]
    },
    {
      "cell_type": "code",
      "execution_count": 12,
      "outputs": [],
      "source": [
        "import pandas as pd\n",
        "import os\n",
        "from datetime import datetime\n",
        "import matplotlib.pyplot as plt\n",
        "import numpy as np\n",
        "import warnings\n",
        "warnings.simplefilter(action='ignore', category=FutureWarning)\n",
        "warnings.simplefilter(action='ignore', category=pd.errors.PerformanceWarning)"
      ],
      "metadata": {
        "pycharm": {
          "name": "#%%\n"
        },
        "id": "JirXpBo6TaoQ"
      }
    },
    {
      "cell_type": "code",
      "execution_count": 13,
      "outputs": [],
      "source": [
        "if drive is not None and drive:\n",
        "  dir_path = '/content/drive/MyDrive/data/'\n",
        "else :\n",
        "  dir_path = './data/'\n",
        "\n",
        "folders = ['region_1_mustamäe_kristiine', 'region_2_data_kesklinn', 'region_3_kadriorg_lasnamäe', 'region_4_ülemiste']\n",
        "\n",
        "list_df = []\n",
        "sensor_names = []\n",
        "region_list = []\n",
        "\n",
        "for folder in folders:\n",
        "    for file in os.listdir(dir_path + folder):\n",
        "        sensor_name = file.split('-')[0]\n",
        "        region_list.append(int(folder.split('_')[1]))\n",
        "        sensor_names.append(file.split('-')[0])\n",
        "        df = pd.read_csv(dir_path + folder + \"/\" + file, index_col=None, header=0)\n",
        "        df['Time'] = df.apply(lambda row: datetime.strptime(row['Time'], '%Y-%m-%d %H:%M:%S'), axis=1)\n",
        "        df.rename(columns={'dt_sound_level_dB': sensor_name}, inplace=True)\n",
        "        list_df.append(df)"
      ],
      "metadata": {
        "pycharm": {
          "name": "#%%\n"
        },
        "id": "hW2Bo_dYTaoS"
      }
    },
    {
      "cell_type": "code",
      "execution_count": 14,
      "outputs": [],
      "source": [
        "start_time = datetime.strptime('2022.08.01 00:00:00', '%Y.%m.%d %H:%M:%S')\n",
        "end_time = datetime.strptime('2022.08.13 23:59:00', '%Y.%m.%d %H:%M:%S')\n",
        "\n",
        "df_counter = 0\n",
        "\n",
        "for df in list_df:\n",
        "    df = df[df.Time >= start_time]\n",
        "    df = df[df.Time <= end_time]\n",
        "\n",
        "    start_row = pd.DataFrame({'Time': start_time, 'dt_sound_level_dB': df.iloc[0][sensor_names[df_counter]]}, index=[0])\n",
        "    start_row['Time'] = pd.to_datetime(start_row['Time'])\n",
        "\n",
        "    end_row = pd.DataFrame({'Time': end_time, sensor_names[df_counter]: df.iloc[-1][sensor_names[df_counter]]}, index=[0])\n",
        "    end_row['Time'] = pd.to_datetime(end_row['Time'])\n",
        "\n",
        "    df['Time'] = pd.to_datetime(df['Time'])\n",
        "    df = df.set_index('Time')\n",
        "\n",
        "    if not (df.index == end_time).any():\n",
        "        df.loc[end_time] = [df.iloc[-1][sensor_names[df_counter]]]\n",
        "\n",
        "    if not (df.index == start_time).any():\n",
        "        df.loc[start_time] = [df.iloc[0][sensor_names[df_counter]]]\n",
        "\n",
        "    df = df.sort_values(by='Time')\n",
        "    df_counter += 1\n",
        "    # print(df.head())\n",
        "    # print(df.tail())\n",
        "    # print(\"--------------------------------------------------\")\n"
      ],
      "metadata": {
        "pycharm": {
          "name": "#%%\n"
        },
        "id": "4WOe9NO-Taoc"
      }
    },
    {
      "cell_type": "code",
      "execution_count": 15,
      "outputs": [
        {
          "output_type": "stream",
          "name": "stdout",
          "text": [
            "                     dummy\n",
            "Time                      \n",
            "2022-08-01 00:00:00      0\n",
            "2022-08-01 00:01:00      0\n",
            "2022-08-01 00:02:00      0\n",
            "2022-08-01 00:03:00      0\n",
            "2022-08-01 00:04:00      0\n"
          ]
        }
      ],
      "source": [
        "import datetime\n",
        "\n",
        "dt = start_time\n",
        "step = datetime.timedelta(minutes=1)\n",
        "result = []\n",
        "\n",
        "while dt < end_time:\n",
        "    result.append(dt.strftime('%Y.%m.%d %H:%M:%S'))\n",
        "    dt += step\n",
        "\n",
        "col = {'Time': result, 'dummy': 0}\n",
        "df_all_timestamps = pd.DataFrame(data=col)\n",
        "df_all_timestamps['Time'] = pd.to_datetime(df_all_timestamps['Time'])\n",
        "df_all_timestamps = df_all_timestamps.set_index('Time')\n",
        "\n",
        "print(df_all_timestamps.head())\n",
        "\n",
        "del df_counter, dt, start_time, end_time"
      ],
      "metadata": {
        "pycharm": {
          "name": "#%%\n"
        },
        "id": "R-c0gDZUTaof",
        "outputId": "8d215cf8-557b-449b-dc75-2a25b9541223",
        "colab": {
          "base_uri": "https://localhost:8080/"
        }
      }
    },
    {
      "cell_type": "code",
      "execution_count": 16,
      "outputs": [],
      "source": [
        "list_df_inter = []\n",
        "df_counter = 0\n",
        "df_all_data = df_all_timestamps.drop('dummy', axis=1)\n",
        "\n",
        "for df in list_df:\n",
        "    df = df_all_timestamps.merge(df, how='left', on='Time')\n",
        "    df = df.drop('dummy', axis=1)\n",
        "\n",
        "    while df[sensor_names[df_counter]].isnull().values.any():\n",
        "        df = df.interpolate(method='bfill', limit=1)\n",
        "        df = df.interpolate(method='ffill', limit=1)\n",
        "\n",
        "    df = df.set_index('Time')\n",
        "    df = df.resample('1T').mean()\n",
        "    df_counter += 1\n",
        "    df_all_data = df_all_data.merge(df, how='left', on='Time')\n",
        "\n",
        "del df_counter, df_all_timestamps, list_df"
      ],
      "metadata": {
        "pycharm": {
          "name": "#%%\n"
        },
        "id": "CxaGE1iaTaoh"
      }
    },
    {
      "cell_type": "code",
      "execution_count": 36,
      "outputs": [
        {
          "output_type": "stream",
          "name": "stdout",
          "text": [
            "                     2028  2093  2225  2078  2214  2233  2004  226E  2043  \\\n",
            "Time                                                                        \n",
            "2022-08-01 00:00:00  56.0  50.0  46.0  53.0  45.0  44.0  54.0  46.0  53.0   \n",
            "2022-08-01 00:01:00  56.0  53.0  46.0  53.0  45.0  44.0  54.0  46.0  53.0   \n",
            "2022-08-01 00:02:00  56.0  52.0  46.0  49.0  45.0  44.0  58.0  46.0  53.0   \n",
            "2022-08-01 00:03:00  56.0  60.0  46.0  49.0  45.0  44.0  58.0  46.0  53.0   \n",
            "2022-08-01 00:04:00  56.0  58.0  46.0  56.0  45.0  44.0  54.0  46.0  53.0   \n",
            "...                   ...   ...   ...   ...   ...   ...   ...   ...   ...   \n",
            "2022-08-13 23:54:00  54.0  60.0  47.0  57.0  45.0  44.0  56.0  46.0  56.0   \n",
            "2022-08-13 23:55:00  54.0  60.0  47.0  51.0  45.0  44.0  53.0  46.0  57.0   \n",
            "2022-08-13 23:56:00  59.0  57.0  47.0  51.0  45.0  44.0  53.0  46.0  54.0   \n",
            "2022-08-13 23:57:00  59.0  62.0  47.0  57.0  45.0  44.0  57.0  46.0  60.0   \n",
            "2022-08-13 23:58:00  59.0  61.0  47.0  57.0  45.0  44.0  57.0  46.0  61.0   \n",
            "\n",
            "                     20A6  ...  2346  23A9  2371  234E  229A  2317  229B  \\\n",
            "Time                       ...                                             \n",
            "2022-08-01 00:00:00  55.0  ...  62.0  45.0  45.0  51.0  49.0  45.0  47.0   \n",
            "2022-08-01 00:01:00  55.0  ...  62.0  45.0  45.0  51.0  49.0  45.0  47.0   \n",
            "2022-08-01 00:02:00  53.0  ...  62.0  45.0  45.0  51.0  49.0  45.0  47.0   \n",
            "2022-08-01 00:03:00  53.0  ...  62.0  45.0  45.0  51.0  49.0  45.0  47.0   \n",
            "2022-08-01 00:04:00  47.0  ...  62.0  45.0  45.0  51.0  49.0  45.0  47.0   \n",
            "...                   ...  ...   ...   ...   ...   ...   ...   ...   ...   \n",
            "2022-08-13 23:54:00  53.0  ...  58.0  45.0  49.0  55.0  49.0  49.0  49.0   \n",
            "2022-08-13 23:55:00  53.0  ...  53.0  45.0  49.0  55.0  49.0  49.0  49.0   \n",
            "2022-08-13 23:56:00  53.0  ...  55.0  45.0  49.0  55.0  49.0  49.0  49.0   \n",
            "2022-08-13 23:57:00  53.0  ...  53.0  45.0  49.0  55.0  49.0  49.0  49.0   \n",
            "2022-08-13 23:58:00  53.0  ...  54.5  45.0  49.0  55.0  49.0  49.0  49.0   \n",
            "\n",
            "                     2384  2311  22E5  \n",
            "Time                                   \n",
            "2022-08-01 00:00:00  45.0  49.0  48.0  \n",
            "2022-08-01 00:01:00  45.0  49.0  48.0  \n",
            "2022-08-01 00:02:00  45.0  49.0  48.0  \n",
            "2022-08-01 00:03:00  45.0  49.0  48.0  \n",
            "2022-08-01 00:04:00  45.0  49.0  48.0  \n",
            "...                   ...   ...   ...  \n",
            "2022-08-13 23:54:00  46.0  48.0  50.0  \n",
            "2022-08-13 23:55:00  46.0  48.0  50.0  \n",
            "2022-08-13 23:56:00  46.0  48.0  50.0  \n",
            "2022-08-13 23:57:00  46.0  48.0  50.0  \n",
            "2022-08-13 23:58:00  46.0  48.0  50.0  \n",
            "\n",
            "[18719 rows x 57 columns]\n"
          ]
        }
      ],
      "source": [
        "d = {'sensor names':sensor_names,'region':region_list}\n",
        "sensors = pd.DataFrame(d)\n",
        "sensors_region1 = sensors[sensors['region'] == 1]['sensor names']\n",
        "sensors_region2 = sensors[sensors['region'] == 2]['sensor names']\n",
        "sensors_region3 = sensors[sensors['region'] == 3]['sensor names']\n",
        "sensors_region4 = sensors[sensors['region'] == 4]['sensor names']\n",
        "\n",
        "print(df_all_data[sensors_region1])"
      ],
      "metadata": {
        "pycharm": {
          "name": "#%%\n"
        },
        "id": "9tBjofWpTaoi",
        "outputId": "75d4b3e9-cbe6-4a28-96e7-1679738ae10a",
        "colab": {
          "base_uri": "https://localhost:8080/"
        }
      }
    },
    {
      "cell_type": "code",
      "execution_count": 40,
      "outputs": [],
      "source": [
        "def calc_SVD_RMSE(df):\n",
        "    U, s, Vt = np.linalg.svd(df)\n",
        "\n",
        "    rank_range = range(1, len(df.columns) + 1)\n",
        "    rmse_list = []\n",
        "    amount_sing_values = []\n",
        "\n",
        "    for rank in rank_range:\n",
        "        Sigma = np.zeros((df.shape[0], df.shape[1]))\n",
        "        Sigma[:rank, :rank] = np.diag(s[:rank])\n",
        "        df_recon = U.dot(Sigma.dot(Vt))\n",
        "\n",
        "        rmse = np.sqrt(np.mean((df - df_recon)**2))\n",
        "        rmse_list.append(rmse.mean())\n",
        "        amount_sing_values.append(Sigma[rank-1][rank-1])\n",
        "\n",
        "    return rmse_list, amount_sing_values\n",
        "    "
      ],
      "metadata": {
        "pycharm": {
          "name": "#%%\n"
        },
        "id": "uqW80iqQTaoj"
      }
    },
    {
      "cell_type": "code",
      "execution_count": 42,
      "outputs": [
        {
          "output_type": "stream",
          "name": "stdout",
          "text": [
            "Region 1:\n",
            "Rank: 1 RMSE: 3.6347089518100977 Amount Singular Values: 56885.28331473521\n",
            "Rank: 2 RMSE: 3.4186587807918207 Amount Singular Values: 1276.68963333606\n",
            "Rank: 3 RMSE: 3.2608712288589037 Amount Singular Values: 1152.0826401552802\n",
            "Rank: 4 RMSE: 3.121262242432193 Amount Singular Values: 987.7724563266462\n",
            "Rank: 5 RMSE: 3.0250885319446668 Amount Singular Values: 828.5587233653115\n",
            "Rank: 6 RMSE: 2.9417819492432304 Amount Singular Values: 744.4252190043985\n",
            "Rank: 7 RMSE: 2.8684944665595054 Amount Singular Values: 685.1425735509091\n",
            "Rank: 8 RMSE: 2.8128781694764355 Amount Singular Values: 589.2458619434806\n",
            "Rank: 9 RMSE: 2.759125037074812 Amount Singular Values: 581.9004380077558\n",
            "Rank: 10 RMSE: 2.7047434664352297 Amount Singular Values: 565.9326991631903\n",
            "Rank: 11 RMSE: 2.648903600400773 Amount Singular Values: 554.6990058314032\n",
            "Rank: 12 RMSE: 2.597003942307918 Amount Singular Values: 545.6871214518345\n",
            "Rank: 13 RMSE: 2.545247149852797 Amount Singular Values: 540.208936626532\n",
            "Rank: 14 RMSE: 2.4961896501783216 Amount Singular Values: 521.8564155735637\n",
            "Rank: 15 RMSE: 2.4432392229386086 Amount Singular Values: 520.4214174483109\n",
            "Rank: 16 RMSE: 2.3922526691433257 Amount Singular Values: 508.79514152895075\n",
            "Rank: 17 RMSE: 2.341625559518883 Amount Singular Values: 499.2125625463586\n",
            "Rank: 18 RMSE: 2.2889559817834564 Amount Singular Values: 491.30115984631885\n",
            "Rank: 19 RMSE: 2.2417499170976147 Amount Singular Values: 482.1182128230395\n",
            "Rank: 20 RMSE: 2.190434518408668 Amount Singular Values: 480.7671646648696\n",
            "Rank: 21 RMSE: 2.1397975563440297 Amount Singular Values: 473.7216045656183\n",
            "Rank: 22 RMSE: 2.0934929601938506 Amount Singular Values: 463.43630672352595\n",
            "Rank: 23 RMSE: 2.040971880841216 Amount Singular Values: 459.6772392795487\n",
            "Rank: 24 RMSE: 1.9853324007324955 Amount Singular Values: 455.709214742499\n",
            "Rank: 25 RMSE: 1.9323244482282507 Amount Singular Values: 446.28529706929055\n",
            "Rank: 26 RMSE: 1.8826241773948929 Amount Singular Values: 441.3712215680818\n",
            "Rank: 27 RMSE: 1.8299451543454885 Amount Singular Values: 435.00607277986273\n",
            "Rank: 28 RMSE: 1.784674825702607 Amount Singular Values: 432.8144141994804\n",
            "Rank: 29 RMSE: 1.7237112593421533 Amount Singular Values: 431.27344385468984\n",
            "Rank: 30 RMSE: 1.6771601555322178 Amount Singular Values: 424.6171190338607\n",
            "Rank: 31 RMSE: 1.6222180067997256 Amount Singular Values: 418.56388375944084\n",
            "Rank: 32 RMSE: 1.5678907676401466 Amount Singular Values: 415.8169107717157\n",
            "Rank: 33 RMSE: 1.5151919795015312 Amount Singular Values: 409.93104776091394\n",
            "Rank: 34 RMSE: 1.4626718473728701 Amount Singular Values: 406.884177830631\n",
            "Rank: 35 RMSE: 1.4095829401912432 Amount Singular Values: 399.79134578214985\n",
            "Rank: 36 RMSE: 1.355047676236 Amount Singular Values: 392.7209401792199\n",
            "Rank: 37 RMSE: 1.3016726420984972 Amount Singular Values: 391.4551077232039\n",
            "Rank: 38 RMSE: 1.2502426347950437 Amount Singular Values: 387.17616446808086\n",
            "Rank: 39 RMSE: 1.20007137978624 Amount Singular Values: 384.25337729064023\n",
            "Rank: 40 RMSE: 1.1381395292901244 Amount Singular Values: 380.72298040286535\n",
            "Rank: 41 RMSE: 1.084864093577935 Amount Singular Values: 374.50243871501164\n",
            "Rank: 42 RMSE: 1.0316761557812129 Amount Singular Values: 369.64735442205694\n",
            "Rank: 43 RMSE: 0.9776862586014305 Amount Singular Values: 364.62658129476995\n",
            "Rank: 44 RMSE: 0.9180246918688101 Amount Singular Values: 363.0535322002544\n",
            "Rank: 45 RMSE: 0.8525432163641369 Amount Singular Values: 357.3330335357069\n",
            "Rank: 46 RMSE: 0.7782502524576674 Amount Singular Values: 354.1154740709001\n",
            "Rank: 47 RMSE: 0.7055871777298425 Amount Singular Values: 349.4949751648497\n",
            "Rank: 48 RMSE: 0.6402220552344209 Amount Singular Values: 335.4838856317835\n",
            "Rank: 49 RMSE: 0.5782217285901073 Amount Singular Values: 326.09477589549306\n",
            "Rank: 50 RMSE: 0.49398178825079947 Amount Singular Values: 325.45961425579713\n",
            "Rank: 51 RMSE: 0.41392541154125884 Amount Singular Values: 318.678977179495\n",
            "Rank: 52 RMSE: 0.3611649985707089 Amount Singular Values: 301.83672643981777\n",
            "Rank: 53 RMSE: 0.27796065484322285 Amount Singular Values: 299.87111447155013\n",
            "Rank: 54 RMSE: 0.21101177165772392 Amount Singular Values: 273.0004315622785\n",
            "Rank: 55 RMSE: 0.15187124118114473 Amount Singular Values: 260.3558239155519\n",
            "Rank: 56 RMSE: 0.0858195148971252 Amount Singular Values: 252.26694365713934\n",
            "Rank: 57 RMSE: 5.153772062048841e-14 Amount Singular Values: 229.1948593958246\n",
            "Region 2:\n",
            "Rank: 1 RMSE: 3.4376723322276543 Amount Singular Values: 83449.19414917564\n",
            "Rank: 2 RMSE: 3.277091460271279 Amount Singular Values: 1732.3060231469642\n",
            "Rank: 3 RMSE: 3.168404700852897 Amount Singular Values: 1348.9593924053772\n",
            "Rank: 4 RMSE: 3.07537577067188 Amount Singular Values: 1168.4979350681228\n",
            "Rank: 5 RMSE: 3.026494057387971 Amount Singular Values: 885.013545234144\n",
            "Rank: 6 RMSE: 2.9788588524324155 Amount Singular Values: 853.2287540410218\n",
            "Rank: 7 RMSE: 2.9434047159878265 Amount Singular Values: 726.3456731950617\n",
            "Rank: 8 RMSE: 2.910546319563162 Amount Singular Values: 704.9822296726041\n",
            "Rank: 9 RMSE: 2.8788790815847127 Amount Singular Values: 672.7957259432407\n",
            "Rank: 10 RMSE: 2.847488098111275 Amount Singular Values: 664.5036579290798\n",
            "Rank: 11 RMSE: 2.815173277908137 Amount Singular Values: 659.540624632418\n",
            "Rank: 12 RMSE: 2.783529077331313 Amount Singular Values: 652.4891419273631\n",
            "Rank: 13 RMSE: 2.754211026732148 Amount Singular Values: 612.0444166612502\n",
            "Rank: 14 RMSE: 2.7240323581565593 Amount Singular Values: 600.6955738570548\n",
            "Rank: 15 RMSE: 2.6961688534602093 Amount Singular Values: 592.6761676666778\n",
            "Rank: 16 RMSE: 2.6695768579835026 Amount Singular Values: 584.9015381810881\n",
            "Rank: 17 RMSE: 2.6422614944337357 Amount Singular Values: 577.3686046670032\n",
            "Rank: 18 RMSE: 2.614624629631077 Amount Singular Values: 569.0098571860124\n",
            "Rank: 19 RMSE: 2.5885873964840935 Amount Singular Values: 563.5125921589354\n",
            "Rank: 20 RMSE: 2.560527957922923 Amount Singular Values: 551.7149816457023\n",
            "Rank: 21 RMSE: 2.53661509171059 Amount Singular Values: 539.3990585790209\n",
            "Rank: 22 RMSE: 2.513297712391231 Amount Singular Values: 525.3605113714658\n",
            "Rank: 23 RMSE: 2.4890676248634502 Amount Singular Values: 521.2263500585242\n",
            "Rank: 24 RMSE: 2.466237541449287 Amount Singular Values: 517.6135290053427\n",
            "Rank: 25 RMSE: 2.4422373840030733 Amount Singular Values: 509.3042616008908\n",
            "Rank: 26 RMSE: 2.4192632119181354 Amount Singular Values: 506.9012613299624\n",
            "Rank: 27 RMSE: 2.3967721391170813 Amount Singular Values: 503.50492512816504\n",
            "Rank: 28 RMSE: 2.3735536815999256 Amount Singular Values: 502.31057799472296\n",
            "Rank: 29 RMSE: 2.349869163772385 Amount Singular Values: 498.5180622080038\n",
            "Rank: 30 RMSE: 2.3262068197226764 Amount Singular Values: 494.2503634394561\n",
            "Rank: 31 RMSE: 2.303061872280969 Amount Singular Values: 485.3270314624537\n",
            "Rank: 32 RMSE: 2.2801421519375227 Amount Singular Values: 482.51624155337674\n",
            "Rank: 33 RMSE: 2.2588404309343915 Amount Singular Values: 479.0519531852615\n",
            "Rank: 34 RMSE: 2.235836636732959 Amount Singular Values: 477.1167049490343\n",
            "Rank: 35 RMSE: 2.2133234852800836 Amount Singular Values: 475.4333994123627\n",
            "Rank: 36 RMSE: 2.1914522049572662 Amount Singular Values: 470.01269428063694\n",
            "Rank: 37 RMSE: 2.16895629507654 Amount Singular Values: 467.9191980860754\n",
            "Rank: 38 RMSE: 2.147932885348916 Amount Singular Values: 463.0770574761398\n",
            "Rank: 39 RMSE: 2.126769249709721 Amount Singular Values: 460.8087374809312\n",
            "Rank: 40 RMSE: 2.1056130668180324 Amount Singular Values: 453.94501385760174\n",
            "Rank: 41 RMSE: 2.082109319357397 Amount Singular Values: 452.53999225203336\n",
            "Rank: 42 RMSE: 2.0608929290362696 Amount Singular Values: 450.6635667589759\n",
            "Rank: 43 RMSE: 2.0398529438603354 Amount Singular Values: 446.4930179386783\n",
            "Rank: 44 RMSE: 2.0171704611790418 Amount Singular Values: 442.1832110234769\n",
            "Rank: 45 RMSE: 1.996251091841328 Amount Singular Values: 439.47095285864503\n",
            "Rank: 46 RMSE: 1.9746790373308396 Amount Singular Values: 432.10935551791806\n",
            "Rank: 47 RMSE: 1.9540085712144215 Amount Singular Values: 431.4354475262933\n",
            "Rank: 48 RMSE: 1.9325230047664161 Amount Singular Values: 430.19176719433597\n",
            "Rank: 49 RMSE: 1.9100433727562394 Amount Singular Values: 429.48306939223676\n",
            "Rank: 50 RMSE: 1.8880306317192546 Amount Singular Values: 427.05761781331216\n",
            "Rank: 51 RMSE: 1.8664252033808046 Amount Singular Values: 423.5190949701887\n",
            "Rank: 52 RMSE: 1.845589038885297 Amount Singular Values: 421.67558157195265\n",
            "Rank: 53 RMSE: 1.8242785062216305 Amount Singular Values: 416.6810722778075\n",
            "Rank: 54 RMSE: 1.8013987974807018 Amount Singular Values: 414.5974331801608\n",
            "Rank: 55 RMSE: 1.7804989052750113 Amount Singular Values: 412.491845620622\n",
            "Rank: 56 RMSE: 1.7596332805452433 Amount Singular Values: 410.24784065468737\n",
            "Rank: 57 RMSE: 1.7374758994530293 Amount Singular Values: 409.76847897408805\n",
            "Rank: 58 RMSE: 1.7147301887659336 Amount Singular Values: 409.15255367018233\n",
            "Rank: 59 RMSE: 1.693403898610778 Amount Singular Values: 404.71826864254984\n",
            "Rank: 60 RMSE: 1.6716385609395916 Amount Singular Values: 402.19624303190477\n",
            "Rank: 61 RMSE: 1.6504595842170267 Amount Singular Values: 398.22171178247646\n",
            "Rank: 62 RMSE: 1.6276113242362538 Amount Singular Values: 395.26783494676704\n",
            "Rank: 63 RMSE: 1.6047737105266462 Amount Singular Values: 394.3912460289343\n",
            "Rank: 64 RMSE: 1.582302537255426 Amount Singular Values: 392.6893149386314\n",
            "Rank: 65 RMSE: 1.5607045468389182 Amount Singular Values: 390.1043670591359\n",
            "Rank: 66 RMSE: 1.5394723560767114 Amount Singular Values: 386.33031744604654\n",
            "Rank: 67 RMSE: 1.5178204637928379 Amount Singular Values: 383.7987248415576\n",
            "Rank: 68 RMSE: 1.4959656281728233 Amount Singular Values: 382.86814097134317\n",
            "Rank: 69 RMSE: 1.47280918066998 Amount Singular Values: 378.7645844386896\n",
            "Rank: 70 RMSE: 1.4512233243886268 Amount Singular Values: 377.6440198708981\n",
            "Rank: 71 RMSE: 1.4295288234309331 Amount Singular Values: 376.36935383061973\n",
            "Rank: 72 RMSE: 1.4075411903414563 Amount Singular Values: 372.7893563371569\n",
            "Rank: 73 RMSE: 1.3859735060990512 Amount Singular Values: 370.4214106348831\n",
            "Rank: 74 RMSE: 1.363660728345225 Amount Singular Values: 367.93611232323036\n",
            "Rank: 75 RMSE: 1.341632087318255 Amount Singular Values: 365.5166834681827\n",
            "Rank: 76 RMSE: 1.318301378897018 Amount Singular Values: 365.3817741522608\n",
            "Rank: 77 RMSE: 1.2970601704431188 Amount Singular Values: 361.2300543043913\n",
            "Rank: 78 RMSE: 1.2767009622580496 Amount Singular Values: 358.72666380255276\n",
            "Rank: 79 RMSE: 1.255291084617095 Amount Singular Values: 357.71748642646696\n",
            "Rank: 80 RMSE: 1.2324115453232092 Amount Singular Values: 356.8195232789205\n",
            "Rank: 81 RMSE: 1.2090962513501622 Amount Singular Values: 354.7006509778149\n",
            "Rank: 82 RMSE: 1.1864103791246075 Amount Singular Values: 352.3297802758286\n",
            "Rank: 83 RMSE: 1.1637081033101455 Amount Singular Values: 350.2527144364262\n",
            "Rank: 84 RMSE: 1.1420794231439646 Amount Singular Values: 347.6600458140394\n",
            "Rank: 85 RMSE: 1.1209994819028541 Amount Singular Values: 346.3459681478177\n",
            "Rank: 86 RMSE: 1.097454966134055 Amount Singular Values: 345.183394807827\n",
            "Rank: 87 RMSE: 1.0728211362713538 Amount Singular Values: 344.3219784949394\n",
            "Rank: 88 RMSE: 1.0487209010530865 Amount Singular Values: 342.21122996532813\n",
            "Rank: 89 RMSE: 1.0243765814050927 Amount Singular Values: 336.4129176794184\n",
            "Rank: 90 RMSE: 1.0019960517308462 Amount Singular Values: 335.87082068052104\n",
            "Rank: 91 RMSE: 0.9792810333527904 Amount Singular Values: 333.62776510565305\n",
            "Rank: 92 RMSE: 0.9555771088780398 Amount Singular Values: 333.00647644338926\n",
            "Rank: 93 RMSE: 0.9320542608638358 Amount Singular Values: 331.3243403523856\n",
            "Rank: 94 RMSE: 0.9068274750749888 Amount Singular Values: 327.38329980396566\n",
            "Rank: 95 RMSE: 0.883819527320526 Amount Singular Values: 324.37747422192604\n",
            "Rank: 96 RMSE: 0.8590741084475638 Amount Singular Values: 322.58182539169104\n",
            "Rank: 97 RMSE: 0.8333355266418765 Amount Singular Values: 322.3011581912374\n",
            "Rank: 98 RMSE: 0.8078979666418045 Amount Singular Values: 319.24285700733225\n",
            "Rank: 99 RMSE: 0.7834054594162919 Amount Singular Values: 318.0869040692018\n",
            "Rank: 100 RMSE: 0.7595956001986087 Amount Singular Values: 314.1570563813349\n",
            "Rank: 101 RMSE: 0.7330408917464366 Amount Singular Values: 313.7283822494576\n",
            "Rank: 102 RMSE: 0.7073293919953073 Amount Singular Values: 310.610566805487\n",
            "Rank: 103 RMSE: 0.6800816127370525 Amount Singular Values: 309.18255997245785\n",
            "Rank: 104 RMSE: 0.6554339835625367 Amount Singular Values: 305.51108626254165\n",
            "Rank: 105 RMSE: 0.6275052309781071 Amount Singular Values: 304.60585041795105\n",
            "Rank: 106 RMSE: 0.5990744964806916 Amount Singular Values: 300.79444581030265\n",
            "Rank: 107 RMSE: 0.5732063537501204 Amount Singular Values: 297.86413342150655\n",
            "Rank: 108 RMSE: 0.5425812064043507 Amount Singular Values: 297.2627635832146\n",
            "Rank: 109 RMSE: 0.511340041617512 Amount Singular Values: 292.9221021934914\n",
            "Rank: 110 RMSE: 0.4828408797963611 Amount Singular Values: 290.0526218999724\n",
            "Rank: 111 RMSE: 0.45650186385617963 Amount Singular Values: 286.53377277217703\n",
            "Rank: 112 RMSE: 0.4245700206371774 Amount Singular Values: 286.22737590408275\n",
            "Rank: 113 RMSE: 0.39295146328607206 Amount Singular Values: 282.9696628192581\n",
            "Rank: 114 RMSE: 0.3669741688267209 Amount Singular Values: 278.34284201625377\n",
            "Rank: 115 RMSE: 0.33996687716734286 Amount Singular Values: 276.4137048634593\n",
            "Rank: 116 RMSE: 0.3089461709415933 Amount Singular Values: 269.26522757760097\n",
            "Rank: 117 RMSE: 0.2755156047968692 Amount Singular Values: 269.08217080611547\n",
            "Rank: 118 RMSE: 0.2393322093395896 Amount Singular Values: 263.92693012491526\n",
            "Rank: 119 RMSE: 0.1981679660369541 Amount Singular Values: 262.9425121075446\n",
            "Rank: 120 RMSE: 0.1518315057426004 Amount Singular Values: 257.7907718993854\n",
            "Rank: 121 RMSE: 0.10700807657040809 Amount Singular Values: 248.12004669511998\n",
            "Rank: 122 RMSE: 0.06087643565932616 Amount Singular Values: 236.91014170186222\n",
            "Rank: 123 RMSE: 7.79089086346423e-14 Amount Singular Values: 224.88199635389677\n",
            "Region 3:\n",
            "Rank: 1 RMSE: 3.5326492029249517 Amount Singular Values: 58548.656086777504\n",
            "Rank: 2 RMSE: 3.3481825701706907 Amount Singular Values: 1203.7300015664187\n",
            "Rank: 3 RMSE: 3.1991637391496637 Amount Singular Values: 1004.2524624710474\n",
            "Rank: 4 RMSE: 3.0998459977616197 Amount Singular Values: 823.7340007017642\n",
            "Rank: 5 RMSE: 3.0193232225837137 Amount Singular Values: 711.5243348076332\n",
            "Rank: 6 RMSE: 2.9315386580150156 Amount Singular Values: 692.9332242158862\n",
            "Rank: 7 RMSE: 2.863858806529617 Amount Singular Values: 643.5868328999164\n",
            "Rank: 8 RMSE: 2.801091909169246 Amount Singular Values: 606.003296452475\n",
            "Rank: 9 RMSE: 2.7396911126640893 Amount Singular Values: 585.4862033890846\n",
            "Rank: 10 RMSE: 2.675884871860613 Amount Singular Values: 580.4377149759089\n",
            "Rank: 11 RMSE: 2.6161599688431956 Amount Singular Values: 540.3157651452972\n",
            "Rank: 12 RMSE: 2.5587873957182223 Amount Singular Values: 529.0037948994593\n",
            "Rank: 13 RMSE: 2.5030943711867386 Amount Singular Values: 512.0003193925644\n",
            "Rank: 14 RMSE: 2.4515240022978166 Amount Singular Values: 495.74457319216896\n",
            "Rank: 15 RMSE: 2.4004092004212083 Amount Singular Values: 490.61935622060724\n",
            "Rank: 16 RMSE: 2.3455017550410733 Amount Singular Values: 477.2845712549347\n",
            "Rank: 17 RMSE: 2.2915931809408074 Amount Singular Values: 474.75564674200945\n",
            "Rank: 18 RMSE: 2.240795168221662 Amount Singular Values: 471.7861230313681\n",
            "Rank: 19 RMSE: 2.190433443945091 Amount Singular Values: 468.45438542358755\n",
            "Rank: 20 RMSE: 2.140299196603577 Amount Singular Values: 461.6868580525688\n",
            "Rank: 21 RMSE: 2.0872620630011056 Amount Singular Values: 454.3012557294547\n",
            "Rank: 22 RMSE: 2.028976918383509 Amount Singular Values: 450.65378788898727\n",
            "Rank: 23 RMSE: 1.9772954056871699 Amount Singular Values: 444.69932792264166\n",
            "Rank: 24 RMSE: 1.920982751322262 Amount Singular Values: 443.10536960449883\n",
            "Rank: 25 RMSE: 1.8673237052006355 Amount Singular Values: 437.22037921140196\n",
            "Rank: 26 RMSE: 1.8092676231347617 Amount Singular Values: 434.7966741163343\n",
            "Rank: 27 RMSE: 1.7599872933279084 Amount Singular Values: 430.7266913284407\n",
            "Rank: 28 RMSE: 1.7104322264608962 Amount Singular Values: 415.60434441514303\n",
            "Rank: 29 RMSE: 1.6579453999735354 Amount Singular Values: 413.5350080681246\n",
            "Rank: 30 RMSE: 1.6071604078548478 Amount Singular Values: 407.72683274030226\n",
            "Rank: 31 RMSE: 1.5515244590085198 Amount Singular Values: 405.13455499367876\n",
            "Rank: 32 RMSE: 1.4961767323185764 Amount Singular Values: 401.7608682756466\n",
            "Rank: 33 RMSE: 1.4445877223397503 Amount Singular Values: 396.7066082498084\n",
            "Rank: 34 RMSE: 1.385941539126655 Amount Singular Values: 390.00342131458285\n",
            "Rank: 35 RMSE: 1.3309986908270326 Amount Singular Values: 386.1255273028422\n",
            "Rank: 36 RMSE: 1.2745709600766315 Amount Singular Values: 381.67845338250373\n",
            "Rank: 37 RMSE: 1.2248954735567619 Amount Singular Values: 376.11923855068284\n",
            "Rank: 38 RMSE: 1.1655721756921438 Amount Singular Values: 373.4517788203944\n",
            "Rank: 39 RMSE: 1.1130283545800026 Amount Singular Values: 367.65444452659386\n",
            "Rank: 40 RMSE: 1.0564087248428273 Amount Singular Values: 366.2756658012533\n",
            "Rank: 41 RMSE: 0.9979772818524669 Amount Singular Values: 362.1820659510614\n",
            "Rank: 42 RMSE: 0.9347597980399337 Amount Singular Values: 358.32408330397595\n",
            "Rank: 43 RMSE: 0.875964094906899 Amount Singular Values: 355.6363244303611\n",
            "Rank: 44 RMSE: 0.7979984835351592 Amount Singular Values: 352.667216836995\n",
            "Rank: 45 RMSE: 0.7412406541117745 Amount Singular Values: 348.2422726403883\n",
            "Rank: 46 RMSE: 0.6799611129670174 Amount Singular Values: 338.68962548894285\n",
            "Rank: 47 RMSE: 0.6178009430000216 Amount Singular Values: 333.7428354941296\n",
            "Rank: 48 RMSE: 0.5455386740835666 Amount Singular Values: 331.71835665276984\n",
            "Rank: 49 RMSE: 0.4777731591322028 Amount Singular Values: 323.9274380313395\n",
            "Rank: 50 RMSE: 0.386438399344341 Amount Singular Values: 322.7042598524903\n",
            "Rank: 51 RMSE: 0.2650794248768253 Amount Singular Values: 320.1608211456942\n",
            "Rank: 52 RMSE: 0.13639468760050097 Amount Singular Values: 310.55497205695144\n",
            "Rank: 53 RMSE: 9.230477176503761e-14 Amount Singular Values: 282.9075265038774\n",
            "Region 4:\n",
            "Rank: 1 RMSE: 3.663301686958826 Amount Singular Values: 21838.119149555754\n",
            "Rank: 2 RMSE: 2.968980651014222 Amount Singular Values: 852.0071490161354\n",
            "Rank: 3 RMSE: 2.3735262940889714 Amount Singular Values: 629.6402139834157\n",
            "Rank: 4 RMSE: 2.0022617061141452 Amount Singular Values: 529.9584358818922\n",
            "Rank: 5 RMSE: 1.5973357852845438 Amount Singular Values: 465.9208000847236\n",
            "Rank: 6 RMSE: 1.1652718248632314 Amount Singular Values: 452.6075681182875\n",
            "Rank: 7 RMSE: 0.6548168222032069 Amount Singular Values: 402.18841974011195\n",
            "Rank: 8 RMSE: 5.805886437783211e-14 Amount Singular Values: 367.39115035844094\n"
          ]
        }
      ],
      "source": [
        "df_all_data.reset_index(inplace=True)\n",
        "df_without_timestamp = df_all_data.iloc[:, 1:len(df_all_data.columns)+1]\n",
        "\n",
        "rmse_list_reg1, amount_sing_val_reg1 = calc_SVD_RMSE(df_without_timestamp[sensors_region1])\n",
        "rmse_list_reg2, amount_sing_val_reg2 = calc_SVD_RMSE(df_without_timestamp[sensors_region2])\n",
        "rmse_list_reg3, amount_sing_val_reg3 = calc_SVD_RMSE(df_without_timestamp[sensors_region3])\n",
        "rmse_list_reg4, amount_sing_val_reg4 = calc_SVD_RMSE(df_without_timestamp[sensors_region4])\n",
        "\n",
        "print('Region 1:')\n",
        "for rank in range(len(rmse_list_reg1)):\n",
        "        print(f'Rank: {rank+1} RMSE: {rmse_list_reg1[rank]} Amount Singular Values: {amount_sing_val_reg1[rank]}')\n",
        "\n",
        "print('Region 2:')\n",
        "for rank in range(len(rmse_list_reg2)):\n",
        "        print(f'Rank: {rank+1} RMSE: {rmse_list_reg2[rank]} Amount Singular Values: {amount_sing_val_reg2[rank]}')\n",
        "\n",
        "print('Region 3:')\n",
        "for rank in range(len(rmse_list_reg3)):\n",
        "        print(f'Rank: {rank+1} RMSE: {rmse_list_reg3[rank]} Amount Singular Values: {amount_sing_val_reg3[rank]}')\n",
        "\n",
        "print('Region 4:')\n",
        "for rank in range(len(rmse_list_reg4)):\n",
        "        print(f'Rank: {rank+1} RMSE: {rmse_list_reg4[rank]} Amount Singular Values: {amount_sing_val_reg4[rank]}')"
      ],
      "metadata": {
        "pycharm": {
          "name": "#%%\n"
        },
        "id": "dQ1tpwItTaok",
        "outputId": "2ed84d14-f210-4b42-c2ba-062fcec39bac",
        "colab": {
          "base_uri": "https://localhost:8080/"
        }
      }
    },
    {
      "cell_type": "code",
      "execution_count": 48,
      "outputs": [],
      "source": [
        "amount_sing_val_reg1[0] = amount_sing_val_reg1[1] * 2\n",
        "amount_sing_val_reg2[0] = amount_sing_val_reg2[1] * 2\n",
        "amount_sing_val_reg3[0] = amount_sing_val_reg3[1] * 2\n",
        "amount_sing_val_reg4[0] = amount_sing_val_reg4[1] * 2"
      ],
      "metadata": {
        "pycharm": {
          "name": "#%%\n"
        },
        "id": "1bkxJTpDTaon"
      }
    },
    {
      "cell_type": "code",
      "execution_count": 49,
      "outputs": [
        {
          "output_type": "display_data",
          "data": {
            "text/plain": [
              "<Figure size 640x480 with 8 Axes>"
            ],
            "image/png": "[encoded data removed]"
          },
          "metadata": {}
        }
      ],
      "source": [
        "def init_ax(ax, rank_values, rmse_values, sing_values, color1, color2):\n",
        "  ax.set_xlabel('Rank')\n",
        "  ax.set_ylabel('Singular Values', color=color1)\n",
        "  ax.plot(rank_values, sing_values, color=color1)\n",
        "  ax2 = ax.twinx()\n",
        "  ax2.set_ylabel('RMSE', color=color2)\n",
        "  ax2.plot(rank_values, rmse_values, color=color2)\n",
        "  ax2.tick_params(axis='y', labelcolor=color2)\n",
        "  ax.grid(True)\n",
        "  ax2.grid(False)\n",
        "  return ax\n",
        "\n",
        "rank_range_reg1 = range(1, len(rmse_list_reg1) + 1)\n",
        "rank_range_reg2 = range(1, len(rmse_list_reg2) + 1)\n",
        "rank_range_reg3 = range(1, len(rmse_list_reg3) + 1)\n",
        "rank_range_reg4 = range(1, len(rmse_list_reg4) + 1)\n",
        "\n",
        "color1 = 'r'\n",
        "color2 = 'b'\n",
        "\n",
        "fig, ax = plt.subplots(2,2)\n",
        "ax[0, 0] = init_ax(ax[0, 0], rank_range_reg1, rmse_list_reg1, amount_sing_val_reg1, color1, color2)\n",
        "ax[0, 1] = init_ax(ax[0, 1], rank_range_reg2, rmse_list_reg2, amount_sing_val_reg2, color1, color2)\n",
        "ax[1, 0] = init_ax(ax[1, 0], rank_range_reg3, rmse_list_reg3, amount_sing_val_reg3, color1, color2)\n",
        "ax[1, 1] = init_ax(ax[1, 1], rank_range_reg4, rmse_list_reg4, amount_sing_val_reg4, color1, color2)\n",
        "\n",
        "ax[0, 0].set_title('Region 1')\n",
        "ax[0, 1].set_title('Region 2')\n",
        "ax[1, 0].set_title('Region 3')\n",
        "ax[1, 1].set_title('Region 4')\n",
        "\n",
        "fig.tight_layout()\n",
        "plt.show()"
      ],
      "metadata": {
        "pycharm": {
          "name": "#%%\n"
        },
        "id": "hQMtp_cKTaoo",
        "outputId": "29c5751e-ef2b-4550-9367-e4aa4fdc9176",
        "colab": {
          "base_uri": "https://localhost:8080/",
          "height": 486
        }
      }
    },
    {
      "cell_type": "markdown",
      "source": [
        "Presentation Content:\n",
        "\n",
        "Choose the kth final rank, and explain why you choose that particular value.\n",
        "\n",
        "Provide a figure showing the singular values vs. RMSE (compared with the global and regional models) for each of the three time periods, and use it to justify your kth rank.\n",
        "\n",
        "Select at least three different stations based on their location in the city, choose each station from a different region.\n",
        "\n",
        "Apply one or more of the SVD models made in the previous steps of the individual different stations chosen in the previous step by randomly sub-sampling your data matrix. Compare the results to your kth rank SVD model using the RMSE and the median absolute deviation."
      ],
      "metadata": {
        "collapsed": false,
        "pycharm": {
          "name": "#%% md\n"
        },
        "id": "vGkVzL8LTaop"
      }
    }
  ],
  "metadata": {
    "kernelspec": {
      "display_name": "Python 3",
      "language": "python",
      "name": "python3"
    },
    "language_info": {
      "codemirror_mode": {
        "name": "ipython",
        "version": 2
      },
      "file_extension": ".py",
      "mimetype": "text/x-python",
      "name": "python",
      "nbconvert_exporter": "python",
      "pygments_lexer": "ipython2",
      "version": "2.7.6"
    },
    "colab": {
      "provenance": []
    }
  },
  "nbformat": 4,
  "nbformat_minor": 0
}