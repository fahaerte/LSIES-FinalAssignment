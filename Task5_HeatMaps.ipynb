{
 "cells": [
  {
   "cell_type": "code",
   "execution_count": 1,
   "metadata": {},
   "outputs": [],
   "source": [
    "# Environment variables\n",
    "drive = False\n",
    "install_packages = False\n",
    "\n",
    "# If necessary, install packages\n",
    "if install_packages:\n",
    "  !pip install Basemap basemap-data-hires\n",
    "  !pip install pandas matplotlib numpy\n",
    "  !pip install sklearn\n",
    "  !pip install datetime\n",
    "\n",
    "# Imports\n",
    "import os\n",
    "import pandas as pd\n",
    "import matplotlib.pyplot as plt\n",
    "import numpy as np\n",
    "from csv import reader\n",
    "from sklearn.metrics import r2_score\n",
    "from datetime import datetime\n",
    "from datetime import timedelta as tdelta\n",
    "from datetime import time as time\n",
    "import warnings\n",
    "import osmnx as ox\n",
    "import folium\n",
    "import networkx as nx\n",
    "from matplotlib import colors\n",
    "\n",
    "warnings.simplefilter(action='ignore', category=FutureWarning)\n",
    "warnings.simplefilter(action='ignore', category=pd.errors.PerformanceWarning)\n",
    "warnings.simplefilter(action='ignore', category=pd.errors.SettingWithCopyWarning)\n",
    "\n",
    "# Mount drive if needed\n",
    "if drive:\n",
    "  from google.colab import drive\n",
    "  drive.mount('/content/drive')\n",
    "  %cd /content/drive/MyDrive/LSIS\n",
    "\n",
    "from Helper_funcs import *\n",
    "from SensorPositions_Func import *\n",
    "from SVD_Func import *\n",
    "\n",
    "# Depending on the environemnt, set directory to data\n",
    "if drive:\n",
    "  dir_path = '/content/drive/MyDrive/LSIS/data/'\n",
    "else :\n",
    "  dir_path = './data/'\n",
    "\n",
    "folders = ['region_1_mustamäe_kristiine', 'region_2_data_kesklinn', 'region_3_kadriorg_lasnamäe', 'region_4_ülemiste']\n",
    "columns_sensors_positions = ['IDs', 'latitude', 'longitude', 'region']"
   ]
  },
  {
   "attachments": {},
   "cell_type": "markdown",
   "metadata": {},
   "source": [
    "# 1) Import Data #"
   ]
  },
  {
   "cell_type": "code",
   "execution_count": 2,
   "metadata": {},
   "outputs": [],
   "source": [
    "csv_file_name = 'sensor_positions.csv'\n",
    "coords = []\n",
    "IDs = []\n",
    "\n",
    "with open(dir_path + csv_file_name, 'r') as read_obj:\n",
    "    csv_reader = reader(read_obj)\n",
    "    for row in csv_reader:\n",
    "        coord = (float(row[0].split(' ')[0].replace('(', '')), \n",
    "                 float(row[0].split(' ')[1].replace(')', '')) )\n",
    "        coords.append(coord)\n",
    "        \n",
    "        IDs.append(row[1])\n",
    "\n",
    "stations_df = import_sensor_positions(dir_path, csv_file_name)\n",
    "stations_df.set_index('IDs', inplace=True)\n",
    "IDs = list(stations_df.index)\n",
    "\n",
    "del csv_file_name, coords, csv_reader, read_obj, row"
   ]
  },
  {
   "cell_type": "code",
   "execution_count": 3,
   "metadata": {},
   "outputs": [],
   "source": [
    "df_data_interp = pd.read_csv(dir_path + 'interpolated_data_1.csv');\n",
    "tindex = pd.to_datetime(df_data_interp[df_data_interp.columns[1]]);\n",
    "df_data_interp.set_index(tindex, inplace=True);\n",
    "df_data_interp.drop(['Unnamed: 0.1', 'Unnamed: 0'], axis = 1, inplace=True);\n",
    "\n",
    "df_day = df_data_interp.iloc[indexer_day(df_data_interp)]\n",
    "df_eve = df_data_interp.iloc[indexer_evening(df_data_interp)]\n",
    "df_night = df_data_interp.iloc[indexer_night(df_data_interp)]\n",
    "\n",
    "stations_df['m_day'] = df_day.mean()\n",
    "stations_df['m_eve'] = df_eve.mean()\n",
    "stations_df['m_nig'] = df_night.mean()\n",
    "\n",
    "\n",
    "\n",
    "del df_data_interp, df_day, df_eve, df_night\n"
   ]
  },
  {
   "attachments": {},
   "cell_type": "markdown",
   "metadata": {},
   "source": [
    "# 2) Download maps #"
   ]
  },
  {
   "cell_type": "code",
   "execution_count": 4,
   "metadata": {},
   "outputs": [],
   "source": [
    "#from shapely.geometry import Polygon\n",
    "#poly = [\n",
    "#    (59.376750, 24.717667),\n",
    "#    (59.378149, 24.638082),\n",
    "#    (59.407865, 24.622976),\n",
    "#    (59.452295, 24.732891),\n",
    "#    (59.451440, 24.859805),\n",
    "#    (59.436058, 24.874094)\n",
    "#    ]\n",
    "lower_left = (59.365370, 24.627558)\n",
    "upper_right = (59.458556, 24.882702)\n",
    "\n",
    "graph = ox.graph_from_bbox(upper_right[0], lower_left[0], upper_right[1], lower_left[1], network_type='drive')\n",
    "#polyg = Polygon(poly)\n",
    "#graph = ox.graph_from_polygon(polyg, network_type='drive')\n",
    "\n",
    "data = ox.graph_to_gdfs(graph, nodes=False)\n",
    "\n",
    "# Calculate the center of the map\n",
    "center = ((lower_left[0] + upper_right[0]) / 2, (lower_left[1] + upper_right[1]) / 2)\n",
    "\n",
    "# Create a folium map centered around the calculated center\n"
   ]
  },
  {
   "attachments": {},
   "cell_type": "markdown",
   "metadata": {},
   "source": [
    "# 3) Assign sensors to streets + erase redundant #"
   ]
  },
  {
   "cell_type": "code",
   "execution_count": 5,
   "metadata": {},
   "outputs": [],
   "source": [
    "tdata = [[] for _ in range(len(stations_df.index))]\n",
    "stations_df['nearest_ed']= tdata\n",
    "stations_df['nearest_ed1']= tdata\n",
    "nearest_edges = []\n",
    "\n",
    "for sid in stations_df.index:\n",
    "    stations_df['nearest_ed'][sid] = ox.distance.nearest_edges(graph, X=stations_df['latitude'][sid], Y=stations_df['longitude'][sid])\n",
    "    \n",
    "    nearest_edges.append(stations_df['nearest_ed'][sid])\n",
    "\n",
    "graph_temp = graph.copy()\n",
    "\n",
    "for sid in stations_df.index:\n",
    "    graph_temp.remove_edge(stations_df['nearest_ed'][sid][0], stations_df['nearest_ed'][sid][1])\n",
    "    stations_df['nearest_ed1'][sid] = ox.distance.nearest_edges(graph_temp, X=stations_df['latitude'][sid], Y=stations_df['longitude'][sid])\n",
    "    graph_temp = graph.copy()\n",
    "    nearest_edges.append(stations_df['nearest_ed1'][sid])\n",
    "    \n",
    "nearest_edges = pd.DataFrame(data={'edges':nearest_edges})\n",
    "nearest_edges.drop_duplicates(subset='edges', keep='first', inplace=True)\n",
    "    \n",
    "\n",
    "\n",
    "del tdata, graph_temp"
   ]
  },
  {
   "cell_type": "code",
   "execution_count": 6,
   "metadata": {},
   "outputs": [],
   "source": [
    "nearest_edges.set_index(nearest_edges['edges'], inplace=True)"
   ]
  },
  {
   "attachments": {},
   "cell_type": "markdown",
   "metadata": {},
   "source": [
    "2) Find some neighbors: \n",
    "2.1) Go through all edges, that are near a station and have a name.\n",
    "2.2) Find all edges, that hame some of the names of the already found closest edges, but are not in 'nearest_edges' DataFrame"
   ]
  },
  {
   "cell_type": "code",
   "execution_count": 14,
   "metadata": {},
   "outputs": [],
   "source": [
    "nearest_names = []\n",
    "nearest_edges['name'] = ''\n",
    "\n",
    "# get names of detected nearest edges\n",
    "for edge in nearest_edges.index:\n",
    "    if 'name' in graph.edges[edge] and graph.edges[edge]['name'] not in nearest_names:\n",
    "        tname = graph.edges[edge]['name']\n",
    "        nearest_names.append(tname)\n",
    "        nearest_edges['name'][edge] = tname;\n",
    "        \n",
    "        \n",
    "named_edges = []\n",
    "# get all edges, that are named and other edge of the same name is in \n",
    "# nearest_edges\n",
    "for edge in graph.edges:\n",
    "    if 'name' in graph.edges[edge] and graph.edges[edge]['name'] in nearest_names:\n",
    "        named_edges.append(edge);\n",
    "\n",
    "# filter edges, that arent present in index already        \n",
    "n_edges = list(nearest_edges.index.values);\n",
    "to_add = [item for item in named_edges if item not in n_edges]\n",
    "\n",
    "df_to_add = pd.DataFrame(columns=nearest_edges.columns)\n",
    "df_to_add['edges'] = to_add;\n",
    "df_to_add.set_index(df_to_add['edges'], inplace=True)\n",
    "df_to_add['n_edge'] = [()]*len(df_to_add)\n",
    "df_to_add['nn_edge'] = [[]]*len(df_to_add)\n",
    "\n",
    "for edge in df_to_add.index:\n",
    "    df_to_add['name'][edge] = graph.edges[edge]['name']\n",
    "    \n",
    "for edge in nearest_edges['edges']:\n",
    "    name = nearest_edges['name'][edge]\n",
    "    if type(name) == list:\n",
    "        nearest_edges['name'][edge] = name[0];\n",
    "\n",
    "for edge in df_to_add['edges']:\n",
    "    name = df_to_add['name'][edge]\n",
    "    if type(name) == list:\n",
    "        df_to_add['name'][edge] = name[0];\n",
    "\n",
    "del to_add, nearest_names, named_edges, n_edges\n"
   ]
  },
  {
   "attachments": {},
   "cell_type": "markdown",
   "metadata": {},
   "source": [
    "3) Go through newly found edges and find their closest edges from the original set of 'nearest edges'"
   ]
  },
  {
   "cell_type": "code",
   "execution_count": 16,
   "metadata": {},
   "outputs": [
    {
     "ename": "TypeError",
     "evalue": "'method' object is not subscriptable",
     "output_type": "error",
     "traceback": [
      "\u001b[1;31m---------------------------------------------------------------------------\u001b[0m",
      "\u001b[1;31mTypeError\u001b[0m                                 Traceback (most recent call last)",
      "Cell \u001b[1;32mIn[16], line 70\u001b[0m\n\u001b[0;32m     65\u001b[0m         \u001b[39m#del distance1, distance2, distance3, distance4, nearest, #total_distance, edge1, edge2, edges, edge1_end, edge1_start, #edge2_end, edge2_start\u001b[39;00m\n\u001b[0;32m     66\u001b[0m         \u001b[39m#del tname, idx1, idx2\u001b[39;00m\n\u001b[0;32m     68\u001b[0m     \u001b[39mreturn\u001b[39;00m df_to_add\n\u001b[1;32m---> 70\u001b[0m df_to_add \u001b[39m=\u001b[39m get_close_edges(df_to_add, nearest_edges, graph)\n",
      "Cell \u001b[1;32mIn[16], line 63\u001b[0m, in \u001b[0;36mget_close_edges\u001b[1;34m(df_to_add, nearest_edges, graph)\u001b[0m\n\u001b[0;32m     61\u001b[0m             df_to_add[\u001b[39m'\u001b[39m\u001b[39mn_edge\u001b[39m\u001b[39m'\u001b[39m][edge1] \u001b[39m=\u001b[39m nearest\n\u001b[0;32m     62\u001b[0m     \u001b[39melse\u001b[39;00m:\n\u001b[1;32m---> 63\u001b[0m         df_to_add\u001b[39m.\u001b[39;49mdrop[edge1];\n\u001b[0;32m     65\u001b[0m     \u001b[39m#del distance1, distance2, distance3, distance4, nearest, #total_distance, edge1, edge2, edges, edge1_end, edge1_start, #edge2_end, edge2_start\u001b[39;00m\n\u001b[0;32m     66\u001b[0m     \u001b[39m#del tname, idx1, idx2\u001b[39;00m\n\u001b[0;32m     68\u001b[0m \u001b[39mreturn\u001b[39;00m df_to_add\n",
      "\u001b[1;31mTypeError\u001b[0m: 'method' object is not subscriptable"
     ]
    }
   ],
   "source": [
    "# go throug all named streets and \n",
    "import math\n",
    "from geopy.distance import geodesic\n",
    "\n",
    "def get_close_edges(df_to_add, nearest_edges, graph):\n",
    "\n",
    "    for edge1 in df_to_add['edges']:\n",
    "        tname = df_to_add['name'][edge1]\n",
    "        idx1 = (nearest_edges['name'] == tname)\n",
    "        idx2 = ((df_to_add['name'] == tname) * (df_to_add['edges'] != edge1))\n",
    "        \n",
    "        # exclude unwanted edges\n",
    "        tnot = df_to_add['nn_edge'][edge1]\n",
    "        pp = []\n",
    "        if len(tnot) > 0:\n",
    "            #print(edge1)\n",
    "            #print(tnot)\n",
    "            pp = [(df_to_add['edges'] != ed) for ed in tnot];\n",
    "            for p in pp:\n",
    "                #print(p)\n",
    "                idx2 = idx2*p;\n",
    "            \n",
    "        #print(idx2.sum())\n",
    "        edges = pd.concat([nearest_edges[idx1]['edges'], df_to_add[idx2]['edges']]);\n",
    "        #print(len(edges))\n",
    "        #edges = edges.drop(edges == edge1)\n",
    "        #print(len(edges))\n",
    "        total_distance =[]\n",
    "\n",
    "        for edge2 in edges:\n",
    "            edge1_start = graph.nodes[edge1[0]]['y'], graph.nodes[edge1[0]]['x']\n",
    "            edge1_end = graph.nodes[edge1[1]]['y'], graph.nodes[edge1[1]]['x']\n",
    "            edge2_start = graph.nodes[edge2[0]]['y'], graph.nodes[edge2[0]]['x']\n",
    "            edge2_end = graph.nodes[edge2[1]]['y'], graph.nodes[edge2[1]]['x']\n",
    "\n",
    "\n",
    "            distance1 = geodesic(edge1_start, edge2_start).m\n",
    "            distance2 = geodesic(edge1_end, edge2_end).m\n",
    "            distance3 = geodesic(edge1_start, edge2_end).m\n",
    "            distance4 = geodesic(edge1_end, edge2_start).m\n",
    "\n",
    "            # Total distance between the edges\n",
    "            total_distance.append(min([distance1, distance2, distance3, distance4]))\n",
    "        \n",
    "        if(min(total_distance) < 1000):    \n",
    "            nearest = edges[total_distance.index(min(total_distance))]\n",
    "            if nearest in nearest_edges.index:\n",
    "                df_to_add['n_edge'][edge1] = nearest\n",
    "            \n",
    "            # see if two edges don't point on each other\n",
    "            elif df_to_add['n_edge'][nearest] == df_to_add['edges'][edge1]:\n",
    "                # save current nearest into the unwanted\n",
    "                ii = total_distance.index(min(total_distance))\n",
    "                df_to_add['nn_edge'][edge1].append(nearest)\n",
    "                \n",
    "                # find the 2nd nearest\n",
    "                total_distance.pop(ii)\n",
    "                nearest = edges[total_distance.index(min(total_distance))]\n",
    "                df_to_add['n_edge'][edge1] = nearest\n",
    "            else:\n",
    "                df_to_add['n_edge'][edge1] = nearest\n",
    "        else:\n",
    "            df_to_add.drop(edge1);\n",
    "        \n",
    "        #del distance1, distance2, distance3, distance4, nearest, #total_distance, edge1, edge2, edges, edge1_end, edge1_start, #edge2_end, edge2_start\n",
    "        #del tname, idx1, idx2\n",
    "        \n",
    "    return df_to_add\n",
    "\n",
    "df_to_add = get_close_edges(df_to_add, nearest_edges, graph)\n"
   ]
  },
  {
   "cell_type": "code",
   "execution_count": null,
   "metadata": {},
   "outputs": [],
   "source": [
    "del df_to_add\n",
    "nearest_edges.drop(labels=['ddB', 'edB', 'ndB'], inplace=True, axis=1)"
   ]
  },
  {
   "cell_type": "code",
   "execution_count": null,
   "metadata": {},
   "outputs": [],
   "source": [
    "print(pp)"
   ]
  },
  {
   "cell_type": "code",
   "execution_count": null,
   "metadata": {},
   "outputs": [],
   "source": [
    "print(df_to_add.head())"
   ]
  },
  {
   "attachments": {},
   "cell_type": "markdown",
   "metadata": {},
   "source": [
    "# 4) Assign colors #"
   ]
  },
  {
   "cell_type": "code",
   "execution_count": null,
   "metadata": {},
   "outputs": [],
   "source": [
    "# Choosing a colormap\n",
    "colormap = plt.colormaps.get_cmap('jet') \n",
    "\n",
    "# Normalizing the values between 0 and 1\n",
    "\n",
    "\n",
    "\n",
    "nearest_edges['ddB1'] = np.zeros(len(nearest_edges))\n",
    "nearest_edges['ddB2'] = np.zeros(len(nearest_edges))\n",
    "nearest_edges['ddB'] = np.zeros(len(nearest_edges))\n",
    "nearest_edges['edB1'] = np.zeros(len(nearest_edges))\n",
    "nearest_edges['edB2'] = np.zeros(len(nearest_edges))\n",
    "nearest_edges['edB'] = np.zeros(len(nearest_edges))\n",
    "nearest_edges['ndB1'] = np.zeros(len(nearest_edges))\n",
    "nearest_edges['ndB2'] = np.zeros(len(nearest_edges))\n",
    "nearest_edges['ndB'] = np.zeros(len(nearest_edges))\n",
    "\n",
    "\n",
    "for edge in nearest_edges.index:\n",
    "    idxs = stations_df['nearest_ed'] == edge;\n",
    "    idxs1 = stations_df['nearest_ed1'] == edge;\n",
    "    #if sum(idxs) > 0  :\n",
    "    nearest_edges['ddB1'][edge] = stations_df['m_day'][idxs].mean()\n",
    "    nearest_edges['edB1'][edge] = stations_df['m_eve'][idxs].mean()\n",
    "    nearest_edges['ndB1'][edge] = stations_df['m_nig'][idxs].mean()\n",
    "        \n",
    "    #if sum(idxs1) > 0: \n",
    "    nearest_edges['ddB2'][edge] = stations_df['m_day'][idxs1].mean()\n",
    "    nearest_edges['edB2'][edge] = stations_df['m_eve'][idxs1].mean()\n",
    "    nearest_edges['ndB2'][edge] = stations_df['m_nig'][idxs1].mean()\n",
    "    \n",
    "nearest_edges['ddB'] = nearest_edges[['ddB1', 'ddB2']].mean(axis=1);\n",
    "nearest_edges['edB'] = nearest_edges[['edB1', 'edB2']].mean(axis=1);\n",
    "nearest_edges['ndB'] = nearest_edges[['ndB1', 'ndB2']].mean(axis=1);\n",
    "\n",
    "nearest_edges.drop(labels=['ddB1', 'ddB2', 'edB1', 'edB2', 'ndB1', 'ndB2'], inplace=True, axis=1)"
   ]
  },
  {
   "attachments": {},
   "cell_type": "markdown",
   "metadata": {},
   "source": [
    "Nearest edge interpolation"
   ]
  },
  {
   "cell_type": "code",
   "execution_count": null,
   "metadata": {},
   "outputs": [],
   "source": [
    "df_to_add['ddB'] = np.empty(len(df_to_add))\n",
    "df_to_add['edB'] = np.empty(len(df_to_add))\n",
    "df_to_add['ndB'] = np.empty(len(df_to_add))\n",
    "df_to_add['ddB'][df_to_add['ddB'].notna()] = np.nan;\n",
    "df_to_add['edB'][df_to_add['edB'].notna()] = np.nan;\n",
    "df_to_add['ndB'][df_to_add['ndB'].notna()] = np.nan;\n",
    "\n",
    "for edge in df_to_add.index:\n",
    "    nedge = df_to_add['n_edge'][edge]\n",
    "    if nedge in nearest_edges['edges']:\n",
    "        df_to_add['ddB'][edge] = nearest_edges['ddB'][nedge];\n",
    "        df_to_add['edB'][edge] = nearest_edges['edB'][nedge];\n",
    "        df_to_add['ndB'][edge] = nearest_edges['ndB'][nedge];"
   ]
  },
  {
   "cell_type": "code",
   "execution_count": null,
   "metadata": {},
   "outputs": [],
   "source": [
    "l1 = len(df_to_add)\n",
    "l2 = 0\n",
    "while l1-l2 > 0:\n",
    "    l1 = df_to_add['ddB'].isna().sum()\n",
    "    temp = df_to_add[df_to_add.isna()]\n",
    "    for edge in temp.index:\n",
    "        nedge = df_to_add['n_edge'][edge]\n",
    "        if nedge in df_to_add['edges']:\n",
    "            df_to_add['ddB'][edge] = df_to_add['ddB'][nedge]\n",
    "            df_to_add['edB'][edge] = df_to_add['edB'][nedge]\n",
    "            df_to_add['ndB'][edge] = df_to_add['ndB'][nedge]\n",
    "    \n",
    "    l2 = df_to_add['ddB'].isna().sum()\n",
    "    \n",
    "temp = df_to_add[df_to_add.isna()]\n",
    "for edge in temp.index:\n",
    "    df_to_add['nn_edge'][edge].append(df_to_add['n_edge'][edge]) \n",
    "    \n",
    "temp = df_to_add[df_to_add.notna()]\n",
    "\n",
    "temp.drop(labels=['n_edge', 'nn_edge'], inplace=True, axis=1)    \n",
    "nearest_edges1 = pd.concat([df_to_add,temp], ignore_index=True)\n",
    "nearest_edges1.set_index(nearest_edges1['edges'], inplace=True)\n",
    "\n",
    "df_to_add.drop(temp.index, inplace=true)\n",
    "\n",
    "df_to_add = get_close_edges(df_to_add, nearest_edges1, graph)"
   ]
  },
  {
   "cell_type": "code",
   "execution_count": null,
   "metadata": {},
   "outputs": [],
   "source": [
    "print(df_to_add['ddB'].isna().sum())"
   ]
  },
  {
   "cell_type": "code",
   "execution_count": null,
   "metadata": {},
   "outputs": [],
   "source": [
    "df_to_add.drop(labels='n_edge', inplace=True, axis=1)    \n",
    "nearest_edges1 = pd.concat([df_to_add,nearest_edges], ignore_index=True)\n",
    "nearest_edges1.set_index(nearest_edges1['edges'], inplace=True)"
   ]
  },
  {
   "cell_type": "code",
   "execution_count": null,
   "metadata": {},
   "outputs": [],
   "source": [
    "cnt = 0\n",
    "for edge in temp.index:\n",
    "    if df_to_add['n_edge'][edge] in df_to_add['edges']:\n",
    "        cnt = cnt+1"
   ]
  },
  {
   "cell_type": "code",
   "execution_count": null,
   "metadata": {},
   "outputs": [],
   "source": [
    "print(cnt)\n",
    "print(len(temp))"
   ]
  },
  {
   "cell_type": "code",
   "execution_count": null,
   "metadata": {},
   "outputs": [],
   "source": [
    "norm = plt.Normalize(0, 70)\n",
    "\n",
    "# Creating a list of colors corresponding to the values\n",
    "nearest_edges['day'] = nearest_edges['ddB'].apply(lambda x: colormap(norm(x)))\n",
    "nearest_edges['eve'] = nearest_edges['ddB'].apply(lambda x: colormap(norm(x)))\n",
    "nearest_edges['nig'] = nearest_edges['ddB'].apply(lambda x: colormap(norm(x)))\n",
    "\n",
    "nearest_edges['hday'] = nearest_edges['day'].apply(lambda x: colors.to_hex(x))\n",
    "nearest_edges['heve'] = nearest_edges['eve'].apply(lambda x: colors.to_hex(x))\n",
    "nearest_edges['hnig'] = nearest_edges['nig'].apply(lambda x: colors.to_hex(x))"
   ]
  },
  {
   "attachments": {},
   "cell_type": "markdown",
   "metadata": {},
   "source": [
    "# X) Print map #"
   ]
  },
  {
   "cell_type": "code",
   "execution_count": null,
   "metadata": {},
   "outputs": [],
   "source": [
    "import ast\n",
    "graph3 = graph.edge_subgraph(nearest_edges['edges'])\n",
    "m = folium.Map(location=center, zoom_start=13)\n",
    "\n",
    "data = ox.graph_to_gdfs(graph3, nodes=False)\n",
    "\n",
    "for (lati, long) in zip(stations_df['latitude'], stations_df['longitude']):\n",
    "    folium.Marker(location=(long, lati)).add_to(m)\n",
    "\n",
    "# Define a function to style the road features\n",
    "def style_function(feature):\n",
    "    id = ast.literal_eval(feature.get('id'));\n",
    "    color = 'red';\n",
    "    if len(id) == 3:\n",
    "        color = nearest_edges['hday'][id];\n",
    "    return {\n",
    "        'color': color,  # Set the color of the roads (red in this example)\n",
    "        'weight': 8,         # Set the line weight\n",
    "        'opacity': 0.7       # Set the line opacity\n",
    "    }\n",
    "\n",
    "# Add the road network to the folium map as a GeoJSON layer with the specified style\n",
    "folium.GeoJson(data, style_function=style_function).add_to(m)\n",
    "m\n"
   ]
  },
  {
   "cell_type": "code",
   "execution_count": null,
   "metadata": {},
   "outputs": [],
   "source": [
    "temp = nearest_edges[['ddB1', 'ddB2']].mean(axis=1)"
   ]
  },
  {
   "cell_type": "code",
   "execution_count": null,
   "metadata": {},
   "outputs": [],
   "source": [
    "l= graph.neighbors(nearest_edges['edges'].iloc[1][1])"
   ]
  }
 ],
 "metadata": {
  "kernelspec": {
   "display_name": "Python 3",
   "language": "python",
   "name": "python3"
  },
  "language_info": {
   "codemirror_mode": {
    "name": "ipython",
    "version": 3
   },
   "file_extension": ".py",
   "mimetype": "text/x-python",
   "name": "python",
   "nbconvert_exporter": "python",
   "pygments_lexer": "ipython3",
   "version": "3.11.3"
  },
  "orig_nbformat": 4
 },
 "nbformat": 4,
 "nbformat_minor": 2
}
