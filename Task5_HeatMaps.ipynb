{
 "cells": [
  {
   "cell_type": "code",
   "execution_count": null,
   "metadata": {},
   "outputs": [],
   "source": [
    "# Environment variables\n",
    "drive = False\n",
    "install_packages = False\n",
    "\n",
    "# If necessary, install packages\n",
    "if install_packages:\n",
    "  !pip install Basemap basemap-data-hires\n",
    "  !pip install pandas matplotlib numpy\n",
    "  !pip install sklearn\n",
    "  !pip install datetime\n",
    "\n",
    "# Imports\n",
    "import os\n",
    "import pandas as pd\n",
    "import matplotlib.pyplot as plt\n",
    "import numpy as np\n",
    "from csv import reader\n",
    "from sklearn.metrics import r2_score\n",
    "from datetime import datetime\n",
    "from datetime import timedelta as tdelta\n",
    "from datetime import time as time\n",
    "import warnings\n",
    "import osmnx as ox\n",
    "import folium\n",
    "import networkx as nx\n",
    "from matplotlib import colors\n",
    "\n",
    "warnings.simplefilter(action='ignore', category=FutureWarning)\n",
    "warnings.simplefilter(action='ignore', category=pd.errors.PerformanceWarning)\n",
    "warnings.simplefilter(action='ignore', category=pd.errors.SettingWithCopyWarning)\n",
    "\n",
    "# Mount drive if needed\n",
    "if drive:\n",
    "  from google.colab import drive\n",
    "  drive.mount('/content/drive')\n",
    "  %cd /content/drive/MyDrive/LSIS\n",
    "\n",
    "from Helper_funcs import *\n",
    "from SensorPositions_Func import *\n",
    "from SVD_Func import *\n",
    "\n",
    "# Depending on the environemnt, set directory to data\n",
    "if drive:\n",
    "  dir_path = '/content/drive/MyDrive/LSIS/data/'\n",
    "else :\n",
    "  dir_path = './data/'\n",
    "\n",
    "folders = ['region_1_mustamäe_kristiine', 'region_2_data_kesklinn', 'region_3_kadriorg_lasnamäe', 'region_4_ülemiste']\n",
    "columns_sensors_positions = ['IDs', 'latitude', 'longitude', 'region']"
   ]
  },
  {
   "attachments": {},
   "cell_type": "markdown",
   "metadata": {},
   "source": [
    "# 1) Import Data #"
   ]
  },
  {
   "cell_type": "code",
   "execution_count": null,
   "metadata": {},
   "outputs": [],
   "source": [
    "csv_file_name = 'sensor_positions.csv'\n",
    "coords = []\n",
    "IDs = []\n",
    "\n",
    "with open(dir_path + csv_file_name, 'r') as read_obj:\n",
    "    csv_reader = reader(read_obj)\n",
    "    for row in csv_reader:\n",
    "        coord = (float(row[0].split(' ')[0].replace('(', '')), \n",
    "                 float(row[0].split(' ')[1].replace(')', '')) )\n",
    "        coords.append(coord)\n",
    "        \n",
    "        IDs.append(row[1])\n",
    "\n",
    "stations_df = import_sensor_positions(dir_path, csv_file_name)\n",
    "stations_df.set_index('IDs', inplace=True)\n",
    "IDs = list(stations_df.index)\n",
    "\n",
    "del csv_file_name, coords, csv_reader, read_obj, row"
   ]
  },
  {
   "cell_type": "code",
   "execution_count": null,
   "metadata": {},
   "outputs": [],
   "source": [
    "df_data_interp = pd.read_csv(dir_path + 'interpolated_data_1.csv');\n",
    "tindex = pd.to_datetime(df_data_interp[df_data_interp.columns[1]]);\n",
    "df_data_interp.set_index(tindex, inplace=True);\n",
    "df_data_interp.drop(['Unnamed: 0.1', 'Unnamed: 0'], axis = 1, inplace=True);\n",
    "\n",
    "df_day = df_data_interp.iloc[indexer_day(df_data_interp)]\n",
    "df_eve = df_data_interp.iloc[indexer_evening(df_data_interp)]\n",
    "df_night = df_data_interp.iloc[indexer_night(df_data_interp)]\n",
    "\n",
    "stations_df['m_day'] = df_day.mean()\n",
    "stations_df['m_eve'] = df_eve.mean()\n",
    "stations_df['m_nig'] = df_night.mean()\n",
    "\n",
    "\n",
    "\n",
    "del df_data_interp, df_day, df_eve, df_night\n"
   ]
  },
  {
   "attachments": {},
   "cell_type": "markdown",
   "metadata": {},
   "source": [
    "# 2) Download maps #"
   ]
  },
  {
   "cell_type": "code",
   "execution_count": null,
   "metadata": {},
   "outputs": [],
   "source": [
    "\n",
    "\n",
    "lower_left = (59 + 23/60 + 9.8/3600, 24 + 38/60 + 13.1/3600)\n",
    "upper_right = (59 + 26/60 + 35.8/3600, 24 + 47/60 + 23.4/3600)\n",
    "\n",
    "graph = ox.graph_from_bbox(upper_right[0], lower_left[0], upper_right[1], lower_left[1], network_type='drive')\n",
    "data = ox.graph_to_gdfs(graph, nodes=False)\n",
    "\n",
    "# Calculate the center of the map\n",
    "center = ((lower_left[0] + upper_right[0]) / 2, (lower_left[1] + upper_right[1]) / 2)\n",
    "\n",
    "# Create a folium map centered around the calculated center\n"
   ]
  },
  {
   "attachments": {},
   "cell_type": "markdown",
   "metadata": {},
   "source": [
    "# 3) Assign sensors to streets + erase redundant #"
   ]
  },
  {
   "cell_type": "code",
   "execution_count": null,
   "metadata": {},
   "outputs": [],
   "source": [
    "tdata = [[] for _ in range(len(stations_df.index))]\n",
    "stations_df['nearest_ed']= tdata\n",
    "stations_df['nearest_ed1']= tdata\n",
    "nearest_edges = []\n",
    "\n",
    "for sid in stations_df.index:\n",
    "    stations_df['nearest_ed'][sid] = ox.distance.nearest_edges(graph, X=stations_df['latitude'][sid], Y=stations_df['longitude'][sid])\n",
    "    \n",
    "    nearest_edges.append(stations_df['nearest_ed'][sid])\n",
    "\n",
    "graph_temp = graph.copy()\n",
    "\n",
    "for sid in stations_df.index:\n",
    "    graph_temp.remove_edge(stations_df['nearest_ed'][sid][0], stations_df['nearest_ed'][sid][1])\n",
    "    stations_df['nearest_ed1'][sid] = ox.distance.nearest_edges(graph, X=stations_df['latitude'][sid], Y=stations_df['longitude'][sid])\n",
    "    graph_temp = graph.copy()\n",
    "    nearest_edges.append(stations_df['nearest_ed1'][sid])\n",
    "    \n",
    "nearest_edges = pd.DataFrame(data={'edges':nearest_edges})\n",
    "nearest_edges.drop_duplicates(subset='edges', keep='first', inplace=True)\n",
    "    \n",
    "\n",
    "\n",
    "del tdata, graph_temp"
   ]
  },
  {
   "cell_type": "code",
   "execution_count": null,
   "metadata": {},
   "outputs": [],
   "source": [
    "graph3 = graph.edge_subgraph(nearest_edges['edges'])\n",
    "nearest_edges.set_index(nearest_edges['edges'], inplace=True)"
   ]
  },
  {
   "attachments": {},
   "cell_type": "markdown",
   "metadata": {},
   "source": [
    "# 4) Assign colors #"
   ]
  },
  {
   "cell_type": "code",
   "execution_count": 17,
   "metadata": {},
   "outputs": [
    {
     "name": "stderr",
     "output_type": "stream",
     "text": [
      "C:\\Users\\radek\\AppData\\Local\\Temp\\ipykernel_6556\\2631887194.py:2: MatplotlibDeprecationWarning: The get_cmap function was deprecated in Matplotlib 3.7 and will be removed two minor releases later. Use ``matplotlib.colormaps[name]`` or ``matplotlib.colormaps.get_cmap(obj)`` instead.\n",
      "  colormap = plt.cm.get_cmap('jet')  # You can change 'cool' to any other available colormap\n"
     ]
    },
    {
     "ename": "KeyError",
     "evalue": "\"['ddB1', 'ddB2', 'edB1', 'edB2', 'ndB1', 'ndB2'] not found in axis\"",
     "output_type": "error",
     "traceback": [
      "\u001b[1;31m---------------------------------------------------------------------------\u001b[0m",
      "\u001b[1;31mKeyError\u001b[0m                                  Traceback (most recent call last)",
      "Cell \u001b[1;32mIn[17], line 31\u001b[0m\n\u001b[0;32m     28\u001b[0m nearest_edges[\u001b[39m'\u001b[39m\u001b[39medB\u001b[39m\u001b[39m'\u001b[39m] \u001b[39m=\u001b[39m \u001b[39m.5\u001b[39m \u001b[39m*\u001b[39m nearest_edges[\u001b[39m'\u001b[39m\u001b[39medB1\u001b[39m\u001b[39m'\u001b[39m] \u001b[39m+\u001b[39m nearest_edges[\u001b[39m'\u001b[39m\u001b[39medB2\u001b[39m\u001b[39m'\u001b[39m];\n\u001b[0;32m     29\u001b[0m nearest_edges[\u001b[39m'\u001b[39m\u001b[39mndB\u001b[39m\u001b[39m'\u001b[39m] \u001b[39m=\u001b[39m \u001b[39m.5\u001b[39m \u001b[39m*\u001b[39m nearest_edges[\u001b[39m'\u001b[39m\u001b[39mndB1\u001b[39m\u001b[39m'\u001b[39m] \u001b[39m+\u001b[39m nearest_edges[\u001b[39m'\u001b[39m\u001b[39mndB2\u001b[39m\u001b[39m'\u001b[39m];\n\u001b[1;32m---> 31\u001b[0m nearest_edges\u001b[39m.\u001b[39;49mdrop([\u001b[39m'\u001b[39;49m\u001b[39mddB1\u001b[39;49m\u001b[39m'\u001b[39;49m, \u001b[39m'\u001b[39;49m\u001b[39mddB2\u001b[39;49m\u001b[39m'\u001b[39;49m, \u001b[39m'\u001b[39;49m\u001b[39medB1\u001b[39;49m\u001b[39m'\u001b[39;49m, \u001b[39m'\u001b[39;49m\u001b[39medB2\u001b[39;49m\u001b[39m'\u001b[39;49m, \u001b[39m'\u001b[39;49m\u001b[39mndB1\u001b[39;49m\u001b[39m'\u001b[39;49m, \u001b[39m'\u001b[39;49m\u001b[39mndB2\u001b[39;49m\u001b[39m'\u001b[39;49m], inplace\u001b[39m=\u001b[39;49m\u001b[39mTrue\u001b[39;49;00m)\n\u001b[0;32m     33\u001b[0m \u001b[39m# Creating a list of colors corresponding to the values\u001b[39;00m\n\u001b[0;32m     34\u001b[0m nearest_edges[\u001b[39m'\u001b[39m\u001b[39mday\u001b[39m\u001b[39m'\u001b[39m] \u001b[39m=\u001b[39m [colormap(norm(value)) \u001b[39mfor\u001b[39;00m value \u001b[39min\u001b[39;00m values]\n",
      "File \u001b[1;32m~\\AppData\\Local\\Packages\\PythonSoftwareFoundation.Python.3.11_qbz5n2kfra8p0\\LocalCache\\local-packages\\Python311\\site-packages\\pandas\\core\\frame.py:5266\u001b[0m, in \u001b[0;36mDataFrame.drop\u001b[1;34m(self, labels, axis, index, columns, level, inplace, errors)\u001b[0m\n\u001b[0;32m   5118\u001b[0m \u001b[39mdef\u001b[39;00m \u001b[39mdrop\u001b[39m(\n\u001b[0;32m   5119\u001b[0m     \u001b[39mself\u001b[39m,\n\u001b[0;32m   5120\u001b[0m     labels: IndexLabel \u001b[39m=\u001b[39m \u001b[39mNone\u001b[39;00m,\n\u001b[1;32m   (...)\u001b[0m\n\u001b[0;32m   5127\u001b[0m     errors: IgnoreRaise \u001b[39m=\u001b[39m \u001b[39m\"\u001b[39m\u001b[39mraise\u001b[39m\u001b[39m\"\u001b[39m,\n\u001b[0;32m   5128\u001b[0m ) \u001b[39m-\u001b[39m\u001b[39m>\u001b[39m DataFrame \u001b[39m|\u001b[39m \u001b[39mNone\u001b[39;00m:\n\u001b[0;32m   5129\u001b[0m \u001b[39m    \u001b[39m\u001b[39m\"\"\"\u001b[39;00m\n\u001b[0;32m   5130\u001b[0m \u001b[39m    Drop specified labels from rows or columns.\u001b[39;00m\n\u001b[0;32m   5131\u001b[0m \n\u001b[1;32m   (...)\u001b[0m\n\u001b[0;32m   5264\u001b[0m \u001b[39m            weight  1.0     0.8\u001b[39;00m\n\u001b[0;32m   5265\u001b[0m \u001b[39m    \"\"\"\u001b[39;00m\n\u001b[1;32m-> 5266\u001b[0m     \u001b[39mreturn\u001b[39;00m \u001b[39msuper\u001b[39;49m()\u001b[39m.\u001b[39;49mdrop(\n\u001b[0;32m   5267\u001b[0m         labels\u001b[39m=\u001b[39;49mlabels,\n\u001b[0;32m   5268\u001b[0m         axis\u001b[39m=\u001b[39;49maxis,\n\u001b[0;32m   5269\u001b[0m         index\u001b[39m=\u001b[39;49mindex,\n\u001b[0;32m   5270\u001b[0m         columns\u001b[39m=\u001b[39;49mcolumns,\n\u001b[0;32m   5271\u001b[0m         level\u001b[39m=\u001b[39;49mlevel,\n\u001b[0;32m   5272\u001b[0m         inplace\u001b[39m=\u001b[39;49minplace,\n\u001b[0;32m   5273\u001b[0m         errors\u001b[39m=\u001b[39;49merrors,\n\u001b[0;32m   5274\u001b[0m     )\n",
      "File \u001b[1;32m~\\AppData\\Local\\Packages\\PythonSoftwareFoundation.Python.3.11_qbz5n2kfra8p0\\LocalCache\\local-packages\\Python311\\site-packages\\pandas\\core\\generic.py:4549\u001b[0m, in \u001b[0;36mNDFrame.drop\u001b[1;34m(self, labels, axis, index, columns, level, inplace, errors)\u001b[0m\n\u001b[0;32m   4547\u001b[0m \u001b[39mfor\u001b[39;00m axis, labels \u001b[39min\u001b[39;00m axes\u001b[39m.\u001b[39mitems():\n\u001b[0;32m   4548\u001b[0m     \u001b[39mif\u001b[39;00m labels \u001b[39mis\u001b[39;00m \u001b[39mnot\u001b[39;00m \u001b[39mNone\u001b[39;00m:\n\u001b[1;32m-> 4549\u001b[0m         obj \u001b[39m=\u001b[39m obj\u001b[39m.\u001b[39;49m_drop_axis(labels, axis, level\u001b[39m=\u001b[39;49mlevel, errors\u001b[39m=\u001b[39;49merrors)\n\u001b[0;32m   4551\u001b[0m \u001b[39mif\u001b[39;00m inplace:\n\u001b[0;32m   4552\u001b[0m     \u001b[39mself\u001b[39m\u001b[39m.\u001b[39m_update_inplace(obj)\n",
      "File \u001b[1;32m~\\AppData\\Local\\Packages\\PythonSoftwareFoundation.Python.3.11_qbz5n2kfra8p0\\LocalCache\\local-packages\\Python311\\site-packages\\pandas\\core\\generic.py:4591\u001b[0m, in \u001b[0;36mNDFrame._drop_axis\u001b[1;34m(self, labels, axis, level, errors, only_slice)\u001b[0m\n\u001b[0;32m   4589\u001b[0m         new_axis \u001b[39m=\u001b[39m axis\u001b[39m.\u001b[39mdrop(labels, level\u001b[39m=\u001b[39mlevel, errors\u001b[39m=\u001b[39merrors)\n\u001b[0;32m   4590\u001b[0m     \u001b[39melse\u001b[39;00m:\n\u001b[1;32m-> 4591\u001b[0m         new_axis \u001b[39m=\u001b[39m axis\u001b[39m.\u001b[39;49mdrop(labels, errors\u001b[39m=\u001b[39;49merrors)\n\u001b[0;32m   4592\u001b[0m     indexer \u001b[39m=\u001b[39m axis\u001b[39m.\u001b[39mget_indexer(new_axis)\n\u001b[0;32m   4594\u001b[0m \u001b[39m# Case for non-unique axis\u001b[39;00m\n\u001b[0;32m   4595\u001b[0m \u001b[39melse\u001b[39;00m:\n",
      "File \u001b[1;32m~\\AppData\\Local\\Packages\\PythonSoftwareFoundation.Python.3.11_qbz5n2kfra8p0\\LocalCache\\local-packages\\Python311\\site-packages\\pandas\\core\\indexes\\base.py:6696\u001b[0m, in \u001b[0;36mIndex.drop\u001b[1;34m(self, labels, errors)\u001b[0m\n\u001b[0;32m   6694\u001b[0m \u001b[39mif\u001b[39;00m mask\u001b[39m.\u001b[39many():\n\u001b[0;32m   6695\u001b[0m     \u001b[39mif\u001b[39;00m errors \u001b[39m!=\u001b[39m \u001b[39m\"\u001b[39m\u001b[39mignore\u001b[39m\u001b[39m\"\u001b[39m:\n\u001b[1;32m-> 6696\u001b[0m         \u001b[39mraise\u001b[39;00m \u001b[39mKeyError\u001b[39;00m(\u001b[39mf\u001b[39m\u001b[39m\"\u001b[39m\u001b[39m{\u001b[39;00m\u001b[39mlist\u001b[39m(labels[mask])\u001b[39m}\u001b[39;00m\u001b[39m not found in axis\u001b[39m\u001b[39m\"\u001b[39m)\n\u001b[0;32m   6697\u001b[0m     indexer \u001b[39m=\u001b[39m indexer[\u001b[39m~\u001b[39mmask]\n\u001b[0;32m   6698\u001b[0m \u001b[39mreturn\u001b[39;00m \u001b[39mself\u001b[39m\u001b[39m.\u001b[39mdelete(indexer)\n",
      "\u001b[1;31mKeyError\u001b[0m: \"['ddB1', 'ddB2', 'edB1', 'edB2', 'ndB1', 'ndB2'] not found in axis\""
     ]
    }
   ],
   "source": [
    "# Choosing a colormap\n",
    "colormap = plt.cm.get_cmap('jet')  # You can change 'cool' to any other available colormap\n",
    "\n",
    "# Normalizing the values between 0 and 1\n",
    "norm = plt.Normalize(30, 70)\n",
    "\n",
    "\n",
    "nearest_edges['ddB1'] = np.zeros(len(nearest_edges))\n",
    "nearest_edges['ddB2'] = np.zeros(len(nearest_edges))\n",
    "nearest_edges['ddB'] = np.zeros(len(nearest_edges))\n",
    "nearest_edges['edB1'] = np.zeros(len(nearest_edges))\n",
    "nearest_edges['edB2'] = np.zeros(len(nearest_edges))\n",
    "nearest_edges['edB'] = np.zeros(len(nearest_edges))\n",
    "nearest_edges['ndB1'] = np.zeros(len(nearest_edges))\n",
    "nearest_edges['ndB2'] = np.zeros(len(nearest_edges))\n",
    "nearest_edges['ndB'] = np.zeros(len(nearest_edges))\n",
    "\n",
    "\n",
    "for edge in nearest_edges.index:\n",
    "    idxs = stations_df['nearest_ed'] == edge;\n",
    "    idxs1 = stations_df['nearest_ed1'] == edge;\n",
    "    nearest_edges['ddB1'][edge] = stations_df['m_day'][idxs].mean()\n",
    "    nearest_edges['edB1'][edge] = stations_df['m_eve'][idxs].mean()\n",
    "    nearest_edges['ndB1'][edge] = stations_df['m_nig'][idxs].mean()\n",
    "    nearest_edges['ddB2'][edge] = stations_df['m_day'][idxs1].mean()\n",
    "    nearest_edges['edB2'][edge] = stations_df['m_eve'][idxs1].mean()\n",
    "    nearest_edges['ndB2'][edge] = stations_df['m_nig'][idxs1].mean()\n",
    "    \n",
    "nearest_edges['ddB'] = .5 * nearest_edges['ddB1'] + nearest_edges['ddB2'];\n",
    "nearest_edges['edB'] = .5 * nearest_edges['edB1'] + nearest_edges['edB2'];\n",
    "nearest_edges['ndB'] = .5 * nearest_edges['ndB1'] + nearest_edges['ndB2'];\n",
    "\n",
    "nearest_edges.drop(labels=['ddB1', 'ddB2', 'edB1', 'edB2', 'ndB1', 'ndB2'], inplace=True, axis=1)\n",
    "\n",
    "# Creating a list of colors corresponding to the values\n",
    "nearest_edges['day'] = [colormap(norm(val)) for val in nearest_edges['ddB']]\n",
    "nearest_edges['eve'] = [colormap(norm(val)) for val in nearest_edges['edB']]\n",
    "nearest_edges['nig'] = [colormap(norm(val)) for val in nearest_edges['ndB']]\n",
    "\n",
    "nearest_edges['hday'] = to_hex()\n"
   ]
  },
  {
   "attachments": {},
   "cell_type": "markdown",
   "metadata": {},
   "source": [
    "# X) Print map #"
   ]
  },
  {
   "cell_type": "code",
   "execution_count": null,
   "metadata": {},
   "outputs": [],
   "source": [
    "import ast\n",
    "m = folium.Map(location=center, zoom_start=13)\n",
    "\n",
    "data = ox.graph_to_gdfs(graph3, nodes=False)\n",
    "\n",
    "for (lati, long) in zip(stations_df['latitude'], stations_df['longitude']):\n",
    "    folium.Marker(location=(long, lati)).add_to(m)\n",
    "\n",
    "# Define a function to style the road features\n",
    "def style_function(feature):\n",
    "    id = ast.literal_eval(feature.get('id'));\n",
    "    color = 'red';\n",
    "    if len(id) == 3:\n",
    "        color = nearest_edges['heve'][id];\n",
    "    return {\n",
    "        'color': color,  # Set the color of the roads (red in this example)\n",
    "        'weight': 8,         # Set the line weight\n",
    "        'opacity': 0.7       # Set the line opacity\n",
    "    }\n",
    "\n",
    "# Add the road network to the folium map as a GeoJSON layer with the specified style\n",
    "folium.GeoJson(data, style_function=style_function).add_to(m)\n",
    "m\n"
   ]
  },
  {
   "cell_type": "code",
   "execution_count": null,
   "metadata": {},
   "outputs": [],
   "source": [
    "for edge in nearest_edges.index:\n",
    "    graph3.edges[edge]['color'] = '#beff39'\n",
    "    \n",
    "for node in graph3.nodes:\n",
    "    graph3.nodes[node]['color'] = '#beff39'"
   ]
  },
  {
   "cell_type": "code",
   "execution_count": 19,
   "metadata": {},
   "outputs": [],
   "source": [
    "nearest_edges.drop(labels=['ddB1', 'ddB2', 'edB1', 'edB2', 'ndB1', 'ndB2'], inplace=True, axis=1)"
   ]
  }
 ],
 "metadata": {
  "kernelspec": {
   "display_name": "Python 3",
   "language": "python",
   "name": "python3"
  },
  "language_info": {
   "codemirror_mode": {
    "name": "ipython",
    "version": 3
   },
   "file_extension": ".py",
   "mimetype": "text/x-python",
   "name": "python",
   "nbconvert_exporter": "python",
   "pygments_lexer": "ipython3",
   "version": "3.11.3"
  },
  "orig_nbformat": 4
 },
 "nbformat": 4,
 "nbformat_minor": 2
}
