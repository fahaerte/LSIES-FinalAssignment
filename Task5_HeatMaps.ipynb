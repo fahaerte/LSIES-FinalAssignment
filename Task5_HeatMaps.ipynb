{
 "cells": [
  {
   "cell_type": "code",
   "execution_count": null,
   "metadata": {},
   "outputs": [],
   "source": [
    "import osmnx as ox\n",
    "import folium\n",
    "\n",
    "# Set the location and distance\n",
    "location_point = (59.406693, 24.701151)\n",
    "distance = 500\n",
    "\n",
    "# Retrieve the road network using osmnx\n",
    "graph = ox.graph_from_point(location_point, distance=distance, network_type='all')\n",
    "\n",
    "# Create a folium map centered around the location point\n",
    "m = folium.Map(location=[location_point[0], location_point[1]], zoom_start=15)\n",
    "\n",
    "# Convert the road network graph to GeoJSON data\n",
    "data = ox.graph_to_gdfs(graph, nodes=False)\n",
    "\n",
    "# Define a function to style the road features\n",
    "def style_function(feature):\n",
    "    return {\n",
    "        'color': '#FF0000',  # Set the color of the roads (red in this example)\n",
    "        'weight': 2,         # Set the line weight\n",
    "        'opacity': 0.7       # Set the line opacity\n",
    "    }\n",
    "\n",
    "# Add the road network to the folium map as a GeoJSON layer with the specified style\n",
    "folium.GeoJson(data, style_function=style_function).add_to(m)\n",
    "\n",
    "# Display the map\n",
    "m"
   ]
  },
  {
   "cell_type": "code",
   "execution_count": null,
   "metadata": {},
   "outputs": [],
   "source": []
  },
  {
   "cell_type": "code",
   "execution_count": null,
   "metadata": {},
   "outputs": [],
   "source": [
    "# Set the location and distance\n",
    "location_point = (59.406693, 24.701151)\n",
    "distance = 500\n",
    "\n",
    "# Retrieve the road network using osmnx\n",
    "graph = ox.graph_from_point(location_point, distance=distance, network_type='all')\n",
    "\n",
    "# Filter the road segments based on specific criteria\n",
    "filtered_graph = ox.graph_from_point(location_point, distance=distance, network_type='all', \n",
    "                                     custom_filter='[\"highway\"~\"primary|secondary\"]')\n",
    "\n",
    "# Create a folium map centered around the location point\n",
    "m = folium.Map(location=[location_point[0], location_point[1]], zoom_start=15)\n",
    "\n",
    "# Convert the filtered road network graph to GeoJSON data\n",
    "data = ox.graph_to_gdfs(filtered_graph, nodes=False)\n",
    "\n",
    "# Add the filtered road network to the folium map as a GeoJSON layer\n",
    "folium.GeoJson(data).add_to(m)\n",
    "\n",
    "# Display the map\n",
    "m"
   ]
  },
  {
   "cell_type": "code",
   "execution_count": null,
   "metadata": {},
   "outputs": [],
   "source": [
    "# Set the place or area name\n",
    "place_name = \"Your Place Name\"\n",
    "\n",
    "# Retrieve the road network graph for the specified place\n",
    "graph = ox.graph_from_place(place_name, network_type='all')\n",
    "\n",
    "# Create a folium map centered around the specified place\n",
    "m = folium.Map(location=[graph.nodes[0]['y'], graph.nodes[0]['x']], zoom_start=15)\n",
    "\n",
    "# Convert the road network graph to GeoJSON data\n",
    "data = ox.graph_to_gdfs(graph, nodes=False)\n",
    "\n",
    "# Add the road network to the folium map as a GeoJSON layer\n",
    "folium.GeoJson(data).add_to(m)\n",
    "\n",
    "# Display the map\n",
    "m"
   ]
  },
  {
   "cell_type": "code",
   "execution_count": null,
   "metadata": {},
   "outputs": [],
   "source": [
    "location_point = (59.406693, 24.701151)\n",
    "distance = 500\n",
    "\n",
    "# Retrieve the road network using osmnx\n",
    "graph = ox.graph_from_point(location_point, distance=distance, network_type='all')\n",
    "\n",
    "# Iterate over the edges of the graph and access street names\n",
    "for u, v, k, data in graph.edges(keys=True, data=True):\n",
    "    if 'name' in data:\n",
    "        street_name = data['name']\n",
    "        print(street_name)"
   ]
  },
  {
   "cell_type": "code",
   "execution_count": null,
   "metadata": {},
   "outputs": [],
   "source": [
    "# Set the location and distance\n",
    "location_point = (59.406693, 24.701151)\n",
    "distance = 500\n",
    "\n",
    "# Retrieve the road network using osmnx\n",
    "graph = ox.graph_from_point(location_point, distance=distance, network_type='all')\n",
    "\n",
    "# Widen the road segments\n",
    "buffered_graph = ox.project_graph(graph, buffer=10)  # Adjust the buffer size as needed\n",
    "\n",
    "# Create a folium map centered around the location point\n",
    "m = folium.Map(location=[location_point[0], location_point[1]], zoom_start=15)\n",
    "\n",
    "# Convert the buffered road network graph to GeoJSON data\n",
    "data = ox.graph_to_gdfs(buffered_graph, nodes=False)\n",
    "\n",
    "# Add the buffered road network to the folium map as a GeoJSON layer\n",
    "folium.GeoJson(data).add_to(m)\n",
    "\n",
    "# Display the map\n",
    "m"
   ]
  },
  {
   "cell_type": "code",
   "execution_count": 2,
   "metadata": {},
   "outputs": [
    {
     "name": "stdout",
     "output_type": "stream",
     "text": [
      "Requirement already satisfied: branca in c:\\users\\radek\\appdata\\local\\packages\\pythonsoftwarefoundation.python.3.11_qbz5n2kfra8p0\\localcache\\local-packages\\python311\\site-packages (0.6.0)Note: you may need to restart the kernel to use updated packages.\n",
      "\n",
      "Requirement already satisfied: jinja2 in c:\\users\\radek\\appdata\\local\\packages\\pythonsoftwarefoundation.python.3.11_qbz5n2kfra8p0\\localcache\\local-packages\\python311\\site-packages (from branca) (3.1.2)\n",
      "Requirement already satisfied: MarkupSafe>=2.0 in c:\\users\\radek\\appdata\\local\\packages\\pythonsoftwarefoundation.python.3.11_qbz5n2kfra8p0\\localcache\\local-packages\\python311\\site-packages (from jinja2->branca) (2.1.2)\n"
     ]
    }
   ],
   "source": [
    "pip install branca"
   ]
  },
  {
   "cell_type": "code",
   "execution_count": 4,
   "metadata": {},
   "outputs": [
    {
     "ename": "AttributeError",
     "evalue": "module 'osmnx' has no attribute 'buffer_footprints'",
     "output_type": "error",
     "traceback": [
      "\u001b[1;31m---------------------------------------------------------------------------\u001b[0m",
      "\u001b[1;31mAttributeError\u001b[0m                            Traceback (most recent call last)",
      "Cell \u001b[1;32mIn[4], line 16\u001b[0m\n\u001b[0;32m     14\u001b[0m buffer_distance \u001b[39m=\u001b[39m \u001b[39m10\u001b[39m  \u001b[39m# Adjust the buffer distance as needed\u001b[39;00m\n\u001b[0;32m     15\u001b[0m buffered_graph \u001b[39m=\u001b[39m ox\u001b[39m.\u001b[39mutils_graph\u001b[39m.\u001b[39mget_largest_component(ox\u001b[39m.\u001b[39mproject_graph(graph))\n\u001b[1;32m---> 16\u001b[0m buffered_graph \u001b[39m=\u001b[39m ox\u001b[39m.\u001b[39;49mbuffer_footprints(buffered_graph, buffer_distance)\n\u001b[0;32m     18\u001b[0m \u001b[39m# Calculate the distance from the center for each road segment\u001b[39;00m\n\u001b[0;32m     19\u001b[0m center_point \u001b[39m=\u001b[39m ox\u001b[39m.\u001b[39mdistance\u001b[39m.\u001b[39mnearest_nodes(graph, location_point[\u001b[39m1\u001b[39m], location_point[\u001b[39m0\u001b[39m])\n",
      "\u001b[1;31mAttributeError\u001b[0m: module 'osmnx' has no attribute 'buffer_footprints'"
     ]
    }
   ],
   "source": [
    "import osmnx as ox\n",
    "import folium\n",
    "import numpy as np\n",
    "from matplotlib import colors\n",
    "\n",
    "# Set the location and distance\n",
    "location_point = (59.406693, 24.701151)\n",
    "distance = 500\n",
    "\n",
    "# Retrieve the road network using osmnx\n",
    "graph = ox.graph_from_point(location_point, dist=distance, network_type='all')\n",
    "\n",
    "# Widen the road segments\n",
    "buffer_distance = 10  # Adjust the buffer distance as needed\n",
    "buffered_graph = ox.utils_graph.get_largest_component(ox.project_graph(graph))\n",
    "buffered_graph = ox.buffer_footprints(buffered_graph, buffer_distance)\n",
    "\n",
    "# Calculate the distance from the center for each road segment\n",
    "center_point = ox.distance.nearest_nodes(graph, location_point[1], location_point[0])\n",
    "distances = ox.distance.shortest_path_length(graph, center_point)\n",
    "\n",
    "# Get the maximum distance\n",
    "max_distance = max(distances.values())\n",
    "\n",
    "# Create a colormap from red to green\n",
    "cmap = colors.LinearSegmentedColormap.from_list(\n",
    "    'custom_colormap', ['#FF0000', '#00FF00']\n",
    ")\n",
    "\n",
    "# Create a folium map centered around the location point\n",
    "m = folium.Map(location=[location_point[0], location_point[1]], zoom_start=15)\n",
    "\n",
    "# Define a function to style the road features\n",
    "def style_function(feature):\n",
    "    distance = distances[feature['id']]\n",
    "    norm_distance = distance / max_distance  # Normalize the distance\n",
    "\n",
    "    # Map the normalized distance to a color in the colormap\n",
    "    color = colors.rgb2hex(cmap(norm_distance))\n",
    "\n",
    "    return {\n",
    "        'color': color,      # Set the color based on the distance\n",
    "        'weight': 8,         # Set the line weight\n",
    "        'opacity': 0.7       # Set the line opacity\n",
    "    }\n",
    "\n",
    "# Convert the buffered road network graph to GeoJSON data\n",
    "data = ox.io.utils_graph.graph_to_gdfs(buffered_graph, nodes=False)\n",
    "\n",
    "# Add the road network to the folium map as a GeoJSON layer with the specified style\n",
    "folium.GeoJson(data, style_function=style_function).add_to(m)\n",
    "\n",
    "# Display the map\n",
    "m\n"
   ]
  },
  {
   "cell_type": "code",
   "execution_count": 9,
   "metadata": {},
   "outputs": [
    {
     "ename": "AttributeError",
     "evalue": "'MultiDiGraph' object has no attribute 'feature'",
     "output_type": "error",
     "traceback": [
      "\u001b[1;31m---------------------------------------------------------------------------\u001b[0m",
      "\u001b[1;31mAttributeError\u001b[0m                            Traceback (most recent call last)",
      "Cell \u001b[1;32mIn[9], line 1\u001b[0m\n\u001b[1;32m----> 1\u001b[0m buffer_distance \u001b[39m=\u001b[39m graph\u001b[39m.\u001b[39;49mfeature[\u001b[39m'\u001b[39m\u001b[39mproperties\u001b[39m\u001b[39m'\u001b[39m][\u001b[39m'\u001b[39m\u001b[39mbuffer_distance\u001b[39m\u001b[39m'\u001b[39m]\n\u001b[0;32m      2\u001b[0m     \u001b[39m# Get the color based on the buffer distance\u001b[39;00m\n\u001b[0;32m      3\u001b[0m \u001b[39m#color = color_map(buffer_distance)\u001b[39;00m\n",
      "\u001b[1;31mAttributeError\u001b[0m: 'MultiDiGraph' object has no attribute 'feature'"
     ]
    }
   ],
   "source": [
    "buffer_distance = graph.feature['properties']['buffer_distance']\n",
    "    # Get the color based on the buffer distance\n",
    "#color = color_map(buffer_distance)"
   ]
  },
  {
   "cell_type": "code",
   "execution_count": 2,
   "metadata": {},
   "outputs": [
    {
     "ename": "AttributeError",
     "evalue": "module 'osmnx' has no attribute 'graph_distance'",
     "output_type": "error",
     "traceback": [
      "\u001b[1;31m---------------------------------------------------------------------------\u001b[0m",
      "\u001b[1;31mAttributeError\u001b[0m                            Traceback (most recent call last)",
      "Cell \u001b[1;32mIn[2], line 1\u001b[0m\n\u001b[1;32m----> 1\u001b[0m ox\u001b[39m.\u001b[39;49mgraph_distance()\n",
      "\u001b[1;31mAttributeError\u001b[0m: module 'osmnx' has no attribute 'graph_distance'"
     ]
    }
   ],
   "source": [
    "ox.graph_distance()"
   ]
  }
 ],
 "metadata": {
  "kernelspec": {
   "display_name": "Python 3",
   "language": "python",
   "name": "python3"
  },
  "language_info": {
   "codemirror_mode": {
    "name": "ipython",
    "version": 3
   },
   "file_extension": ".py",
   "mimetype": "text/x-python",
   "name": "python",
   "nbconvert_exporter": "python",
   "pygments_lexer": "ipython3",
   "version": "3.11.3"
  },
  "orig_nbformat": 4
 },
 "nbformat": 4,
 "nbformat_minor": 2
}
