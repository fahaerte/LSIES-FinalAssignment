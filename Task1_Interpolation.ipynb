{
  "cells": [
    {
      "cell_type": "code",
      "execution_count": 1,
      "metadata": {
        "id": "Vog3xPy1SLNg",
        "outputId": "8e711a20-25fd-42fc-a393-394a5c3e9140",
        "colab": {
          "base_uri": "https://localhost:8080/"
        }
      },
      "outputs": [
        {
          "output_type": "stream",
          "name": "stdout",
          "text": [
            "Looking in indexes: https://pypi.org/simple, https://us-python.pkg.dev/colab-wheels/public/simple/\n",
            "Requirement already satisfied: Basemap in /usr/local/lib/python3.10/dist-packages (1.3.7)\n",
            "Requirement already satisfied: basemap-data-hires in /usr/local/lib/python3.10/dist-packages (1.3.2)\n",
            "Requirement already satisfied: basemap-data<1.4,>=1.3.2 in /usr/local/lib/python3.10/dist-packages (from Basemap) (1.3.2)\n",
            "Requirement already satisfied: pyshp<2.4,>=1.2 in /usr/local/lib/python3.10/dist-packages (from Basemap) (2.3.1)\n",
            "Requirement already satisfied: matplotlib<3.8,>=1.5 in /usr/local/lib/python3.10/dist-packages (from Basemap) (3.7.1)\n",
            "Requirement already satisfied: pyproj<3.6.0,>=1.9.3 in /usr/local/lib/python3.10/dist-packages (from Basemap) (3.5.0)\n",
            "Requirement already satisfied: numpy<1.25,>=1.22 in /usr/local/lib/python3.10/dist-packages (from Basemap) (1.22.4)\n",
            "Requirement already satisfied: contourpy>=1.0.1 in /usr/local/lib/python3.10/dist-packages (from matplotlib<3.8,>=1.5->Basemap) (1.0.7)\n",
            "Requirement already satisfied: cycler>=0.10 in /usr/local/lib/python3.10/dist-packages (from matplotlib<3.8,>=1.5->Basemap) (0.11.0)\n",
            "Requirement already satisfied: fonttools>=4.22.0 in /usr/local/lib/python3.10/dist-packages (from matplotlib<3.8,>=1.5->Basemap) (4.39.3)\n",
            "Requirement already satisfied: kiwisolver>=1.0.1 in /usr/local/lib/python3.10/dist-packages (from matplotlib<3.8,>=1.5->Basemap) (1.4.4)\n",
            "Requirement already satisfied: packaging>=20.0 in /usr/local/lib/python3.10/dist-packages (from matplotlib<3.8,>=1.5->Basemap) (23.1)\n",
            "Requirement already satisfied: pillow>=6.2.0 in /usr/local/lib/python3.10/dist-packages (from matplotlib<3.8,>=1.5->Basemap) (8.4.0)\n",
            "Requirement already satisfied: pyparsing>=2.3.1 in /usr/local/lib/python3.10/dist-packages (from matplotlib<3.8,>=1.5->Basemap) (3.0.9)\n",
            "Requirement already satisfied: python-dateutil>=2.7 in /usr/local/lib/python3.10/dist-packages (from matplotlib<3.8,>=1.5->Basemap) (2.8.2)\n",
            "Requirement already satisfied: certifi in /usr/local/lib/python3.10/dist-packages (from pyproj<3.6.0,>=1.9.3->Basemap) (2022.12.7)\n",
            "Requirement already satisfied: six>=1.5 in /usr/local/lib/python3.10/dist-packages (from python-dateutil>=2.7->matplotlib<3.8,>=1.5->Basemap) (1.16.0)\n",
            "Looking in indexes: https://pypi.org/simple, https://us-python.pkg.dev/colab-wheels/public/simple/\n",
            "Requirement already satisfied: pandas in /usr/local/lib/python3.10/dist-packages (1.5.3)\n",
            "Requirement already satisfied: matplotlib in /usr/local/lib/python3.10/dist-packages (3.7.1)\n",
            "Requirement already satisfied: numpy in /usr/local/lib/python3.10/dist-packages (1.22.4)\n",
            "Requirement already satisfied: python-dateutil>=2.8.1 in /usr/local/lib/python3.10/dist-packages (from pandas) (2.8.2)\n",
            "Requirement already satisfied: pytz>=2020.1 in /usr/local/lib/python3.10/dist-packages (from pandas) (2022.7.1)\n",
            "Requirement already satisfied: contourpy>=1.0.1 in /usr/local/lib/python3.10/dist-packages (from matplotlib) (1.0.7)\n",
            "Requirement already satisfied: cycler>=0.10 in /usr/local/lib/python3.10/dist-packages (from matplotlib) (0.11.0)\n",
            "Requirement already satisfied: fonttools>=4.22.0 in /usr/local/lib/python3.10/dist-packages (from matplotlib) (4.39.3)\n",
            "Requirement already satisfied: kiwisolver>=1.0.1 in /usr/local/lib/python3.10/dist-packages (from matplotlib) (1.4.4)\n",
            "Requirement already satisfied: packaging>=20.0 in /usr/local/lib/python3.10/dist-packages (from matplotlib) (23.1)\n",
            "Requirement already satisfied: pillow>=6.2.0 in /usr/local/lib/python3.10/dist-packages (from matplotlib) (8.4.0)\n",
            "Requirement already satisfied: pyparsing>=2.3.1 in /usr/local/lib/python3.10/dist-packages (from matplotlib) (3.0.9)\n",
            "Requirement already satisfied: six>=1.5 in /usr/local/lib/python3.10/dist-packages (from python-dateutil>=2.8.1->pandas) (1.16.0)\n",
            "Looking in indexes: https://pypi.org/simple, https://us-python.pkg.dev/colab-wheels/public/simple/\n",
            "Requirement already satisfied: sklearn in /usr/local/lib/python3.10/dist-packages (0.0.post5)\n",
            "Looking in indexes: https://pypi.org/simple, https://us-python.pkg.dev/colab-wheels/public/simple/\n",
            "Requirement already satisfied: datetime in /usr/local/lib/python3.10/dist-packages (5.1)\n",
            "Requirement already satisfied: zope.interface in /usr/local/lib/python3.10/dist-packages (from datetime) (6.0)\n",
            "Requirement already satisfied: pytz in /usr/local/lib/python3.10/dist-packages (from datetime) (2022.7.1)\n",
            "Requirement already satisfied: setuptools in /usr/local/lib/python3.10/dist-packages (from zope.interface->datetime) (67.7.2)\n",
            "Drive already mounted at /content/drive; to attempt to forcibly remount, call drive.mount(\"/content/drive\", force_remount=True).\n",
            "/content/drive/MyDrive/LSIS\n"
          ]
        }
      ],
      "source": [
        "# Environment variables\n",
        "drive = True\n",
        "install_packages = True\n",
        "\n",
        "# If necessary, install packages\n",
        "if install_packages:\n",
        "  !pip install Basemap basemap-data-hires\n",
        "  !pip install pandas matplotlib numpy\n",
        "  !pip install sklearn\n",
        "  !pip install datetime\n",
        "\n",
        "# Imports\n",
        "import os\n",
        "import pandas as pd\n",
        "import matplotlib.pyplot as plt\n",
        "import numpy as np\n",
        "from csv import reader\n",
        "from sklearn.metrics import r2_score\n",
        "from datetime import datetime\n",
        "from datetime import timedelta as tdelta\n",
        "from datetime import time as time\n",
        "import warnings\n",
        "\n",
        "warnings.simplefilter(action='ignore', category=FutureWarning)\n",
        "warnings.simplefilter(action='ignore', category=pd.errors.PerformanceWarning)\n",
        "warnings.simplefilter(action='ignore', category=pd.errors.SettingWithCopyWarning)\n",
        "\n",
        "# Mount drive if needed\n",
        "if drive:\n",
        "  from google.colab import drive\n",
        "  drive.mount('/content/drive')\n",
        "  %cd /content/drive/MyDrive/LSIS\n",
        "\n",
        "from Helper_funcs import *\n",
        "from SensorPositions_Func import *\n",
        "from SVD_Func import *\n",
        "\n",
        "# Depending on the environemnt, set directory to data\n",
        "if drive:\n",
        "  dir_path = '/content/drive/MyDrive/LSIS/data/'\n",
        "else :\n",
        "  dir_path = './data/'\n",
        "\n",
        "folders = ['region_1_mustamäe_kristiine', 'region_2_data_kesklinn', 'region_3_kadriorg_lasnamäe', 'region_4_ülemiste']\n",
        "columns_sensors_positions = ['sensor_name', 'latitude', 'longitude', 'region']"
      ]
    },
    {
      "cell_type": "markdown",
      "metadata": {
        "id": "54q2fnTYRsEK"
      },
      "source": [
        "## I. Data import ##"
      ]
    },
    {
      "cell_type": "markdown",
      "metadata": {
        "id": "qEi_7IYNRsEL",
        "pycharm": {
          "name": "#%% md\n"
        }
      },
      "source": [
        "### I.a) Import positions ###"
      ]
    },
    {
      "cell_type": "code",
      "execution_count": 2,
      "metadata": {
        "id": "QBv3pukARsEM"
      },
      "outputs": [],
      "source": [
        "csv_file_name = 'sensor_positions.csv'\n",
        "coords = []\n",
        "IDs = []\n",
        "\n",
        "with open(dir_path + csv_file_name, 'r') as read_obj:\n",
        "    csv_reader = reader(read_obj)\n",
        "    for row in csv_reader:\n",
        "        coord = (float(row[0].split(' ')[0].replace('(', '')), \n",
        "                 float(row[0].split(' ')[1].replace(')', '')) )\n",
        "        coords.append(coord)\n",
        "        \n",
        "        IDs.append(row[1])\n",
        "\n",
        "stations_df = import_sensor_positions(dir_path, csv_file_name)\n",
        "# stations_df = pd.DataFrame(data={'coords': coords, 'IDs': IDs})\n",
        "# stations_df.drop_duplicates(subset='IDs', keep='first', inplace=True)\n",
        "# stations_df.set_index('IDs', inplace=True)\n",
        "stations_df.set_index('IDs', inplace=True)\n",
        "IDs = list(stations_df.index)\n",
        "\n",
        "del csv_file_name, coords, csv_reader, read_obj, row"
      ]
    },
    {
      "cell_type": "markdown",
      "metadata": {
        "id": "SMXe2-VnRsEM"
      },
      "source": [
        "### I.b) Form groups based on distance between stations ###"
      ]
    },
    {
      "cell_type": "code",
      "execution_count": 3,
      "metadata": {
        "colab": {
          "base_uri": "https://localhost:8080/"
        },
        "id": "0JxSdEckRsEN",
        "outputId": "6b08f9ce-b2a8-4880-e5e1-b9cc7c295426"
      },
      "outputs": [
        {
          "output_type": "stream",
          "name": "stdout",
          "text": [
            "create groups of sensors based on distance between them\n"
          ]
        }
      ],
      "source": [
        "groups = make_groups(IDs, stations_df)\n",
        "stations_df.insert(loc=1, column='grps', value=groups['grp'])\n",
        "\n",
        "del groups"
      ]
    },
    {
      "cell_type": "code",
      "execution_count": 4,
      "metadata": {
        "colab": {
          "base_uri": "https://localhost:8080/"
        },
        "id": "6BuAhfLQRsEO",
        "outputId": "65c7afab-ed81-491d-cf82-00a4d619c2ca"
      },
      "outputs": [
        {
          "output_type": "stream",
          "name": "stdout",
          "text": [
            "       latitude                grps  longitude region\n",
            "IDs                                                  \n",
            "2004  24.726405  [2018, 2078, 201D]  59.398497      1\n",
            "2013  24.748805  [2052, 2360, 2042]  59.434405      2\n",
            "2015  24.751089  [203D, 2086, 2042]  59.434361      2\n",
            "2018  24.726473  [2078, 2004, 201D]  59.396803      1\n",
            "201A  24.744596              [2087]  59.441991      2\n"
          ]
        }
      ],
      "source": [
        "folders = ['region_1_mustamäe_kristiine', 'region_2_data_kesklinn', 'region_3_kadriorg_lasnamäe', 'region_4_ülemiste']\n",
        "stations_df['region'] = ''\n",
        "\n",
        "for folder in folders:\n",
        "    for file in os.listdir(dir_path + folder):\n",
        "        sensor_name = file.split('-')[0]\n",
        "        region = int(folder.split('_')[1])\n",
        "        stations_df['region'][sensor_name] = region\n",
        "\n",
        "print(stations_df.head())"
      ]
    },
    {
      "cell_type": "markdown",
      "metadata": {
        "id": "4E-SMFX3RsEP"
      },
      "source": [
        "### I.c) Import sound pressure values ###"
      ]
    },
    {
      "cell_type": "code",
      "execution_count": 5,
      "metadata": {
        "id": "pHPCzbRvRsEQ",
        "pycharm": {
          "name": "#%%\n"
        }
      },
      "outputs": [],
      "source": [
        "start_time = datetime.strptime('2022.08.01 00:00:00', '%Y.%m.%d %H:%M:%S')\n",
        "end_time = datetime.strptime('2022.08.13 23:59:00', '%Y.%m.%d %H:%M:%S')\n",
        "\n",
        "df_data_incomplete = import_sensor_data(dir_path)\n",
        "\n",
        "del dir_path, file, folder, coord, folders, sensor_name"
      ]
    },
    {
      "cell_type": "markdown",
      "metadata": {
        "id": "He_OsXYoRsEQ",
        "pycharm": {
          "name": "#%% md\n"
        }
      },
      "source": [
        "Append all csv files to a list of dataframes and add the id of the sensor to distinguish them later on"
      ]
    },
    {
      "cell_type": "code",
      "execution_count": 6,
      "metadata": {
        "id": "myYCSOMyRsEQ",
        "pycharm": {
          "name": "#%%\n"
        }
      },
      "outputs": [],
      "source": [
        "#del coord, folders, sensor_name"
      ]
    },
    {
      "cell_type": "markdown",
      "metadata": {
        "id": "I_tsMpCpRsEQ"
      },
      "source": [
        "### I.d) Get rid of duplicates and fill in missing timestamps ###\n",
        "-> data is transformed into uniformely sampled data with `np.nan()` in place of missing values\n",
        "-> start date is 2022.02.20 00:00:00, stop date is 2022.03.05 00:00:00\n",
        "-> all data is organised into a DataFrame, columns=Sensor IDs, index=Timestamps"
      ]
    },
    {
      "cell_type": "code",
      "execution_count": 6,
      "metadata": {
        "id": "OpSV9iNmRsER"
      },
      "outputs": [],
      "source": []
    },
    {
      "cell_type": "markdown",
      "metadata": {
        "id": "bMMFwDUdRsER",
        "pycharm": {
          "name": "#%% md\n"
        }
      },
      "source": [
        "## II. Interpolation ##"
      ]
    },
    {
      "cell_type": "markdown",
      "metadata": {
        "id": "dsBet9UCRsER"
      },
      "source": [
        "### II.a) Simple interpolation ###\n",
        "-> 'nearest'\n",
        "\n",
        "-> 'linear'"
      ]
    },
    {
      "cell_type": "code",
      "execution_count": 7,
      "metadata": {
        "id": "7CJWMwV9RsER",
        "pycharm": {
          "name": "#%%\n"
        }
      },
      "outputs": [],
      "source": [
        "#interpolate data using 'nearest' method\n",
        "\n",
        "#temp_df = df_data_incomplete.interpolate(method='nearest')\n",
        "#df_data_nearest = temp_df.interpolate(limit_area=None, method='backfill')\n",
        "  \n",
        "#temp_df = df_data_incomplete.interpolate(method='linear')\n",
        "#df_data_linear = temp_df.interpolate(limit_area=None, method='backfill') \n",
        "#df_data_linear.apply(lambda x: np.round(x, 1), 1);\n"
      ]
    },
    {
      "cell_type": "markdown",
      "metadata": {
        "id": "IKwtCik_RsES"
      },
      "source": [
        "### II.b) Attempts on advanced interpolation ###"
      ]
    },
    {
      "cell_type": "markdown",
      "metadata": {
        "id": "8G1bk2m3RsES"
      },
      "source": [
        "#### II.b.1) Raw data separation and filtering ####\n",
        "-> data is separated into 2 groups: workdays(`df_work_...`), weekenddays(`df_end_...`)\n",
        "\n",
        "-> average workday (`df_workd_mean`) and average weekend day (`df_endd_mean`) are created by averaging all available data for a specific timestamp of all workdays/weekend days"
      ]
    },
    {
      "cell_type": "code",
      "execution_count": 8,
      "metadata": {
        "id": "XE9c-lOQRsES"
      },
      "outputs": [],
      "source": [
        "day_str = datetime.strptime('2023.05.01 00:00:00', '%Y.%m.%d %H:%M:%S')\n",
        "day_stp = datetime.strptime('2023.05.01 23:59:59', '%Y.%m.%d %H:%M:%S')\n",
        "daindex = pd.date_range(day_str, day_stp, freq='1min')\n",
        "\n",
        "df_workd_mean = pd.DataFrame(index=daindex, columns=IDs)\n",
        "df_endd_mean = pd.DataFrame(index=daindex, columns=IDs)\n",
        "\n",
        "df_work_all = df_data_incomplete.loc[df_data_incomplete.index.day_of_week < 5].copy()\n",
        "df_end_all = df_data_incomplete.loc[df_data_incomplete.index.day_of_week > 4].copy()\n",
        "\n",
        "for moment in daindex:\n",
        "    idxs_work = df_work_all.index.indexer_at_time(moment.time())\n",
        "    idxs_end = df_end_all.index.indexer_at_time(moment.time())\n",
        "    # df_workd_mean - average workday of the station\n",
        "    df_workd_mean.loc[moment] = df_work_all.iloc[idxs_work].mean()\n",
        "    # df_endd_mean - average weekend day of the station\n",
        "    df_endd_mean.loc[moment] = df_end_all.iloc[idxs_end].mean()\n",
        "\n",
        "del day_stp, day_str, idxs_work, idxs_end, moment"
      ]
    },
    {
      "cell_type": "markdown",
      "metadata": {
        "id": "-ynOjQuTRsES"
      },
      "source": [
        "#### II.b.4) Mean-day model interpolation ####\n",
        "-> mean work and weekend day are expanded into whole available time period for simpler computations"
      ]
    },
    {
      "cell_type": "code",
      "execution_count": 9,
      "metadata": {
        "colab": {
          "base_uri": "https://localhost:8080/"
        },
        "id": "dkah8rY7RsET",
        "outputId": "184eda14-e471-45b4-ac93-92b15d10a807"
      },
      "outputs": [
        {
          "output_type": "stream",
          "name": "stdout",
          "text": [
            "201D    1141\n",
            "2043    1181\n",
            "229B    1500\n",
            "2284    1090\n",
            "2346    2750\n",
            "        ... \n",
            "2240    6151\n",
            "2396    2456\n",
            "21C2    2236\n",
            "2289    1157\n",
            "2329    3782\n",
            "Length: 241, dtype: int64\n"
          ]
        }
      ],
      "source": [
        "\n",
        "df_mean_ww = df_work_all.copy()\n",
        "df_mean_we = df_end_all.copy()\n",
        "\n",
        "for moment in daindex:\n",
        "    idxs_work = df_work_all.index.indexer_at_time(moment.time())\n",
        "    idxs_end = df_end_all.index.indexer_at_time(moment.time())\n",
        "    \n",
        "    df_mean_ww.iloc[idxs_work] = df_workd_mean.loc[moment]\n",
        "    df_mean_we.iloc[idxs_end] = df_endd_mean.loc[moment]\n",
        "    \n",
        "df_mean = pd.concat([df_mean_we, df_mean_ww], axis=0)\n",
        "df_mean.sort_index(inplace=True)\n",
        "\n",
        "del df_mean_ww, df_mean_we, idxs_end, idxs_work, moment, df_work_all, df_end_all\n",
        "\n",
        "print(df_mean.isna().sum())"
      ]
    },
    {
      "cell_type": "markdown",
      "metadata": {
        "id": "wyfHsgYaRsET"
      },
      "source": [
        "#### II.b.3) Neighbor data interpolation ####\n",
        "Missing data is filled with data of neighboring sensors\n",
        "1) calculate correlation coefficients\n",
        "    1) for raw data\n",
        "    2) for average day\n",
        "2) calculate linear approximation (no offset)\n",
        "3) approximate missing data (only if raw data available)"
      ]
    },
    {
      "cell_type": "code",
      "execution_count": 10,
      "metadata": {
        "id": "z-sH7c86RsET"
      },
      "outputs": [],
      "source": [
        "# 1.1)\n",
        "IDs_set = set(IDs);\n",
        "\n",
        "tdata = [[] for _ in range(len(IDs))]\n",
        "stations_df['grp_corrs_i']= tdata\n",
        "icors = []\n",
        "ixx = []\n",
        "iscorr = []\n",
        "\n",
        "for id in IDs:\n",
        "    # 1) extract group of sensors\n",
        "    if id in stations_df.index:\n",
        "        group = set(stations_df.loc[id]['grps'])\n",
        "        # 2) filter out non-existing sensors\n",
        "        group = list(IDs_set & group)\n",
        "        # 3) extract data\n",
        "        group_df = df_data_incomplete[group]\n",
        "        single_df = df_data_incomplete[id]\n",
        "        stations_df['grps'][id] = group\n",
        "        corrs = []\n",
        "        icors = []\n",
        "        for fid in group:\n",
        "            # 5) determine lag for precision improvement\n",
        "            tempc = calculate_correlations(single_df, group_df[fid])\n",
        "            ttemp = list(np.absolute(tempc))\n",
        "            itemp = ttemp.index(max(ttemp))\n",
        "            ttuple = (tempc[itemp], itemp-10, fid)\n",
        "            corrs.append(ttuple)\n",
        "            icors.append(max(tempc))\n",
        "            \n",
        "        stations_df['grp_corrs_i'][id] = corrs\n",
        "        ixx.append(id)\n",
        "        iscorr.append(icors)\n",
        "        #print(corrs)\n",
        "try:\n",
        "  del tempc, ttemp, itemp, ttuple, icors, group, corrs\n",
        "except:\n",
        "  pass\n"
      ]
    },
    {
      "cell_type": "code",
      "execution_count": 11,
      "metadata": {
        "id": "At0jhA3qRsEU"
      },
      "outputs": [],
      "source": [
        "# 1.2)\n",
        "IDs_set = set(IDs);\n",
        "\n",
        "tdata = [[] for _ in range(len(IDs))]\n",
        "stations_df['grp_corrs_m']= tdata\n",
        "\n",
        "mcors = []\n",
        "mxx = []\n",
        "\n",
        "mscors = []\n",
        "msxx = []\n",
        "\n",
        "for id in IDs:\n",
        "    # 1) extract group of sensors\n",
        "    if id in stations_df.index:\n",
        "        group = set(stations_df.loc[id]['grps'])\n",
        "        # 2) filter out non-existing sensors\n",
        "        group = list(IDs_set & group)\n",
        "        # 3) extract data\n",
        "        group_df = df_mean[group]\n",
        "        single_df = df_mean[id]\n",
        "        stations_df['grps'][id] = group\n",
        "        corrs = []\n",
        "        mcors = []\n",
        "        for fid in group:\n",
        "            # 5) determine lag for precision improvement\n",
        "            temp = calculate_correlations(single_df, group_df[fid])\n",
        "            ttemp = list(np.absolute(temp))\n",
        "            itemp = ttemp.index(max(ttemp))\n",
        "            ttuple = (temp[itemp], itemp-10, fid)\n",
        "            mcors.append(max(temp))\n",
        "            corrs.append(ttuple)\n",
        "        stations_df['grp_corrs_m'][id] = corrs\n",
        "        mxx.append(id)\n",
        "        mscors.append(mcors)\n",
        "        #print(corrs)\n",
        "\n",
        "try:\n",
        "  del temp, ttemp, itemp, ttuple, mcors, group, corrs\n",
        "except:\n",
        "  pass"
      ]
    },
    {
      "cell_type": "code",
      "execution_count": 12,
      "metadata": {
        "colab": {
          "base_uri": "https://localhost:8080/",
          "height": 486
        },
        "id": "b8YXan7KRsEU",
        "outputId": "1cc09fd4-f479-4b1c-c5cc-ffb179ff7287"
      },
      "outputs": [
        {
          "output_type": "display_data",
          "data": {
            "text/plain": [
              "<Figure size 640x480 with 2 Axes>"
            ],
            "image/png": "[encoded data removed]"
          },
          "metadata": {}
        }
      ],
      "source": [
        "fig, ax = plt.subplots(2,1)\n",
        "\n",
        "arr0 = []\n",
        "arr1 = []\n",
        "arr2 = []\n",
        "for i in range(0,len(iscorr)):\n",
        "    if len(iscorr[i]) > 0:\n",
        "        arr0.append(iscorr[i][0])\n",
        "    else:\n",
        "        arr0.append(0)\n",
        "    \n",
        "    if len(iscorr[i]) > 1:\n",
        "        arr1.append(iscorr[i][1])\n",
        "    else:\n",
        "        arr1.append(0)\n",
        "        \n",
        "    if len(iscorr[i]) > 2:\n",
        "        arr2.append(iscorr[i][2])\n",
        "    else:\n",
        "        arr2.append(0)\n",
        "        \n",
        "X = np.arange(len(ixx))\n",
        "\n",
        "ax[0].set_xlabel('station ID')\n",
        "ax[0].set_ylabel('maximum correlation')\n",
        "ax[0].bar(X, arr0, color='r', width = 0.25)\n",
        "ax[0].bar(X-.25, arr1, color='g', width = 0.25)\n",
        "ax[0].bar(X+.25, arr2, color='b', width = 0.25, tick_label=ixx)\n",
        "ax[0].set_title('raw data')\n",
        "\n",
        "arr0 = []\n",
        "arr1 = []\n",
        "arr2 = []\n",
        "for i in range(0,len(mscors)):\n",
        "    if len(mscors[i]) > 0:\n",
        "        arr0.append(mscors[i][0])\n",
        "    else:\n",
        "        arr0.append(0)\n",
        "    \n",
        "    if len(mscors[i]) > 1:\n",
        "        arr1.append(mscors[i][1])\n",
        "    else:\n",
        "        arr1.append(0)\n",
        "        \n",
        "    if len(mscors[i]) > 2:\n",
        "        arr2.append(mscors[i][2])\n",
        "    else:\n",
        "        arr2.append(0)\n",
        "        \n",
        "X = np.arange(len(mxx))\n",
        "\n",
        "ax[1].set_xlabel('station ID')\n",
        "ax[1].set_ylabel('maximum correlation')\n",
        "ax[1].bar(X, arr0, color='r', width = 0.25, tick_label=mxx)\n",
        "ax[1].bar(X - .25, arr1, color='g', width = 0.25, tick_label=mxx)\n",
        "ax[1].bar(X + .25, arr2, color='b', width = 0.25, tick_label=mxx)\n",
        "ax[1].set_title('mean day data')\n",
        "\n",
        "fig.tight_layout()\n",
        "plt.show()\n",
        "\n",
        "del X, arr0, arr1, arr2, ixx, mxx, mscors"
      ]
    },
    {
      "cell_type": "markdown",
      "metadata": {
        "id": "bZ_v-ZjBRsEU"
      },
      "source": [
        "Raw data clearly shows higher correlation than the averaged one - raw data will be used to fill missing values."
      ]
    },
    {
      "cell_type": "code",
      "execution_count": 13,
      "metadata": {
        "id": "EDs4Osk-RsEV"
      },
      "outputs": [],
      "source": [
        "# 2) calculate betas and alphas\n",
        "   \n",
        "xx = []\n",
        "betas = []    \n",
        "    \n",
        "IDs_set = set(IDs);\n",
        "\n",
        "tdata = [[] for _ in range(len(IDs))]\n",
        "stations_df['grp_linear']= tdata\n",
        "\n",
        "for id in IDs:\n",
        "    if id in stations_df.index:\n",
        "        group_ls = stations_df.loc[id]['grp_corrs_i']\n",
        "        single_df = df_data_incomplete[id]\n",
        "        beta = []\n",
        "        for ftup in group_ls:\n",
        "            # 5) determine lag for precision improvement\n",
        "            if ftup[0] > .5:\n",
        "                fid = ftup[2]\n",
        "                lag = ftup[1]\n",
        "                group_df = df_data_incomplete[fid]\n",
        "                tbe, tal = calculate_linear_regression(single_df, group_df, lag)\n",
        "                ttuple = (tbe, tal, lag, fid)\n",
        "                beta.append(ttuple)\n",
        "            \n",
        "        stations_df['grp_linear'][id] = beta\n",
        "        xx.append(id)\n",
        "        betas.append(beta)\n",
        "try:\n",
        "  del tbe, tal, ttuple, ftup, fid, lag, xx, beta, betas\n",
        "except:\n",
        "  pass"
      ]
    },
    {
      "cell_type": "code",
      "execution_count": 14,
      "metadata": {
        "colab": {
          "base_uri": "https://localhost:8080/"
        },
        "id": "AJt4hP0hRsEV",
        "outputId": "9ba0220e-2832-4ddd-fc10-1a1e6ecb4622"
      },
      "outputs": [
        {
          "output_type": "stream",
          "name": "stdout",
          "text": [
            "201D    15672\n",
            "2043    13237\n",
            "229B    14404\n",
            "2284    13494\n",
            "2346    14480\n",
            "        ...  \n",
            "2240    12190\n",
            "2396    12362\n",
            "21C2    13388\n",
            "2289    15536\n",
            "2329    15939\n",
            "Length: 241, dtype: int64\n",
            "201D     6695\n",
            "2043     9750\n",
            "229B     7642\n",
            "2284     7324\n",
            "2346    14480\n",
            "        ...  \n",
            "2240     4376\n",
            "2396     7199\n",
            "21C2    13388\n",
            "2289     4424\n",
            "2329    10484\n",
            "Length: 241, dtype: int64\n"
          ]
        }
      ],
      "source": [
        "df_data_neighbor = df_data_incomplete.copy()\n",
        "group_df = pd.DataFrame()\n",
        "rmses = []\n",
        "xx = []\n",
        "\n",
        "# 3) Fill in missing values\n",
        "for id in IDs:\n",
        "    if id in stations_df.index:\n",
        "        group_ls = stations_df.loc[id]['grp_linear']\n",
        "        single_df = df_data_incomplete[id].copy()\n",
        "        betas = []\n",
        "        alphas = []\n",
        "        lags = []\n",
        "        group_df.drop(columns = group_df.columns, inplace=True)\n",
        "        for ftup in group_ls:\n",
        "            # 5) determine lag for precision improvement\n",
        "            beta = ftup[0]\n",
        "            alpha = ftup[1]\n",
        "            lag = ftup[2]\n",
        "            betas.append(beta)\n",
        "            alphas.append(alpha)\n",
        "            lags.append(lag)\n",
        "            group_df[ftup[3]] = df_data_incomplete[ftup[3]]\n",
        "        \n",
        "        df_neighbor_temp, rmset = fill_missing_values(single_df, group_df, lags, betas, alphas)  \n",
        "        df_data_neighbor[id] = df_neighbor_temp\n",
        "        rmses.append(rmset)\n",
        "        xx.append(id)\n",
        "\n",
        "print(df_data_incomplete.isna().sum())\n",
        "print(df_data_neighbor.isna().sum())"
      ]
    },
    {
      "cell_type": "markdown",
      "metadata": {
        "id": "w9NY2e0DRsEV"
      },
      "source": [
        "The values acquired by linear combination of all group stations are compared with original data of main station where possible. Used metric is RMSE"
      ]
    },
    {
      "cell_type": "code",
      "execution_count": 15,
      "metadata": {
        "colab": {
          "base_uri": "https://localhost:8080/",
          "height": 487
        },
        "id": "kpZnSc5CRsEW",
        "outputId": "16adbe2c-a0b6-488b-f6aa-9da86290ab95"
      },
      "outputs": [
        {
          "output_type": "display_data",
          "data": {
            "text/plain": [
              "<Figure size 640x480 with 1 Axes>"
            ],
            "image/png": "[encoded data removed]"
          },
          "metadata": {}
        }
      ],
      "source": [
        "fig, ax = plt.subplots(1,1) \n",
        "\n",
        "arr0 = []\n",
        "arr1 = []\n",
        "arr2 = []\n",
        "arr3 = []\n",
        "for i in range(0,len(rmses)):\n",
        "    if len(rmses[i]) > 0:\n",
        "        arr0.append(rmses[i][0])\n",
        "    else:\n",
        "        arr0.append(0)\n",
        "        \n",
        "    if len(rmses[i]) > 1:\n",
        "        arr1.append(rmses[i][1])\n",
        "    else:\n",
        "        arr1.append(0)\n",
        "        \n",
        "    if len(rmses[i]) > 2:\n",
        "        arr2.append(rmses[i][2])\n",
        "    else:\n",
        "        arr2.append(0) \n",
        "    if len(rmses[i]) > 3:\n",
        "        arr3.append(rmses[i][3])\n",
        "    else:\n",
        "        arr3.append(0) \n",
        "        \n",
        "X = np.arange(len(xx))\n",
        "\n",
        "ax.set_xlabel('station ID')\n",
        "ax.set_ylabel('RMSE [dB]')\n",
        "ax.bar(X-.30, arr0, color='r', width = 0.20)\n",
        "ax.bar(X-.10, arr1, color='g', width = 0.20)\n",
        "ax.bar(X+.10, arr2, color='b', width = 0.20, tick_label=xx)\n",
        "ax.bar(X+.30, arr3, color='c', width = 0.20)\n",
        "ax.set_title('RMSE for interpolation using neighboring stations')\n",
        "ax.legend(['mean of all stations', 'group station 0',\n",
        "           'group station 1', 'group station 2'])\n",
        "\n",
        "\n",
        "fig.tight_layout()\n",
        "plt.show()\n",
        "\n",
        "try:        \n",
        "  del xx, rmset, X, arr1, arr2, arr3, arr0\n",
        "except:\n",
        "  pass"
      ]
    },
    {
      "cell_type": "markdown",
      "metadata": {
        "id": "Ro9HGRf2RsEW"
      },
      "source": [
        "Since the combination of all members of the group does not always give best results, Kalman fiter assimilation approach is applied where RMSE is used as variance aproximation\n"
      ]
    },
    {
      "cell_type": "code",
      "execution_count": 16,
      "metadata": {
        "id": "jXB_-sc4RsEW"
      },
      "outputs": [],
      "source": [
        "df_data_neighbor = df_data_incomplete.copy()\n",
        "group_df = pd.DataFrame()\n",
        "rmses1 = []\n",
        "xx = []\n",
        "\n",
        "# 3) Fill in missing values\n",
        "for id in IDs:\n",
        "    if id in stations_df.index:\n",
        "        group_ls = stations_df.loc[id]['grp_linear']\n",
        "        single_df = df_data_incomplete[id].copy()\n",
        "        betas = []\n",
        "        alphas = []\n",
        "        lags = []\n",
        "        group_df.drop(columns = group_df.columns, inplace=True)\n",
        "        for ftup in group_ls:\n",
        "            # 5) determine lag for precision improvement\n",
        "            beta = ftup[0]\n",
        "            alpha = ftup[1]\n",
        "            lag = ftup[2]\n",
        "            betas.append(beta)\n",
        "            alphas.append(alpha)\n",
        "            lags.append(lag)\n",
        "            group_df[ftup[3]] = df_data_incomplete[ftup[3]]\n",
        "        \n",
        "        df_neighbor_temp, rmset = fill_missing_values_assim(single_df, group_df, lags, betas, alphas)  \n",
        "        df_data_neighbor[id] = df_neighbor_temp\n",
        "        rmses1.append(rmset)\n",
        "        xx.append(id)\n",
        "\n",
        "try:         \n",
        "  del beta, alpha, lag, betas, alphas, lags\n",
        "except:\n",
        "  pass\n",
        "#print(df_data_incomplete.isna().sum())\n",
        "#print(df_data_neighbor.isna().sum())"
      ]
    },
    {
      "cell_type": "code",
      "execution_count": 17,
      "metadata": {
        "colab": {
          "base_uri": "https://localhost:8080/",
          "height": 487
        },
        "id": "22j0DDB7RsEW",
        "outputId": "d00ef4c8-ee60-43e2-d56d-c29ee5f173ff"
      },
      "outputs": [
        {
          "output_type": "display_data",
          "data": {
            "text/plain": [
              "<Figure size 640x480 with 1 Axes>"
            ],
            "image/png": "[encoded data removed]"
          },
          "metadata": {}
        }
      ],
      "source": [
        "fig, ax = plt.subplots(1,1) \n",
        "\n",
        "arr0 = []\n",
        "arr1 = []\n",
        "for i in range(0,len(rmses)):\n",
        "    if len(rmses[i]) > 0:\n",
        "        arr0.append(rmses[i][0])\n",
        "    else:\n",
        "        arr0.append(0)\n",
        "\n",
        "for i in range(0,len(rmses1)):\n",
        "    if len(rmses1[i]) > 0:\n",
        "        arr1.append(rmses1[i][-1])\n",
        "    else:\n",
        "        arr1.append(0)\n",
        "    \n",
        "        \n",
        "X = np.arange(len(xx))\n",
        "\n",
        "ax.set_xlabel('station ID')\n",
        "ax.set_ylabel('RMSE [dB]')\n",
        "ax.bar(X-.10, arr0, color='r', width = 0.20)\n",
        "ax.bar(X+.10, arr1, color='g', width = 0.20, tick_label=xx)\n",
        "ax.set_title('RMSE for interpolation using neighboring stations')\n",
        "ax.legend(['simple mean', 'variance based assimilation'])\n",
        "\n",
        "\n",
        "fig.tight_layout()\n",
        "plt.show()\n",
        "\n",
        "try:  \n",
        "  del rmses, rmses1, msxx, rmset, X, xx, ftup\n",
        "except:\n",
        "  pass"
      ]
    },
    {
      "cell_type": "markdown",
      "metadata": {
        "id": "QzIMCDIQRsEX"
      },
      "source": [
        "Since using assimilation gives less errneous results, it will also be used to fill possible data gaps in mean day models"
      ]
    },
    {
      "cell_type": "code",
      "execution_count": 18,
      "metadata": {
        "id": "er7XR5j5RsEX"
      },
      "outputs": [],
      "source": [
        "# 4) Fill in missing values for mean day and weekend\n",
        "# 4.1) mean weekend\n",
        "rmses = []\n",
        "rmses1 = []\n",
        "xx = []\n",
        "df_endd_mean_n = df_endd_mean.copy()\n",
        "for id in IDs:\n",
        "    if id in stations_df.index:\n",
        "        group_ls = stations_df.loc[id]['grp_linear']\n",
        "        single_df = df_endd_mean[id].copy()\n",
        "        betas = []\n",
        "        alphas = []\n",
        "        lags = []\n",
        "        group_df.drop(columns = group_df.columns, inplace=True)\n",
        "        for ftup in group_ls:\n",
        "            # 5) determine lag for precision improvement\n",
        "            beta = ftup[0]\n",
        "            alpha = ftup[1]\n",
        "            lag = ftup[2]\n",
        "            betas.append(beta)\n",
        "            alphas.append(alpha)\n",
        "            lags.append(lag)\n",
        "            group_df[ftup[3]] = df_endd_mean[ftup[3]]\n",
        "        \n",
        "        df_neighbor_temp, rmset = fill_missing_values_assim(single_df, group_df, lags, betas, alphas)  \n",
        "        df_endd_mean_n[id] = df_neighbor_temp\n",
        "        rmses.append(rmset)\n",
        "        xx.append(id)\n",
        "        \n",
        "df_endd_mean_n = df_endd_mean_n.astype('float').interpolate(method='nearest')\n",
        "df_endd_mean_n = df_endd_mean_n.interpolate(limit_area=None, method='bfill')\n",
        "df_endd_mean_n = df_endd_mean_n.interpolate(limit_area=None, method='ffill');\n",
        "\n",
        "try:       \n",
        "  del beta, alpha, lag, betas, alphas, lags, df_endd_mean\n",
        "except:\n",
        "  pass\n",
        "\n",
        "#print(df_endd_mean.isna().sum())\n",
        "\n",
        "\n",
        "\n",
        "#print(df_workd_mean.isna().sum())\n",
        "#print(df_workd_mean_n.isna().sum())"
      ]
    },
    {
      "cell_type": "code",
      "execution_count": 19,
      "metadata": {
        "id": "FOfqR-PpRsEX"
      },
      "outputs": [],
      "source": [
        "df_workd_mean_n = df_workd_mean.copy()\n",
        "for id in IDs:\n",
        "    if id in stations_df.index:\n",
        "        group_ls = stations_df.loc[id]['grp_linear']\n",
        "        single_df = df_workd_mean[id].copy()\n",
        "        betas = []\n",
        "        alphas = []\n",
        "        lags = []\n",
        "        group_df.drop(columns = group_df.columns, inplace=True)\n",
        "        for ftup in group_ls:\n",
        "            # 5) determine lag for precision improvement\n",
        "            beta = ftup[0]\n",
        "            alpha = ftup[1]\n",
        "            lag = ftup[2]\n",
        "            betas.append(beta)\n",
        "            alphas.append(alpha)\n",
        "            lags.append(lag)\n",
        "            group_df[ftup[3]] = df_workd_mean[ftup[3]]\n",
        "        \n",
        "        df_neighbor_temp, rmset = fill_missing_values_assim(single_df, group_df, lags, betas, alphas)  \n",
        "        df_workd_mean_n[id] = df_neighbor_temp\n",
        "        rmses1.append(rmset)\n",
        "        \n",
        "\n",
        "\n",
        "df_workd_mean_n = df_workd_mean_n.astype('float').interpolate(method='nearest')\n",
        "df_workd_mean_n = df_workd_mean_n.interpolate(limit_area=None, method='bfill')\n",
        "df_workd_mean_n = df_workd_mean_n.interpolate(limit_area=None, method='ffill')\n",
        "\n",
        "try:\n",
        "  del beta, alpha, lag, betas, alphas, lags, df_workd_mean, df_neighbor_temp\n",
        "except:\n",
        "  pass"
      ]
    },
    {
      "cell_type": "markdown",
      "metadata": {
        "id": "52h1oeGuRsEY"
      },
      "source": [
        "#### II.b.4) Mean-day model interpolation ####\n",
        "-> mean work and weekend day are expanded into whole available time period for simpler computations"
      ]
    },
    {
      "cell_type": "code",
      "execution_count": 20,
      "metadata": {
        "id": "IEZJ7i58RsEk"
      },
      "outputs": [],
      "source": [
        "df_mean_ww = df_data_incomplete.loc[df_data_incomplete.index.day_of_week < 5].copy()\n",
        "df_mean_we = df_data_incomplete.loc[df_data_incomplete.index.day_of_week > 4].copy()\n",
        "\n",
        "for moment in daindex:\n",
        "    idxs_work = df_mean_ww.index.indexer_at_time(moment.time())\n",
        "    idxs_end = df_mean_we.index.indexer_at_time(moment.time())\n",
        "    \n",
        "    df_mean_ww.iloc[idxs_work] = df_workd_mean_n.loc[moment]\n",
        "    df_mean_we.iloc[idxs_end] = df_endd_mean_n.loc[moment]\n",
        "    \n",
        "df_mean = pd.concat([df_mean_we, df_mean_ww], axis=0)\n",
        "df_mean.sort_index(inplace=True)\n",
        "\n",
        "try:\n",
        "  del df_mean_ww, df_mean_we, idxs_end, idxs_work, moment\n",
        "except:\n",
        "  pass"
      ]
    },
    {
      "cell_type": "markdown",
      "metadata": {
        "id": "qWJEj242RsEk"
      },
      "source": [
        "#### II.b.4) Determine resampling period ####\n",
        "\n",
        "Determine resampling period based on rmse=f(Tresample)\n",
        "\n",
        "1) for mean interpolation\n",
        "2) for linear interpolation\n",
        "\n",
        "The data is downsampled for sampling periods of [1, 2, 5, 10, 15, 20, 30, 60] minutes and rmse is calculated to provide an esimate for information loss"
      ]
    },
    {
      "cell_type": "markdown",
      "metadata": {
        "id": "_b05oSayRsEl"
      },
      "source": [
        "1) no interpolation - simple resampling"
      ]
    },
    {
      "cell_type": "code",
      "execution_count": 21,
      "metadata": {
        "colab": {
          "base_uri": "https://localhost:8080/",
          "height": 521
        },
        "id": "CAWwDnnjRsEl",
        "outputId": "4467ef23-6839-4cf7-d649-6c6d5a2bcaa1"
      },
      "outputs": [
        {
          "output_type": "stream",
          "name": "stdout",
          "text": [
            "9360\n",
            "9360\n"
          ]
        },
        {
          "output_type": "display_data",
          "data": {
            "text/plain": [
              "<Figure size 640x480 with 2 Axes>"
            ],
            "image/png": "[encoded data removed]"
          },
          "metadata": {}
        }
      ],
      "source": [
        "list_rmses = []\n",
        "resample_pers = [1, 2, 5, 10, 15, 20, 30, 60]\n",
        "fig, ax = plt.subplots(2,1)\n",
        "\n",
        "\n",
        "no_interpolation_res = evaluate_resample(df_data_incomplete, df_data_incomplete) \n",
        "\n",
        "list_rmses.append(list(no_interpolation_res[0].mean()))\n",
        "list_rmses.append(list(no_interpolation_res[1].mean()))\n",
        "list_rmses.append(list(no_interpolation_res[2].mean()))\n",
        "\n",
        "ax[0] = init_ax_resamp(ax[0], resample_pers, list_rmses)\n",
        "ax[0].set_title('No interpolation, only downsampling')  \n",
        "\n",
        "mean_interpolation_res = evaluate_resample(df_data_incomplete, df_mean)\n",
        " \n",
        "list_rmses = []\n",
        "list_rmses.append(list(mean_interpolation_res[0].mean()))\n",
        "list_rmses.append(list(mean_interpolation_res[1].mean()))\n",
        "list_rmses.append(list(mean_interpolation_res[2].mean()))\n",
        "\n",
        "ax[1] = init_ax_resamp(ax[1], resample_pers, list_rmses)\n",
        "ax[1].set_title('Mean day interpolation')\n",
        "\n",
        "fig.tight_layout()\n",
        "plt.show()"
      ]
    },
    {
      "cell_type": "markdown",
      "metadata": {
        "id": "verNY5PMRsEm"
      },
      "source": [
        "1) mean interpolation - average days"
      ]
    },
    {
      "cell_type": "markdown",
      "metadata": {
        "id": "BvyKzjy9RsEm"
      },
      "source": [
        "Although simple downsampling shows lower error, it cannot be used, due to missing values. The average day uses larger datasets for computation, which reduces probability of missing datapoints and also offers simple way of updating the model, since each value is basically an average of all values within given time period.\n",
        "\n",
        "Period of 10mins was chosen due to reasonable precision (compared to other resample periods) and considerable memory savings."
      ]
    },
    {
      "cell_type": "code",
      "execution_count": 22,
      "metadata": {
        "id": "j0te32m9RsEm"
      },
      "outputs": [],
      "source": [
        "df_mean = df_mean.resample('10T').mean()\n",
        "df_mean = df_mean.resample('1T').ffill()\n",
        "df_complete_temp = pd.DataFrame()\n",
        "df_data_complete = df_data_incomplete.copy()\n",
        "rmset = []\n",
        "rmses = []\n",
        "\n",
        "for id in IDs:\n",
        "    if id in stations_df.index:\n",
        "        group_ls = stations_df.loc[id]['grp_linear']\n",
        "        single_df = df_data_incomplete[id].copy()\n",
        "        betas = []\n",
        "        alphas = []\n",
        "        lags = []\n",
        "        group_df.drop(columns = group_df.columns, inplace=True)\n",
        "        for ftup in group_ls:\n",
        "            # 5) determine lag for precision improvement\n",
        "            beta = ftup[0]\n",
        "            alpha = ftup[1]\n",
        "            lag = ftup[2]\n",
        "            betas.append(beta)\n",
        "            alphas.append(alpha)\n",
        "            lags.append(lag)\n",
        "            group_df[ftup[3]] = df_data_incomplete[ftup[3]]\n",
        "            \n",
        "        betas.append(1)\n",
        "        alphas.append(0)\n",
        "        lags.append(0)\n",
        "        group_df['mean'] = df_mean[id]\n",
        "        \n",
        "        df_complete_temp, rmset = fill_missing_values_assim(single_df, group_df, lags, betas, alphas)  \n",
        "        df_data_complete[id] = df_complete_temp\n",
        "        rmses.append(rmset)\n"
      ]
    },
    {
      "cell_type": "code",
      "execution_count": 24,
      "metadata": {
        "colab": {
          "base_uri": "https://localhost:8080/",
          "height": 487
        },
        "id": "71RFsTCVRsEm",
        "outputId": "35c80729-a6a3-4501-8fb1-44b8e7a7dff4"
      },
      "outputs": [
        {
          "output_type": "display_data",
          "data": {
            "text/plain": [
              "<Figure size 640x480 with 1 Axes>"
            ],
            "image/png": "[encoded data removed]"
          },
          "metadata": {}
        }
      ],
      "source": [
        "fig, ax = plt.subplots(1,1) \n",
        "\n",
        "arr2 = []\n",
        "\n",
        "for i in range(0,len(rmses)):\n",
        "    if len(rmses[i]) > 0:\n",
        "        arr2.append(rmses[i][0])\n",
        "    else:\n",
        "        arr2.append(0)\n",
        "        \n",
        "X = np.arange(len(xx))\n",
        "\n",
        "ax.set_xlabel('station ID')\n",
        "ax.set_ylabel('RMSE [dB]')\n",
        "ax.bar(X-.18, arr0, color='r', width = 0.33)\n",
        "ax.bar(X, arr1, color='g', width = 0.33, tick_label=xx)\n",
        "ax.bar(X+.18, arr2, color='b', width = 0.33)\n",
        "ax.set_title('RMSE for interpolation using neighboring stations')\n",
        "ax.legend(['simple mean', 'variance based assimilation', 'complete assimilation'])\n",
        "\n",
        "\n",
        "fig.tight_layout()\n",
        "plt.show()\n",
        "\n",
        "del rmses, rmses1, rmset, X, xx, ftup"
      ]
    },
    {
      "cell_type": "code",
      "execution_count": 26,
      "metadata": {
        "id": "nYToC5VjRsEn"
      },
      "outputs": [],
      "source": [
        "dir_path = '/content/drive/MyDrive/LSIS/data/'\n",
        "df_data_complete = df_data_complete.round(1)\n",
        "df_data_complete.to_csv(dir_path + 'interpolated_data_1.csv')\n",
        "df_endd_mean_n = df_endd_mean_n.round(1)\n",
        "df_endd_mean_n.to_csv(dir_path + 'mean_endd_1.csv')\n",
        "df_workd_mean_n = df_workd_mean_n.round(1)\n",
        "df_workd_mean_n.to_csv(dir_path + 'mean_workd_1.csv')"
      ]
    },
    {
      "cell_type": "markdown",
      "metadata": {
        "id": "EFSXkbAtRsEn",
        "pycharm": {
          "name": "#%% md\n"
        }
      },
      "source": [
        "# TESTING #"
      ]
    },
    {
      "cell_type": "code",
      "execution_count": null,
      "metadata": {
        "id": "dy3qqET0RsEo"
      },
      "outputs": [],
      "source": [
        "df_data_complete.interpolate(inplace=True, method='nearest')"
      ]
    },
    {
      "cell_type": "code",
      "execution_count": null,
      "metadata": {
        "id": "UFYn6rBjRsEo"
      },
      "outputs": [],
      "source": [
        "xx.append(IDs[-1])"
      ]
    },
    {
      "cell_type": "code",
      "execution_count": null,
      "metadata": {
        "id": "jpU1YT2_RsEo",
        "pycharm": {
          "name": "#%%\n"
        }
      },
      "outputs": [],
      "source": [
        "print(df_data_neighbor.isna().sum())"
      ]
    },
    {
      "cell_type": "code",
      "execution_count": null,
      "metadata": {
        "id": "oN7FkxxvRsEo"
      },
      "outputs": [],
      "source": [
        "def apply_assimilation(row, vars):\n",
        "    rmt= vars[row.notna()]\n",
        "    rmt1 = np.zeros([len(rmt)])\n",
        "    idxs = np.arange(len(rmt))\n",
        "    for i in idxs:\n",
        "        rmt1[i] = np.prod(rmt[idxs != i])\n",
        "\n",
        "    k_kal = (rmt1) / sum(rmt1)\n",
        "\n",
        "    row = row.dropna()\n",
        "    row = row * k_kal\n",
        "    \n",
        "    #2 ) return assimilated data\n",
        "    return row.sum()\n",
        "ll = np.array(group_df.iloc[5])\n",
        "coefs = np.array([.1, .3, .5])\n",
        "apply_assimilation(ll, coefs)"
      ]
    },
    {
      "cell_type": "markdown",
      "metadata": {
        "id": "rS7XVlp6RsEp"
      },
      "source": []
    },
    {
      "cell_type": "code",
      "execution_count": null,
      "metadata": {
        "id": "apXzSmeNRsEp"
      },
      "outputs": [],
      "source": [
        "stations_df['latitude'][IDs[2]]"
      ]
    },
    {
      "cell_type": "code",
      "execution_count": 3,
      "metadata": {
        "id": "QVGgTfM1RsEp",
        "pycharm": {
          "name": "#%%\n"
        },
        "outputId": "b51ddb71-b7ee-4adb-a61c-b271ef4ad4f3",
        "colab": {
          "base_uri": "https://localhost:8080/"
        }
      },
      "outputs": [
        {
          "output_type": "execute_result",
          "data": {
            "text/plain": [
              "<bound method NDFrame._add_numeric_operations.<locals>.sum of        Unnamed: 0   201D   2043   229B   2284   2346   2241   2355   23AE  \\\n",
              "0           False  False  False  False  False  False  False  False  False   \n",
              "1           False  False  False  False  False  False  False  False  False   \n",
              "2           False  False  False  False  False  False  False  False  False   \n",
              "3           False  False  False  False  False  False  False  False  False   \n",
              "4           False  False  False  False  False  False  False  False  False   \n",
              "...           ...    ...    ...    ...    ...    ...    ...    ...    ...   \n",
              "18715       False  False  False  False  False  False  False  False  False   \n",
              "18716       False  False  False  False  False  False  False  False  False   \n",
              "18717       False  False  False  False  False  False  False  False  False   \n",
              "18718       False  False  False  False  False  False  False  False  False   \n",
              "18719       False  False  False  False  False  False  False  False  False   \n",
              "\n",
              "        2381  ...   2398   229D   2266   221E   225D   2240   2396   21C2  \\\n",
              "0      False  ...  False  False  False  False  False  False  False  False   \n",
              "1      False  ...  False  False  False  False  False  False  False  False   \n",
              "2      False  ...  False  False  False  False  False  False  False  False   \n",
              "3      False  ...  False  False  False  False  False  False  False  False   \n",
              "4      False  ...  False  False  False  False  False  False  False  False   \n",
              "...      ...  ...    ...    ...    ...    ...    ...    ...    ...    ...   \n",
              "18715  False  ...  False  False  False  False  False  False  False  False   \n",
              "18716  False  ...  False  False  False  False  False  False  False  False   \n",
              "18717  False  ...  False  False  False  False  False  False  False  False   \n",
              "18718  False  ...  False  False  False  False  False  False  False  False   \n",
              "18719  False  ...  False  False  False  False  False  False  False  False   \n",
              "\n",
              "        2289   2329  \n",
              "0      False  False  \n",
              "1      False  False  \n",
              "2      False  False  \n",
              "3      False  False  \n",
              "4      False  False  \n",
              "...      ...    ...  \n",
              "18715  False  False  \n",
              "18716  False  False  \n",
              "18717  False  False  \n",
              "18718  False  False  \n",
              "18719  False  False  \n",
              "\n",
              "[18720 rows x 242 columns]>"
            ]
          },
          "metadata": {},
          "execution_count": 3
        }
      ],
      "source": [
        "df_data_complete = pd.read_csv(dir_path + 'interpolated_data_1.csv');\n",
        "df_data_complete = df_data_complete.interpolate(method='nearest')\n",
        "df_data_complete = df_data_complete.interpolate(method='bfill')\n",
        "df_data_complete = df_data_complete.interpolate(method='ffill')\n",
        "df_data_complete.isna().sum"
      ]
    },
    {
      "cell_type": "code",
      "source": [
        "df_data_complete.to_csv(dir_path + 'interpolated_data_1.csv')"
      ],
      "metadata": {
        "id": "58fPDsudMRDC"
      },
      "execution_count": 4,
      "outputs": []
    }
  ],
  "metadata": {
    "colab": {
      "provenance": []
    },
    "kernelspec": {
      "display_name": "Python 3 (ipykernel)",
      "language": "python",
      "name": "python3"
    },
    "language_info": {
      "codemirror_mode": {
        "name": "ipython",
        "version": 3
      },
      "file_extension": ".py",
      "mimetype": "text/x-python",
      "name": "python",
      "nbconvert_exporter": "python",
      "pygments_lexer": "ipython3",
      "version": "3.11.3"
    }
  },
  "nbformat": 4,
  "nbformat_minor": 0
}