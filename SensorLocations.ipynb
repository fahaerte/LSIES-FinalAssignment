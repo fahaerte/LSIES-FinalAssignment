{
 "cells": [
  {
   "cell_type": "code",
   "execution_count": 4,
   "metadata": {
    "collapsed": true,
    "pycharm": {
     "name": "#%%\n"
    }
   },
   "outputs": [],
   "source": [
    "import pandas\n",
    "import pandas as pd\n",
    "import os\n",
    "from datetime import datetime\n",
    "import matplotlib.pyplot as plt\n",
    "from sklearn.metrics import r2_score\n",
    "import numpy as np\n",
    "from csv import reader\n"
   ]
  },
  {
   "cell_type": "code",
   "execution_count": 55,
   "outputs": [
    {
     "name": "stdout",
     "output_type": "stream",
     "text": [
      "  sensor_name   latitude  longitude region\n",
      "0        2004  24.726405  59.398497       \n",
      "0        2013  24.748805  59.434405       \n",
      "0        2015  24.751089  59.434361       \n",
      "0        2018  24.726473  59.396803       \n",
      "0        201A  24.744596  59.441991       \n"
     ]
    }
   ],
   "source": [
    "csv_file_name = 'sensor_positions.csv'\n",
    "columns = ['sensor_name', 'latitude', 'longitude', 'region']\n",
    "sensor_df = pd.DataFrame(columns=columns, index=[0])\n",
    "\n",
    "with open('./data/' + csv_file_name, 'r') as read_obj:\n",
    "    csv_reader = reader(read_obj)\n",
    "    for row in csv_reader:\n",
    "        data = {columns[0]: row[1], columns[1]: float(row[0].split(' ')[0].replace('(', '')), columns[2]: float(row[0].split(' ')[1].replace(')', '')), columns[3] : ''}\n",
    "        data_df = pd.DataFrame(data, columns=columns, index=[0])\n",
    "        sensor_df = pd.concat([sensor_df, data_df])\n",
    "\n",
    "sensor_df = sensor_df.dropna()"
   ],
   "metadata": {
    "collapsed": false,
    "pycharm": {
     "name": "#%%\n"
    }
   }
  },
  {
   "cell_type": "code",
   "execution_count": 58,
   "outputs": [
    {
     "name": "stdout",
     "output_type": "stream",
     "text": [
      "  sensor_name   latitude  longitude region\n",
      "0        2004  24.726405  59.398497      2\n",
      "0        2013  24.748805  59.434405      2\n",
      "0        2015  24.751089  59.434361      2\n",
      "0        2018  24.726473  59.396803      1\n",
      "0        201A  24.744596  59.441991      2\n"
     ]
    }
   ],
   "source": [
    "folders = ['region_1_mustamäe_kristiine', 'region_2_data_kesklinn', 'region_3_kadriorg_lasnamäe', 'region_4_ülemiste']\n",
    "\n",
    "for folder in folders:\n",
    "    for file in os.listdir('data/' + folder):\n",
    "        sensor_name = file.split('-')[0]\n",
    "        region = int(folder.split('_')[1])\n",
    "        sensor_df.loc[sensor_df.sensor_name==sensor_name, 'region'] = region\n",
    "\n",
    "print(sensor_df.head())\n",
    "\n",
    "\n"
   ],
   "metadata": {
    "collapsed": false,
    "pycharm": {
     "name": "#%%\n"
    }
   }
  }
 ],
 "metadata": {
  "kernelspec": {
   "display_name": "Python 3",
   "language": "python",
   "name": "python3"
  },
  "language_info": {
   "codemirror_mode": {
    "name": "ipython",
    "version": 2
   },
   "file_extension": ".py",
   "mimetype": "text/x-python",
   "name": "python",
   "nbconvert_exporter": "python",
   "pygments_lexer": "ipython2",
   "version": "2.7.6"
  }
 },
 "nbformat": 4,
 "nbformat_minor": 0
}